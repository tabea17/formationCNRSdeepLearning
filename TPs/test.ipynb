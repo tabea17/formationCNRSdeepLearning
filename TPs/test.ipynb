{
 "cells": [
  {
   "cell_type": "markdown",
   "id": "58a666cf-1318-4580-a61e-f6c4ff103c8a",
   "metadata": {},
   "source": [
    "# Test des dépendances\n",
    "\n",
    "Exécuter la cellule suivante pour vérifier que les paquets nécessaires à la formation ont bien été installés."
   ]
  },
  {
   "cell_type": "code",
   "execution_count": null,
   "id": "a2328a46-ae2b-4efe-a6c3-21e401da9b18",
   "metadata": {},
   "outputs": [],
   "source": [
    "import numpy\n",
    "import pandas\n",
    "import matplotlib\n",
    "import seaborn\n",
    "import sklearn\n",
    "import torch\n",
    "import torchvision\n",
    "import torchinfo\n",
    "import copy\n",
    "import tqdm\n",
    "import scipy\n",
    "import requests"
   ]
  }
 ],
 "metadata": {
  "kernelspec": {
   "display_name": "Python 3 (ipykernel)",
   "language": "python",
   "name": "python3"
  },
  "language_info": {
   "codemirror_mode": {
    "name": "ipython",
    "version": 3
   },
   "file_extension": ".py",
   "mimetype": "text/x-python",
   "name": "python",
   "nbconvert_exporter": "python",
   "pygments_lexer": "ipython3",
   "version": "3.11.9"
  }
 },
 "nbformat": 4,
 "nbformat_minor": 5
}
