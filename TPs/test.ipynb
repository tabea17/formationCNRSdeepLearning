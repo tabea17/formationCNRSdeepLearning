{
 "cells": [
  {
   "cell_type": "markdown",
   "id": "58a666cf-1318-4580-a61e-f6c4ff103c8a",
   "metadata": {},
   "source": [
    "# Test des dépendances\n",
    "\n",
    "Exécuter la cellule suivante pour vérifier que les paquets nécessaires à la formation ont bien été installés."
   ]
  },
  {
   "cell_type": "code",
   "execution_count": null,
   "id": "a2328a46-ae2b-4efe-a6c3-21e401da9b18",
   "metadata": {},
   "outputs": [],
   "source": [
    "import numpy\n",
    "import pandas\n",
    "import matplotlib\n",
    "import seaborn\n",
    "import sklearn\n",
    "import torch\n",
    "import torchvision\n",
    "import torchinfo\n",
    "import copy\n",
    "import tqdm\n",
    "import scipy\n",
    "import requests"
   ]
  },
  {
   "cell_type": "markdown",
   "id": "33a10de1-14af-45dc-9dd9-34359d3afca6",
   "metadata": {},
   "source": [
    "# Quelques commandes  \n",
    "\n",
    "Il existe plusieurs raccourcis clavier pour exécuter les actions plus courantes dans un notebook.\n",
    "\n",
    "### Édition\n",
    "- `B` : Ajoute une cellule sous la cellule courante\n",
    "- `A` : Ajoute une cellule au dessus de la cellule courante\n",
    "- `D,D` : Efface la cellule courante\n",
    "- `C` : Copie la cellule courante\n",
    "- `X` : Coupe la cellule courante\n",
    "- `V` : Colle la cellule copiée\n",
    "- `Z` : Undo\n",
    "- `Y` : Changer le type de cellule en \"Code\"\n",
    "- `M` : Changer le type de cellule en \"Markdown\"\n",
    "- `Entrée` : Changer la cellule en mode édition\n",
    "- `ESC` : Sortir mode édition\n",
    "\n",
    "### Exécution\n",
    "\n",
    "- `Flèche haut/bas` : Naviguer entre les cellules\n",
    "- `Maj + Flèche haut/bas` : Sélectionner plusieurs cellules\n",
    "- `Ctrl + Entrée` : Exécuter les cellules sélectionnées\n",
    "- `Maj + Entrée` : Exécuter les cellules sélectionnées et passer à la suivante\n",
    "- `Alt + Entrée` : Exécuter les cellules sélectionnées et passer à une nouvelle cellule\n",
    "\n",
    "### Kernel\n",
    "\n",
    "- `Ctrl + R` : Redémarrer le kernel et efface tous les résultats.\n",
    "- `Ctrl + I` : Interrompre le kernel."
   ]
  },
  {
   "cell_type": "markdown",
   "id": "28216119-fe88-4b35-9a31-cf11b50a746c",
   "metadata": {},
   "source": [
    "## Python\n",
    "\n",
    "Pour connaître la version d'une librairie : \n"
   ]
  },
  {
   "cell_type": "code",
   "execution_count": null,
   "id": "6132b7fc-7cd0-4796-a859-f0ad9c3818b6",
   "metadata": {},
   "outputs": [],
   "source": [
    "!pip show matplotlib"
   ]
  },
  {
   "cell_type": "markdown",
   "id": "d970e279-d0f4-4b8b-830b-4783657bc0de",
   "metadata": {},
   "source": [
    "Pour la mettre à jour : "
   ]
  },
  {
   "cell_type": "code",
   "execution_count": null,
   "id": "93be5256-dbcb-4ecd-961c-1b8badb73ce5",
   "metadata": {},
   "outputs": [],
   "source": [
    "!pip install --upgrade matplotlib"
   ]
  },
  {
   "cell_type": "markdown",
   "id": "f14fd169-7885-48fb-964e-0361ea419e1e",
   "metadata": {},
   "source": [
    "Pour avoir la liste des paquets qu'on peut mettre à jour :"
   ]
  },
  {
   "cell_type": "code",
   "execution_count": null,
   "id": "0d824349-b25c-424d-8b86-1d3fddc95442",
   "metadata": {},
   "outputs": [],
   "source": [
    "!pip list --outdated"
   ]
  }
 ],
 "metadata": {
  "kernelspec": {
   "display_name": "Python 3 (ipykernel)",
   "language": "python",
   "name": "python3"
  },
  "language_info": {
   "codemirror_mode": {
    "name": "ipython",
    "version": 3
   },
   "file_extension": ".py",
   "mimetype": "text/x-python",
   "name": "python",
   "nbconvert_exporter": "python",
   "pygments_lexer": "ipython3",
   "version": "3.13.3"
  }
 },
 "nbformat": 4,
 "nbformat_minor": 5
}
