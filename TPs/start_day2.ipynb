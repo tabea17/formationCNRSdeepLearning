{
 "cells": [
  {
   "cell_type": "code",
   "execution_count": 3,
   "id": "08d4710d-b4e2-4fab-a6b3-ab313cbf84fe",
   "metadata": {},
   "outputs": [],
   "source": [
    "import numpy as np\n",
    "import pandas as pd\n",
    "\n",
    "pd.options.mode.chained_assignment = None \n",
    "pd.options.display.float_format = '{:,.2f}'.format\n",
    "\n",
    "path = 'data/'\n",
    "\n",
    "data = pd.read_pickle(path + \"data.pkl\")"
   ]
  },
  {
   "cell_type": "code",
   "execution_count": 4,
   "id": "ca4785a7-a889-47c3-ac74-fffd011552e0",
   "metadata": {},
   "outputs": [],
   "source": [
    "moisCol = pd.get_dummies(data[['Mois']])\n",
    "jourCol = pd.get_dummies(data[['Jour']])\n",
    "jourFerieTypeCol = pd.get_dummies(data[['JourFerieType']])\n"
   ]
  },
  {
   "cell_type": "code",
   "execution_count": 5,
   "id": "2e3f8d30-cff8-4991-8f40-b8bf7eb5ea00",
   "metadata": {},
   "outputs": [],
   "source": [
    "data_with_dummies = pd.concat([data.drop(columns=['Mois', 'Jour', 'JourFerieType']), moisCol, jourCol, jourFerieTypeCol], axis=1)"
   ]
  },
  {
   "cell_type": "code",
   "execution_count": 6,
   "id": "05d33c01-cb66-45b8-9412-87ad596f3aa0",
   "metadata": {},
   "outputs": [],
   "source": [
    "from sklearn.model_selection import train_test_split\n",
    "X_train, X_test, Y_train, Y_test = train_test_split(data_with_dummies.drop(columns=['DateTime', 'Consommation']), data_with_dummies['Consommation'], test_size=0.5, random_state=999)"
   ]
  },
  {
   "cell_type": "code",
   "execution_count": 7,
   "id": "b64a764e-9620-4481-9fbd-17b3ef58af1d",
   "metadata": {},
   "outputs": [],
   "source": [
    "from sklearn.metrics import mean_absolute_percentage_error as mape\n",
    "from sklearn.metrics import root_mean_squared_error as rmse"
   ]
  },
  {
   "cell_type": "code",
   "execution_count": 9,
   "id": "043bf582-af3c-4764-a895-a62d792c54dd",
   "metadata": {},
   "outputs": [
    {
     "name": "stdout",
     "output_type": "stream",
     "text": [
      "On train set\n",
      "\n",
      "The MAPE in naive prediction with mean is 18.80%.\n",
      "The RMSE in naive prediction with mean is 11760.80.\n",
      "\n",
      "On test set\n",
      "\n",
      "The MAPE in naive prediction with mean is 18.88%.\n",
      "The RMSE in naive prediction with mean is 11807.62.\n"
     ]
    }
   ],
   "source": [
    "# Naive predictor\n",
    "predict_naive_test = np.repeat(Y_train.values.mean(),len(Y_test), axis = 0)\n",
    "predict_naive_train = np.repeat(Y_train.values.mean(),len(Y_train), axis = 0)\n",
    "\n",
    "mape_test = mape(Y_test, predict_naive_test)*100\n",
    "mape_train = mape(Y_train, predict_naive_train)*100\n",
    "\n",
    "rmse_test = rmse(Y_test, predict_naive_test)\n",
    "rmse_train = rmse(Y_train, predict_naive_train)\n",
    "\n",
    "print('On train set\\n')\n",
    "print(f'The MAPE in naive prediction with mean is {mape_train:.2f}%.')\n",
    "print(f'The RMSE in naive prediction with mean is {rmse_train:.2f}.')\n",
    "print('\\nOn test set\\n')\n",
    "print(f'The MAPE in naive prediction with mean is {mape_test:.2f}%.')\n",
    "print(f'The RMSE in naive prediction with mean is {rmse_test:.2f}.')"
   ]
  },
  {
   "cell_type": "code",
   "execution_count": 12,
   "id": "2080720f-26c9-4e14-bd7b-8542e15cd7bf",
   "metadata": {},
   "outputs": [],
   "source": [
    "import time as tm\n",
    "\n",
    "def fit_and_predict_error(model, x_train, y_train, x_test, y_test):\n",
    "    start_time = tm.time()\n",
    "    model.fit(x_train, y_train)\n",
    "    predict_train = model.predict(x_train)\n",
    "    predict_test = model.predict(x_test)\n",
    "    end_time = tm.time()\n",
    "\n",
    "    mape_test = mape(y_test, predict_test)*100\n",
    "    rmse_test = rmse(y_test, predict_test)\n",
    "    \n",
    "    print('\\nOn test set\\n')\n",
    "    print(f'The MAPE is {mape_test:.2f}%.')\n",
    "    print(f'The RMSE is {rmse_test:.2f}.')\n",
    "    \n",
    "    return {'train' : predict_train, 'test' : predict_test, \n",
    "            'mape_train' : mape(y_train, predict_train)*100,\n",
    "            'mape_test' : mape_test,\n",
    "            'rmse_train' : rmse(y_train, predict_train), \n",
    "            'rmse_test' : rmse_test, \n",
    "            'time' : end_time-start_time}"
   ]
  },
  {
   "cell_type": "code",
   "execution_count": 13,
   "id": "c7908777-a72a-40d3-afd9-f7c42459eb31",
   "metadata": {},
   "outputs": [],
   "source": [
    "def add_error(model_out, model_name, df):\n",
    "    return df._append({'Model' : model_name, \n",
    "                  'MAPE test' : model_out['mape_test'], \n",
    "                  'RMSE test' : model_out['rmse_test'], \n",
    "                  'MAPE train' : model_out['mape_train'], \n",
    "                  'RMSE train' : model_out['rmse_train'], \n",
    "                  'CPU time' : model_out['time']}, ignore_index=True)"
   ]
  },
  {
   "cell_type": "code",
   "execution_count": 14,
   "id": "8914cf3a-0455-48fb-a8f5-1150b1282bf3",
   "metadata": {},
   "outputs": [],
   "source": [
    "from sklearn import linear_model\n",
    "from sklearn.linear_model import LinearRegression\n",
    "from sklearn.pipeline import make_pipeline\n",
    "from sklearn.preprocessing import StandardScaler"
   ]
  },
  {
   "cell_type": "code",
   "execution_count": null,
   "id": "b901f596-617b-4a2d-872b-0f2080548832",
   "metadata": {},
   "outputs": [],
   "source": [
    "features = ['Temperature', 'Nebulosity', 'Humidity', 'WindSpeed', 'Precipitation', 'PositionDansAnnee', 'DemiHeure', 'JourFerie',  'Vacances', 'MJour', 'Annee', 'is.2020']\n",
    "\n",
    "X_train_S = X_train[features]\n",
    "X_train_L = X_train\n",
    "\n",
    "X_test_S = X_test[features]\n",
    "X_test_L = X_test"
   ]
  }
 ],
 "metadata": {
  "kernelspec": {
   "display_name": "Python 3 (ipykernel)",
   "language": "python",
   "name": "python3"
  },
  "language_info": {
   "codemirror_mode": {
    "name": "ipython",
    "version": 3
   },
   "file_extension": ".py",
   "mimetype": "text/x-python",
   "name": "python",
   "nbconvert_exporter": "python",
   "pygments_lexer": "ipython3",
   "version": "3.13.3"
  }
 },
 "nbformat": 4,
 "nbformat_minor": 5
}
