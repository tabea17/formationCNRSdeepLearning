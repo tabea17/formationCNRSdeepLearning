{
 "cells": [
  {
   "cell_type": "markdown",
   "metadata": {
    "tags": [],
    "user_expressions": []
   },
   "source": [
    "# Prévision de courbes de charge de consommation électrique\n",
    "\n",
    "Dans ce TP nous allons travailler sur un jeu de données qui représente la consommation électrique d'un site sur une longue durée avec une résolution assez fine. L’objectif est de construire un modèle afin de **prévoir la courbe de charge** de la consommation électrique future.\n",
    "\n",
    "Les données forment une **série temporelle**. On observe la courbe de charge à intervalle régulier (toutes les 10 minutes) sur une longue durée  et on souhaite prédire le futur.\n",
    "\n",
    "![Série temporelle](img/timeSeries1.jpeg)\n",
    "\n",
    "Plus précisément, nous souhaitons un modèle qui prédit la courbe de charge électrique pour le jour suivant par rapport à l'historique des données. Par exemple, si nous sommes le 09/10/2012 à 13:30, il s'agit de prévoir la courbe de charge de consommation sur les prochaines 24 heures (toutes les 10 minutes, c'est-à-dire 144 valeurs).\n",
    "\n",
    "\n",
    "En statistique il existe des modèles puissants pour l'études des séries temporelles et il est également possible d'utiliser une approche deep learning pour aborder ce problème. En revanche, vu que nous n'avons pas le temps dans ce cours d'étudier ces modèles, nous commencerons par explorer l'utilisation d'un simple **modèle linéaire** et nous verrons ensuite une première applications des forêts aléatoires.\n",
    "\n"
   ]
  },
  {
   "cell_type": "markdown",
   "metadata": {},
   "source": [
    "L’atelier est scindé en deux étapes :\n",
    "\n",
    "* **Étape 1**. **Pré-traitement des données.**  \n",
    "Cette étape contient :\n",
    "\n",
    "    - L’import et l’audit des données : vérification rapide du contenu des fichiers de travail. Permet d’avoir une idée des méthodologies possibles à utiliser. \n",
    "\n",
    "    - Mise au format des données. En effet, pour étudier cette série temporelle, il va falloir découper les données en périodes (d'une durée à fixer) dont on va observer des réplicats (dans le temps).\n",
    "    \n",
    "* **Étape 2**. **Modélisation : apprentissage et test.**  \n",
    "Plusieurs modélisations sont proposées :\n",
    "\n",
    "    - Approche naïve\n",
    "    - Régression linéaire\n",
    "    - Random Forest\n",
    "    - Gradient Boosting\n"
   ]
  },
  {
   "cell_type": "markdown",
   "metadata": {},
   "source": [
    "## Préparation et exploration des données"
   ]
  },
  {
   "cell_type": "markdown",
   "metadata": {},
   "source": [
    "Les données à disposition sont contenues dans le fichier  `Courbes_Charge08.csv` à charger et qui contient \n",
    "\n",
    "   - la **consommation d'éléctricité** relevée **toutes les 10 minutes sur le site ID08**\n",
    "   - la **température** sur le site ID08 relevée physiquement toutes les 3 heures. Les données sur les temps intermédiaires ont été complétées par interpolation linéaire. \n",
    "\n",
    "Avant d'importer le fichier, on peut  afficher les premières lignes avec la commande suivante :"
   ]
  },
  {
   "cell_type": "code",
   "execution_count": null,
   "metadata": {},
   "outputs": [],
   "source": [
    "%%bash\n",
    "head -10 'data/Courbes_Charge08.csv'"
   ]
  },
  {
   "cell_type": "markdown",
   "metadata": {},
   "source": [
    "Si la commande précédente ne fonctionne pas sur votre OS :"
   ]
  },
  {
   "cell_type": "code",
   "execution_count": null,
   "metadata": {},
   "outputs": [],
   "source": [
    "file = open('data/Courbes_Charge08.csv', 'r')\n",
    "for i, line in zip(range(5), file):\n",
    "   print(i, line.strip())"
   ]
  },
  {
   "cell_type": "markdown",
   "metadata": {},
   "source": [
    "Notez qu'on ne sait pas si les dates sont codées en jour/mois/année ou mois/jour/année. On peut le voir en affichant une ligne un peu plus loin : "
   ]
  },
  {
   "cell_type": "code",
   "execution_count": null,
   "metadata": {},
   "outputs": [],
   "source": [
    "for i, line in enumerate(file):\n",
    "    if i == 4000:\n",
    "        print(i, line)\n",
    "        break"
   ]
  },
  {
   "cell_type": "markdown",
   "metadata": {},
   "source": [
    "Là on constate qu'il s'agit d'un codage jour/mois/année."
   ]
  },
  {
   "cell_type": "markdown",
   "metadata": {},
   "source": [
    "### Exercice 1\n",
    "\n",
    "\n",
    "Importez les données dans un dataframe (de la bibliothèque `pandas`) nommé `df_raw` :\n",
    "\n",
    "- L'option `parse_dates` de la fonction `read_csv` de pandas vous permet de lire correctement la variable de la date. \n",
    "- Faites attention au format de la température. \n",
    "- On transformera les noms de variables en minuscules (usage python). "
   ]
  },
  {
   "cell_type": "code",
   "execution_count": null,
   "metadata": {
    "tags": [
     "to_fill"
    ]
   },
   "outputs": [],
   "source": [
    "# Réponse"
   ]
  },
  {
   "cell_type": "markdown",
   "metadata": {},
   "source": [
    "### Réponse"
   ]
  },
  {
   "cell_type": "markdown",
   "metadata": {
    "tags": []
   },
   "source": [
    "### Exercice 2\n",
    "\n",
    "Nous allons créer, à partir du dataframe de départ `df_raw`, un deuxième dataframe `df` sur lequel nous allons travailler.\n",
    "\n",
    "- Répartir l'information contenue dans la colonne `date_local` de `df_raw` en plusieurs colonnes de sorte à afficher séparement la date, le numéro de semaine, le numéro de jour, le jour de la semaine (0 pour lundi, 1 pour mardi, ...) et l'heure. Nous allons travailler uniquement sur la charge, il faut donc également supprimer la colonne des températures.\n",
    "\n",
    "- Vérifier qu'il n'y a pas de données manquantes.\n",
    "\n",
    "- Travailler sur des semaines complètes, qui commencent un lundi.\n"
   ]
  },
  {
   "cell_type": "code",
   "execution_count": null,
   "metadata": {
    "tags": [
     "to_fill"
    ]
   },
   "outputs": [],
   "source": [
    "# Réponse"
   ]
  },
  {
   "cell_type": "markdown",
   "metadata": {},
   "source": [
    "### Réponse"
   ]
  },
  {
   "cell_type": "markdown",
   "metadata": {},
   "source": [
    "### Exercice 3\n",
    "\n",
    "`pandas` est dit *row-major*, ce qui signifie que les éléments d'un tableau multidimensionnel sont disposés séquentiellement ligne par ligne. Ceci est cohérent avec la vision d'un dataframe comme un ensemble d'individus (ou d'observations), chacun représenté par une ligne du tableau, qui ont des caractéristiques, représentées par les colonnes. \n",
    "Dans notre exemple, pour prendre en compte la périodicité des données (qui sera de un jour ou bien d'une semaine),  il convient de transformer le dataframe pour que chaque ligne corresponde à une période.  \n",
    "\n",
    "#### Période: 1 jour\n",
    "\n",
    "- Créer un dataframe `df_day` avec les charges ordonnées par période d'un jour. Les colonnes de ce dataframe vont être les 144 intervals de 10 minutes qui donnent un jour. On pourra utiliser la fonction `reshape`.\n",
    "- Visualiser les données de `df_day`, en affichant moyenne, min, max et déviation standard."
   ]
  },
  {
   "cell_type": "code",
   "execution_count": null,
   "metadata": {
    "tags": [
     "to_fill"
    ]
   },
   "outputs": [],
   "source": [
    "# Réponse"
   ]
  },
  {
   "cell_type": "markdown",
   "metadata": {},
   "source": [
    "### Réponse"
   ]
  },
  {
   "cell_type": "markdown",
   "metadata": {},
   "source": [
    "### Exercice 4\n",
    "\n",
    "#### Période: 1 semaine\n",
    "\n",
    "- À l'aide de la fonction `pd.MultiIndex.from_tuples` créer un multi-index pour `df_day` qui affiche le numéro de semaine et le numéro de jour de la semaine.\n",
    "\n",
    "- Créer un dataframe `df_week` avec les charges ordonnées par période d'une semaine à partir du dataframe `df_day` en utilisant les fonctions `stack` et `unstack`. Les colonnes de ce dataframe vont être les 144 intervals de 10 minutes qui donnent un jour, répétés 7 fois, une pour chaque jour de la semaine.\n",
    "\n",
    "- Visualiser les données de `df_week` comme fait précédemment pour `df_day`."
   ]
  },
  {
   "cell_type": "code",
   "execution_count": null,
   "metadata": {
    "tags": [
     "to_fill"
    ]
   },
   "outputs": [],
   "source": [
    "# Réponse"
   ]
  },
  {
   "cell_type": "markdown",
   "metadata": {},
   "source": [
    "### Réponse"
   ]
  },
  {
   "cell_type": "markdown",
   "metadata": {
    "tags": []
   },
   "source": [
    "## Modélisation : prédiction niveau 0\n",
    "\n",
    "Une approche naïve consiste à utiliser comme prédicteur :\n",
    "- soit la charge moyenne par heure (prise sur tous les jours de l'année via le dataframe `df_day`) \n",
    "- soit la charge moyenne par heure et par type de jour (en utilisant la périodicité hebdomadaire de `df_week`)"
   ]
  },
  {
   "cell_type": "markdown",
   "metadata": {},
   "source": [
    "### Exercice 5\n",
    "\n",
    "Créer un premier prédicteur naïf avec la moyenne par jour et la moyenne par semaine.\n",
    "\n",
    "- Créer un predicteur naïf avec la moyenne par heure sur l'ensemble du dataframe, et afficher l'erreur quadratique et l'erreur MAPE (erreur moyenne absolue en pourcentage)\n",
    "- Faire la même chose avec une période d'une semaine, en utilisant comme prédicteur la moyenne par heure et par type de jour."
   ]
  },
  {
   "cell_type": "markdown",
   "metadata": {},
   "source": [
    "*Remarque* : Nous n'allons pas séparer les données en train set et test set, il s'agit juste de fournir un prédicteur naïf à comparer avec les suivants."
   ]
  },
  {
   "cell_type": "code",
   "execution_count": null,
   "metadata": {
    "tags": [
     "to_fill"
    ]
   },
   "outputs": [],
   "source": [
    "# Réponse"
   ]
  },
  {
   "cell_type": "markdown",
   "metadata": {},
   "source": [
    "### Réponse"
   ]
  },
  {
   "cell_type": "markdown",
   "metadata": {},
   "source": [
    "### Exercice 6\n",
    "\n",
    "Faire une première analyse des résultats obtenus.\n",
    "\n",
    "1. Une modélisation *à la journée* est-t-elle judicieuse à votre avis ?\n",
    "\n",
    "2. Choisir de modéliser *à la semaine* plutôt qu'*à la journée* ne semble-t-il pas plus pertinent ? Pourquoi ? "
   ]
  },
  {
   "cell_type": "markdown",
   "metadata": {},
   "source": [
    "Réponse : "
   ]
  },
  {
   "cell_type": "markdown",
   "metadata": {
    "tags": [],
    "user_expressions": []
   },
   "source": [
    "## Modèle linéaire\n",
    "\n",
    "Pour mettre en oeuvre un modèle linéaire, plusieurs approches sont possibles. \n",
    "### Modèle sans périodicité\n",
    "\n",
    "Notons  $x_t$ pout $t=1,2,3,...,T$  la suite de  charges électriques observées, où l'indice $t$ fait référence à la plus ancienne observation et $x_T$ à la toute dernière.  L'interval de temps entre deux observations $x_t$ et $x_{t+1}$  est toujours de 10 minutes. \n",
    "\n",
    "Une première approche consiste à essayer de prédire la future consommation électrique en utilisant la consommation passée, à partir des $d$ observations qui précèdent l'instant actuel (nous appelons $d$ la profondeur de l'historique).\n",
    "Nous cherchons alors une fonction $f$ telle que\n",
    "\\begin{equation}\n",
    "x_{t+1} = f(x_{t-d+1}, x_{t-d+2}, ..., x_{t-1}, x_t) + \\varepsilon_{t+1},\n",
    "\\tag{1}\n",
    "\\end{equation}\n",
    "où $\\varepsilon_{t+1}$ est un petit bruit aléatoire.\n",
    "\n",
    "\n",
    "![Série temporelle](img/timeSeries2.jpeg)\n",
    "\n",
    "Dans un modèle linéaire, on suppose que $f$ est une application linéaire de la forme\n",
    "\\begin{equation*}\n",
    "f(\\mathbf x) = \\mathbf x^\\top \\beta = x_{t-d+1}\\beta_1+ x_{t-d+2}\\beta_2+...+ x_{t-1}\\beta_{d-1}+x_{t}\\beta_{d},\n",
    "\\tag{2}\n",
    "\\end{equation*}\n",
    "où $\\mathbf x=(x_{t-d+1}, x_{t-d+2}, ..., x_{t-1}, x_t)^\\top$ et $\\beta\\in\\mathbb R^d$ est un vecteur de paramètres inconnus à estimer à partir des données.  \n",
    "\n",
    "*Remarque :* Nous pouvons bien sur ajouter un intercept $\\beta_0$ à la fonction $f$. \n",
    "\n",
    "Or, un tel modèle ne tient pas compte de la périodicité de la série temporelle. Il est fort probable que la dépendance de la consommation au milieu de la nuit des $d$ dernières observations ne soit pas du tout la même que celle de la consommation du matin ou à midi. Cela veut dire que dans le modèle (2) il n'y a pas de vecteur $\\beta$ qui donne des bonnes prédicitions quelque soit le moment de la journée (ou le jour de la semaine).\n",
    " "
   ]
  },
  {
   "cell_type": "markdown",
   "metadata": {},
   "source": [
    "### Modèle avec périodicité\n",
    "Pour prendre en compte une périodicité de durée $p$, nous pouvons opter pour un modèle qui cherche à exprimer la charge $x_{t+1}$ à l'instant $t+1$ en fonction des derniers instants modulo la période $p$. Par exemple, si la période $p$ est un jour et s'il est 13h30, nous allons alors chercher à exprimer $x_{t+1}$ en fonction de la charge observée les $d$ derniers jours toujours à 13h30. Si nous faisons l'hypothèse que la consommation dépend des $d$ dernières consommations à la même heure quelque soit l'heure, alors il convient d'utiliser le même $\\beta$. Autrement dit, nous considérons un modèle de la forme\n",
    "\\begin{equation*}\n",
    "x_{t+1} = f(x_{t+1-dp}, x_{t+1-(d-1)p}, ..., x_{t+1-p}) + \\varepsilon_{t+1}.\n",
    "\\tag{3}\n",
    "\\end{equation*}\n",
    "Dans ce modèle, il est possible de considérer n'importe quelle  périodicité (journalière ou hebdomadaire, par exemple). Remarquons que $p$ correspond au nombre de points d'observations dans une période, donc p.ex. $p=6*24=144$ pour une période d'un jour, ou bien $p=6*24*7=1008$ pour une période d'une semaine.\n",
    "\n",
    "![Série temporelle](img/timeSeries3.jpeg)\n",
    "\n",
    "\n",
    "Avec ce modèle, il sera également possible de prédire, au lieu qu'un seul point,  un nombre $\\ell$ de points, en supposant $\\ell\\leq p$ (nous allons très souvent prendre $\\ell=p$).\n",
    "Il suffit en effet de poser \n",
    "\\begin{equation*}\n",
    "v_{t+1} = \\begin{pmatrix}x_{t+1}\\\\ \\vdots \\\\ x_{t+\\ell} \\end{pmatrix}\n",
    "\\quad \\text{et} \\quad \n",
    "v_{t-j} = \\begin{pmatrix}x_{t+1 -(j+1)p}\\\\ \\vdots \\\\ x_{t+\\ell-(j+1)p} \\end{pmatrix}\n",
    "\\quad \\text{pour} \\quad\n",
    "0\\leq j \\leq d-1\n",
    "\\end{equation*}\n",
    "et nous obtenons\n",
    "$$v_{t+1} = \\beta_1 v_{t-d+1}  + \\ldots + \\beta_d v_t + \\tilde{\\varepsilon}_{t+1}$$\n",
    "\n",
    "où $\\tilde{\\varepsilon}_{t+1} = \\begin{pmatrix}\\varepsilon_{t+1}\\\\ \\vdots \\\\ \\varepsilon_{t+k} \\end{pmatrix}$.\n",
    " \n"
   ]
  },
  {
   "cell_type": "markdown",
   "metadata": {
    "tags": [],
    "user_expressions": []
   },
   "source": [
    "#### Tableau de données d'entrainement $X$\n",
    "\n",
    "Il est clair que les observations les plus récentes sont les données les plus pertinentes pour entrainer le modèle, c'est-à-dire pour estimer $\\beta$. On peut alors considérer comme vecteur $\\mathbf y$ les $k$ valeurs observées :\n",
    "$$\\mathbf y = (x_{t-\\ell+1},..., x_{t-1}, x_t)^\\top,$$\n",
    "où $t$ est l'instant actuel et donc la dernière valeur observée.\n",
    "\n",
    "Maintenant il faut construire la matrice $X$ correspondante. Pour chaque entrée de $\\mathbf y$ on choisit les observations qui ont \"généré\" cette observation selon le modèle en (3). \n",
    "\n",
    "Ainsi, la dernière ligne de $X$, qui correspond à l'observations $x_{t}$, est le vecteur\n",
    "$$x_{t -dp}, x_{t-(d-1)p}, x_{t-(d-2)p},..., x_{t-p}\n",
    "$$\n",
    "Plus généralement, la $\\ell-i$-ième ligne de $X$, associée à l'observations $x_{t-i+1}$, est le vecteur\n",
    "$$x_{t-i -dp}, x_{t-i-(d-1)p }, x_{t-i-(d-2)p },..., x_{t-i-p}$$\n",
    " \n",
    "\n",
    "\n",
    "![alternative text](img/timeSeries5bis.jpeg)"
   ]
  },
  {
   "cell_type": "markdown",
   "metadata": {},
   "source": [
    "### Exercice 7\n",
    "\n",
    "Mettre en oeuvre un prédicteur linéaire pour prédire le jour $k+1$ à partir des $d$ jours précedents.\n",
    "\n",
    "- À l'aide de la fonction `LinearRegression` du module `sklearn.linear_model` faire une régression linéaire de la variable d'indice $k$ (qu'on renommera en `y_train`) sur les variables d'indice $k-1,\\dots k-d$ (qu'on renommera en `x_train`) avec le jeu `df_day`. \n",
    "- Ensuite, grâce à cette relation apprise, prédire la variable d'indice $k+1$ (renommée `y_test`) à partir des $d$ variables immédiatement précédentes(renommées `x_test`).\n",
    "- Comparer avec l'approche naïve, en affichant l'erreur quadratique et l'erreur MAPE au temps estimé $k+1$"
   ]
  },
  {
   "cell_type": "code",
   "execution_count": null,
   "metadata": {
    "tags": [
     "to_fill"
    ]
   },
   "outputs": [],
   "source": [
    "# Réponse"
   ]
  },
  {
   "cell_type": "markdown",
   "metadata": {},
   "source": [
    "### Réponse"
   ]
  },
  {
   "cell_type": "markdown",
   "metadata": {},
   "source": [
    "### Exercice 8\n",
    "\n",
    "Mettre en oeuvre un prédicteur linéaire pour prédire la semaine qui contient le jour $k+1$ à partir des $d$ semaines précedentes.\n"
   ]
  },
  {
   "cell_type": "code",
   "execution_count": null,
   "metadata": {
    "tags": [
     "to_fill"
    ]
   },
   "outputs": [],
   "source": [
    "# Réponse"
   ]
  },
  {
   "cell_type": "markdown",
   "metadata": {},
   "source": [
    "### Réponse"
   ]
  },
  {
   "cell_type": "markdown",
   "metadata": {},
   "source": [
    "### Exercice 9\n",
    "\n",
    "Comparer les erreurs RMSE et MAPE pour des 4 prédicteurs sur l'ensemble des données."
   ]
  },
  {
   "cell_type": "code",
   "execution_count": null,
   "metadata": {
    "tags": [
     "to_fill"
    ]
   },
   "outputs": [],
   "source": [
    "# Réponse"
   ]
  },
  {
   "cell_type": "markdown",
   "metadata": {},
   "source": [
    "### Réponse"
   ]
  },
  {
   "cell_type": "markdown",
   "metadata": {},
   "source": [
    "Cette approche n'utilise qu'une petite partie des données. Si on suppose que le modèle est relativement stable sur une plus longue période, on peut bien évidemment   ajuster $\\beta$ sur plus de données. Pour cela, on considère pour l'entrainement un vecteur $\\mathbf y$ plus long\n",
    "$$\\mathbf y = (x_t,x_{t-1}...,x_{t-m})^\\top,$$\n",
    "avec $m$ plus grand que $k$ (qui était le nombre de valeurs à prédire).\n",
    "La matrice $X$ est construite de la même façon que précédemment.\n"
   ]
  },
  {
   "cell_type": "markdown",
   "metadata": {},
   "source": [
    "## Forêts aléatoires \n",
    "\n",
    "Dans cette partie, on va encore chercher le lien entre  la courbe d'indice $k$ et les courbes de charges précedentes $k-1,\\dots,k-d$. Mais cette fois, le lien entre ces variables sera appris par des arbres de décision ; plus précisémment, par des forêts aléatoires. \n",
    "\n",
    "### Exercice 10\n",
    "\n",
    "Vous allez à présent utiliser des forêts aléatoires via le module `RandomForestRegressor` de `sklearn.ensemble` pour apprendre un modèle prédictif pour le même problème et les mêmes données qu'avant. \n",
    "\n",
    "Explorez les paramètres de la fonction `RandomForestRegressor`.\n",
    "\n",
    "Procédez comme précédemment : \n",
    "- apprendre pour une semaine fixée $k$, avec un historique $d$, puis prédire la semaine $k+1$. Calculez différentes erreurs pour cette période.  \n",
    "- calculer les erreurs moyennes sur toutes les périodes disponibles."
   ]
  },
  {
   "cell_type": "code",
   "execution_count": null,
   "metadata": {
    "tags": [
     "to_fill"
    ]
   },
   "outputs": [],
   "source": [
    "# Réponse"
   ]
  },
  {
   "cell_type": "markdown",
   "metadata": {},
   "source": [
    "### Réponse"
   ]
  },
  {
   "cell_type": "markdown",
   "metadata": {},
   "source": [
    "Maintenant qu'on a fait cela pour une période donnée, on systématise sur l'ensemble des périodes disponibles et on calcule les erreurs moyennes correspondantes. "
   ]
  },
  {
   "cell_type": "markdown",
   "metadata": {},
   "source": [
    "## Gradient Boosting\n",
    "\n",
    "Dans cette partie, à l'aide de la fonction ` GradientBoostingRegressor` du module ` sklearn.ensemble`,  vous allez utiliser le gradient boosting pour apprendre la relation entre une courbe de charge à une période $k$ fixée, et l'historique des $d$ courbes précédentes.\n",
    "\n",
    " \n",
    "\n",
    "\n",
    "### Exercice 11\n",
    "\n",
    "- Commencez par utiliser les paramètres par défaut de l'algorithme. \n",
    "- Entraînez le modèle pour une période $k$ fixée et faites la prédiction de la même façon que ci-dessus. En particulier, vous présenterez les mêmes graphiques et les mêmes calculs d'erreurs. \n",
    "- Choisissez les meilleurs paramètres de l'algorithme en utilisant la fonction `GridSearchCV`, pour essayer de diminuer les erreurs. \n",
    "- Enfin, évaluez la qualité de la méthode en utilisant toutes les valeurs de $k$ possibles (selon la longueur des données dont on dispose)."
   ]
  },
  {
   "cell_type": "code",
   "execution_count": null,
   "metadata": {
    "tags": [
     "to_fill"
    ]
   },
   "outputs": [],
   "source": [
    "# Réponse"
   ]
  },
  {
   "cell_type": "markdown",
   "metadata": {},
   "source": [
    "### Réponse"
   ]
  }
 ],
 "metadata": {
  "anaconda-cloud": {},
  "kernelspec": {
   "display_name": "Python 3 (ipykernel)",
   "language": "python",
   "name": "python3"
  },
  "language_info": {
   "codemirror_mode": {
    "name": "ipython",
    "version": 3
   },
   "file_extension": ".py",
   "mimetype": "text/x-python",
   "name": "python",
   "nbconvert_exporter": "python",
   "pygments_lexer": "ipython3",
   "version": "3.10.8"
  },
  "toc-autonumbering": true
 },
 "nbformat": 4,
 "nbformat_minor": 4
}
