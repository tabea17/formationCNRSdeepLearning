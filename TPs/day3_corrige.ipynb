{
 "cells": [
  {
   "cell_type": "markdown",
   "id": "ff0fb83e-2bbc-4a2a-9462-0b35fdae56a2",
   "metadata": {
    "editable": true,
    "slideshow": {
     "slide_type": ""
    },
    "tags": []
   },
   "source": [
    "# TP: Introduction au deep learning avec `PyTorch`"
   ]
  },
  {
   "cell_type": "markdown",
   "id": "21fd7be6-8d64-46c1-9334-de63c7712455",
   "metadata": {
    "editable": true,
    "slideshow": {
     "slide_type": ""
    },
    "tags": []
   },
   "source": [
    "`PyTorch` est un framework d'apprentissage automatique open source développé principalement par Facebook's AI Research Lab. Il est basé sur le langage de programmation Python et est connu pour sa flexibilité et sa facilité d'utilisation. `PyTorch` est largement utilisé pour la création et l'entraînement de réseaux de neurones, en particulier dans les domaines de la vision par ordinateur et du traitement du langage naturel.\n",
    "\n",
    "Le coeur de `PyTorch` est écrit en `C++` pour des raisons de performances. Il utilise des bibliothèques mathématiques et d'algèbre linéaire bien établies, telles que `BLAS` (Basic Linear Algebra Subprograms) et `LAPACK` (Linear Algebra Package), pour accélérer les calculs numériques.\n",
    "\n",
    "`PyTorch` fournit une interface Python conviviale pour interagir avec les fonctionnalités de bas niveau. Il utilise une approche orientée objet, ce qui signifie que les différentes fonctionnalités sont organisées en classes et objets. Les utilisateurs peuvent créer des instances de ces objets pour construire des modèles, définir des couches de réseau, définir des fonctions de perte, etc.\n",
    "\n",
    "La bibliothèque `PyTorch` comprend également des modules pour le calcul automatique des gradients (**différentiation automatique**), qui est une fonctionnalité essentielle pour l'apprentissage automatique. Ces modules permettent de calculer automatiquement les dérivées des opérations effectuées sur les tenseurs."
   ]
  },
  {
   "cell_type": "markdown",
   "id": "c8edead8-38eb-46bf-8909-efe16c1cdece",
   "metadata": {
    "editable": true,
    "slideshow": {
     "slide_type": ""
    },
    "tags": []
   },
   "source": [
    "## Jeu de données MNIST\n",
    "\n",
    "MNIST (Modified National Institute of Standards and Technology) est une base de données largement utilisée dans le domaine de l'apprentissage automatique pour la reconnaissance de chiffres manuscrits. Il s'agit d'un ensemble de données contenant des images en niveaux de gris de chiffres manuscrits de 0 à 9.\n",
    "\n",
    "La base de données MNIST est composée de deux parties principales :\n",
    "- Le jeu d'apprentissage (training set) : Il comprend $60\\,000$ exemples d'images de chiffres manuscrits, chacune étant une image de 28x28 pixels. Ces images sont associées à des étiquettes (labels) qui indiquent le chiffre correspondant (de 0 à 9).\n",
    "- Le jeu de test (test set) : Il comprend $10\\,000$ exemples supplémentaires d'images de chiffres manuscrits, également de taille 28x28 pixels. Les images de test sont utilisées pour évaluer les performances des modèles d'apprentissage automatique entraînés sur le jeu d'apprentissage.\n",
    "\n",
    "La base de données MNIST est souvent utilisée comme un point de départ pour les tâches de classification d'images et pour l'évaluation des algorithmes d'apprentissage automatique. De nombreux chercheurs et développeurs utilisent MNIST pour tester de nouvelles architectures de réseaux de neurones et de nouvelles techniques d'apprentissage.\n",
    "\n",
    "En raison de sa simplicité et de sa taille relativement petite, MNIST est devenu un jeu de données standard pour la communauté de l'apprentissage automatique. Il est souvent utilisé pour illustrer des concepts tels que la préparation des données, la classification, la rétropropagation, l'optimisation et la régularisation."
   ]
  },
  {
   "cell_type": "code",
   "execution_count": null,
   "id": "cfef5b9e-2c41-43b9-a166-3dcf7a1a032e",
   "metadata": {
    "editable": true,
    "slideshow": {
     "slide_type": ""
    },
    "tags": []
   },
   "outputs": [],
   "source": [
    "import numpy as np\n",
    "import torch"
   ]
  },
  {
   "cell_type": "markdown",
   "id": "ff22bf96-9c70-4a28-a0d5-aecda59552ce",
   "metadata": {
    "editable": true,
    "slideshow": {
     "slide_type": ""
    },
    "tags": []
   },
   "source": [
    "### Chargement des données\n",
    "\n",
    "Le module `torchvision.datasets` est une composante du module `PyTorch` spécialisée dans le chargement et la gestion de jeux de données populaires: MNIST, CIFAR-10, ImageNet, etc.\n",
    "\n",
    "La classe principale dans `torchvision.datasets` est Dataset, qui définit l'interface de base pour les jeux de données. Les classes spécifiques à chaque jeu de données héritent de cette classe et la personnalisent en fonction des caractéristiques spécifiques du jeu de données. Par exemple, `MNIST` est une sous-classe de `Dataset` et voici un appel standard: \n",
    "```python\n",
    "from torchvision import datasets\n",
    "mnist_train = datasets.MNIST('data', train=True, download=True)\n",
    "```\n",
    "Une fois l'instance du jeu de données créée, vous pouvez accéder aux exemples de données et à leurs étiquettes à l'aide d'indexing (opérateur `[]`).\n",
    "\n",
    "- Créer un objet `mnist_train` de la classe `datasets.MNIST` (chargement des données).\n",
    "- Déterminer le type des éléments puis afficher quelques images en indiquant les labels associés.\n",
    "- Faire de même pour le dataset de test: `mnist_test`."
   ]
  },
  {
   "cell_type": "markdown",
   "id": "48e7e597-2022-436c-9264-82959de86f16",
   "metadata": {
    "editable": true,
    "jp-MarkdownHeadingCollapsed": true,
    "slideshow": {
     "slide_type": ""
    },
    "tags": [
     "solution"
    ]
   },
   "source": [
    "### Solution"
   ]
  },
  {
   "cell_type": "code",
   "execution_count": null,
   "id": "65eace79-1d9e-488b-aa9c-ed11e37d3d11",
   "metadata": {
    "editable": true,
    "slideshow": {
     "slide_type": ""
    },
    "tags": [
     "solution"
    ]
   },
   "outputs": [],
   "source": [
    "from torchvision import datasets\n",
    "mnist_train = datasets.MNIST('data', train=True, download=True)"
   ]
  },
  {
   "cell_type": "code",
   "execution_count": null,
   "id": "023efc77-7c22-4a23-ba51-fbba2130b800",
   "metadata": {
    "editable": true,
    "slideshow": {
     "slide_type": ""
    },
    "tags": [
     "solution"
    ]
   },
   "outputs": [],
   "source": [
    "image, label = mnist_train[0]"
   ]
  },
  {
   "cell_type": "code",
   "execution_count": null,
   "id": "9c125517-52c4-4cf8-b287-d8d309c554c8",
   "metadata": {
    "editable": true,
    "slideshow": {
     "slide_type": ""
    },
    "tags": [
     "solution"
    ]
   },
   "outputs": [],
   "source": [
    "print(image)\n",
    "print(label)"
   ]
  },
  {
   "cell_type": "markdown",
   "id": "4a21c038-1640-4352-871f-13bd1c04fb18",
   "metadata": {
    "editable": true,
    "slideshow": {
     "slide_type": ""
    },
    "tags": [
     "solution"
    ]
   },
   "source": [
    "`PIL.Image.Image` fait référence à la classe principale de la bibliothèque Python `PIL` (Python Imaging Library) ou de sa version améliorée, appelée `Pillow`. Cette classe représente une image dans PIL/Pillow. \n",
    "On peut visualiser l'image via la fonction `imshow` de `matplotlib.pyplot`."
   ]
  },
  {
   "cell_type": "code",
   "execution_count": null,
   "id": "d463e099-da2c-4e10-b071-99d99eb53e6b",
   "metadata": {
    "editable": true,
    "slideshow": {
     "slide_type": ""
    },
    "tags": [
     "solution"
    ]
   },
   "outputs": [],
   "source": [
    "import matplotlib.pyplot as plt\n",
    "\n",
    "fig, axs = plt.subplots(ncols=6, nrows=3)\n",
    "for ax in axs.flatten():\n",
    "    idx = torch.randint(len(mnist_train), size=(1,)).item()\n",
    "    image, label = mnist_train[idx]\n",
    "    ax.imshow(image, cmap=\"gray\")\n",
    "    ax.set_axis_off()\n",
    "    ax.set_title(label)"
   ]
  },
  {
   "cell_type": "markdown",
   "id": "90872e11-5df9-4243-b896-720e02ba19c6",
   "metadata": {
    "editable": true,
    "slideshow": {
     "slide_type": ""
    },
    "tags": []
   },
   "source": [
    "### Transformation des images \n",
    "\n",
    "- A partir de `mnist_train` et des champs `data` et `targets`, créer un tensor `x_train` de shape 1x28x28 dont les données sont normalisées dans $[0,1]$ (0 pour un pixel blanc et 1 pour un pixel noir, il faut donc diviser par 255) et un tensor `y_train`. La première dimension (qui semble inutile) est nécessaire car les images en `PyTorch` sont manipulables sous le format `[channels, height, width]`, une image en couleur a 3 canaux R-G-B.\n",
    "- Faire de même un `x_test` et `y_test` à partir de `mnist_test`.\n",
    "\n",
    "**Remarque**:\n",
    "Le module `transforms` du package `torchvision` fournit une collection de transformations couramment utilisées pour prétraiter les images de manière à les adapter aux besoins spécifiques de l'apprentissage automatique, tels que le redimensionnement, le recadrage, la normalisation, etc. \n",
    "On peut utiliser la fonction `ToTensor` pour convertir une image du dataset `mnist_train` en un tensor `PyTorch` et faire un appel de `datasets.MNIST` avec l'option `transform` pour obtenir directement les données sous la forme de tensors. \n",
    "\n",
    "Dans la suite on travaille avec ces données `x_train`, `y_train`, `x_test` et `y_test`."
   ]
  },
  {
   "cell_type": "markdown",
   "id": "c59025ef-0741-4cf1-95be-9277f3f1d619",
   "metadata": {
    "editable": true,
    "jp-MarkdownHeadingCollapsed": true,
    "slideshow": {
     "slide_type": ""
    },
    "tags": [
     "solution"
    ]
   },
   "source": [
    "### Solution"
   ]
  },
  {
   "cell_type": "code",
   "execution_count": null,
   "id": "79ba89ba-cf7b-4675-9857-380b217c3f09",
   "metadata": {},
   "outputs": [],
   "source": [
    "mnist_train.data.shape"
   ]
  },
  {
   "cell_type": "code",
   "execution_count": null,
   "id": "3656aa2a-df72-4afc-8586-23015efe1d36",
   "metadata": {
    "editable": true,
    "slideshow": {
     "slide_type": ""
    },
    "tags": [
     "solution"
    ]
   },
   "outputs": [],
   "source": [
    "x_train = mnist_train.data.reshape((-1,1,28,28)) / 255\n",
    "print(\"shape: \", x_train.shape)\n",
    "print(\"valeur min: \", x_train.min())\n",
    "print(\"valeur max: \", x_train.max())\n",
    "y_train = mnist_train.targets "
   ]
  },
  {
   "cell_type": "code",
   "execution_count": null,
   "id": "d0657a8c-d4d1-4f34-b943-0641311c0353",
   "metadata": {},
   "outputs": [],
   "source": [
    "y_train"
   ]
  },
  {
   "cell_type": "code",
   "execution_count": null,
   "id": "f9ddb3d8-0eca-4163-84db-ee5f5a0ce762",
   "metadata": {
    "editable": true,
    "slideshow": {
     "slide_type": ""
    },
    "tags": [
     "solution"
    ]
   },
   "outputs": [],
   "source": [
    "mnist_test = datasets.MNIST('data', train=False, download=True)\n",
    "x_test = mnist_test.data.reshape((-1,1,28,28)) / 255\n",
    "y_test = mnist_test.targets\n",
    "print(y_test.shape)"
   ]
  },
  {
   "cell_type": "markdown",
   "id": "4bbda13d-a04e-4383-af84-b7f045073c23",
   "metadata": {
    "editable": true,
    "slideshow": {
     "slide_type": ""
    },
    "tags": []
   },
   "source": [
    "### Question: Exploration du dataset  \n",
    "\n",
    "- Parcourir les deux datasets pour déterminer la proportion des différents labels présents. Avant toute modélisation il est important de voir si les données sont homogènes: c'est à dire correctement réparties dans le train set et dans le test set. "
   ]
  },
  {
   "cell_type": "markdown",
   "id": "3c8094bb-b4c3-4ec2-a64b-f0154740a0e3",
   "metadata": {
    "editable": true,
    "jp-MarkdownHeadingCollapsed": true,
    "slideshow": {
     "slide_type": ""
    },
    "tags": [
     "solution"
    ]
   },
   "source": [
    "### Solution"
   ]
  },
  {
   "cell_type": "code",
   "execution_count": null,
   "id": "29a0d712-4e74-4b55-9444-e87d016b7b08",
   "metadata": {
    "editable": true,
    "slideshow": {
     "slide_type": ""
    },
    "tags": [
     "solution"
    ]
   },
   "outputs": [],
   "source": [
    "print(torch.bincount(y_train, minlength=10))\n",
    "print(torch.bincount(y_test, minlength=10))"
   ]
  },
  {
   "cell_type": "code",
   "execution_count": null,
   "id": "14f58c76-f89f-4c11-a55d-0ab9f1f43589",
   "metadata": {
    "editable": true,
    "slideshow": {
     "slide_type": ""
    },
    "tags": [
     "solution"
    ]
   },
   "outputs": [],
   "source": [
    "import pandas as pd\n",
    "import seaborn as sns\n",
    "sns.set_theme()\n",
    "\n",
    "# Number of classes\n",
    "num_labels = 10\n",
    "\n",
    "y_counts = pd.DataFrame({\n",
    "    'data': np.array(['train'] * num_labels + ['test'] * num_labels),\n",
    "    'label': np.tile(np.arange(num_labels), 2),\n",
    "    'prop': np.hstack([np.bincount(y_train) / len(y_train), \n",
    "                       np.bincount(y_test) / len(y_test)])\n",
    "})\n",
    "\n",
    "fig, ax = plt.subplots(figsize=(8, 4))\n",
    "sns.barplot(x='label', y='prop', hue='data', data=y_counts, ax=ax)"
   ]
  },
  {
   "cell_type": "markdown",
   "id": "5efbf89a-d515-4e72-8970-361659e8c591",
   "metadata": {
    "editable": true,
    "slideshow": {
     "slide_type": ""
    },
    "tags": []
   },
   "source": [
    "## Un premier modèle: régression softmax\n",
    "\n",
    "Dans cette première partie, nous n'allons pas utiliser le fait que nos données $x$ sont des images. En effet, chaque image $x$ est une matrice $p\\times p = 28\\times 28$ ($x=(x_{ij})$) avec une structure de voisinage spécifique. Mais ici, nous traitons chaque image $x$ comme un vecteur de taille $784$ ($x = (x_{j})$) et nous ignorons la structure de voisinage.\n",
    "\n",
    "Nous souhaitons classer ces images ou, de manière équivalente, prédire le chiffre $k$ variant dans ${0, \\ldots, 9}$ qu'elles représentent.\n",
    "Un modèle simple permettant de le faire est la régression softmax (ou régression logistique multinomiale).\n",
    "\n",
    "\n",
    "L'idée est de produire un score pour chaque image d'entrée $x$ en utilisant un modèle linéaire simple.\n",
    "Pour cela, nous supposons que l'appartenance à une classe $k$ (correspondant au chiffre $k$) peut être exprimée par une somme pondérée des intensités de pixels, avec des poids $W_{k, 1}, \\ldots, W_{k, 784}$ et un biais (ou intercept) $b_k$ qui capture une variabilité indépendante de l'entrée :\n",
    "$$\n",
    "    \\text{score}_k(x) = \\sum_{j=1}^{784} W_{k, j} x_j + b_k,\n",
    "$$\n",
    "Ces scores sont parfois appelés \"logits\" dans la communauté de l'apprentissage profond.\n",
    "Ensuite, nous utilisons la fonction softmax pour convertir les scores en probabilités prédites $p_k=\\mathbb{P}(y=k|x)$ :\n",
    "$$\n",
    "    \\forall k =0,\\ldots,9,\\quad p_k(x) = \\text{softmax}(\\text{score}_k(x)) = \\frac{\\exp(\\text{score}_k(x))}{\\sum_{\\ell =0}^{9}\\exp(\\text{score}_{\\ell}(x))}.\n",
    "$$"
   ]
  },
  {
   "cell_type": "markdown",
   "id": "7d48e4c1-e4ae-4ca2-b876-0554fe8ef5ec",
   "metadata": {
    "editable": true,
    "slideshow": {
     "slide_type": ""
    },
    "tags": []
   },
   "source": [
    "### Module `torch.nn`\n",
    "\n",
    "`torch.nn` est un module de `PyTorch` qui fournit des outils et des classes pour construire et entraîner des réseaux de neurones. Il fournit des blocs de construction pour définir les différentes couches et opérations nécessaires dans un réseau de neurones, ainsi que des fonctions d'activation, des fonctions de coût et d'autres fonctionnalités liées à l'apprentissage automatique.\n",
    "\n",
    "Voici quelques éléments clés de `torch.nn`:\n",
    "\n",
    "- Modules et couches: variété de modules et de couches pré-définis tels que `Linear`, `Conv2d`, `RNN`, `BatchNorm`, etc. Ces modules encapsulent des opérations spécifiques et sont utilisés pour construire des architectures de réseaux de neurones complexes.\n",
    "\n",
    "- Fonctions d'activation: `ReLU`, `Sigmoid`, `Tanh`, etc., qui peuvent être appliquées aux sorties des couches pour introduire des non-linéarités dans le modèle.\n",
    "\n",
    "- Fonctions de coût: `CrossEntropyLoss`, `MSELoss`, etc., qui sont utilisées pour évaluer la performance du modèle et guider l'apprentissage.\n",
    "\n",
    "- Optimiseurs: `SGD`, `Adam`, `RMSprop`, etc., qui sont utilisés pour ajuster les poids du modèle pendant l'entraînement.\n",
    "\n",
    "- Définition des réseaux de neurones personnalisés: on peut définir des réseaux de neurones personnalisés en créant des classes héritant de `torch.nn.Module`. Cela permet de définir des architectures complexes en combinant différentes couches et en définissant la logique de propagation avant (forward pass) à l'intérieur de la classe.\n",
    "\n",
    "Pour créer rapidement et facilement des architectures de réseaux de neurones séquentiels, on peut utiliser le module `nn.Sequential`: il suffit de définir l'architecture d'un modèle en spécifiant simplement les couches dans l'ordre dans lequel elles doivent être appliquées. Cela permet de définit un modèle simple sans écrire de classe personnalisée héritant de `nn.Module`."
   ]
  },
  {
   "cell_type": "markdown",
   "id": "e5063724-fbef-4a61-9694-7c631dd4483f",
   "metadata": {
    "editable": true,
    "slideshow": {
     "slide_type": ""
    },
    "tags": []
   },
   "source": [
    "### Définition du modèle \n",
    "\n",
    "- En utilisant les modules `nn.Sequential`, `nn.Flatten` et `nn.Linear` définir un objet `model_linear` qui code la fonction $\\text{score}_k: [0,1]^{784} \\to \\mathbf{R}^{10}$. En fait cette fonction sera appelée pour un ensemble d'images..."
   ]
  },
  {
   "cell_type": "markdown",
   "id": "9f9d82e5-a5de-4634-a1e0-4900f7edb923",
   "metadata": {
    "editable": true,
    "jp-MarkdownHeadingCollapsed": true,
    "slideshow": {
     "slide_type": ""
    },
    "tags": [
     "solution"
    ]
   },
   "source": [
    "### Solution"
   ]
  },
  {
   "cell_type": "code",
   "execution_count": null,
   "id": "85e4f38e-2303-4b77-986d-e58255ceb03f",
   "metadata": {
    "editable": true,
    "slideshow": {
     "slide_type": ""
    },
    "tags": [
     "solution"
    ]
   },
   "outputs": [],
   "source": [
    "import torch.nn as nn\n",
    "\n",
    "model_linear = nn.Sequential(\n",
    "    nn.Flatten(), \n",
    "    nn.Linear(28*28, 10), \n",
    "    # nn.Softmax(dim=1)  attention si on met cette couche on doit modifier le critère de loss dans la suite\n",
    ")"
   ]
  },
  {
   "cell_type": "code",
   "execution_count": null,
   "id": "904b4ebc-5965-47a9-9b35-c249047e8068",
   "metadata": {
    "editable": true,
    "slideshow": {
     "slide_type": ""
    },
    "tags": [
     "solution"
    ]
   },
   "outputs": [],
   "source": [
    "model_linear"
   ]
  },
  {
   "cell_type": "code",
   "execution_count": null,
   "id": "6f095d48-574d-4d0a-9f85-4d479e3584b1",
   "metadata": {
    "editable": true,
    "slideshow": {
     "slide_type": ""
    },
    "tags": [
     "solution"
    ]
   },
   "outputs": [],
   "source": [
    "output = model_linear(x_train)\n",
    "print(output.shape)\n",
    "print(y_train.shape)"
   ]
  },
  {
   "cell_type": "markdown",
   "id": "e0fbf0e5-73e8-44f4-b30c-a3e2ffc51101",
   "metadata": {
    "editable": true,
    "slideshow": {
     "slide_type": ""
    },
    "tags": [
     "solution"
    ]
   },
   "source": [
    "Un code similaire à la main serait le suivant \n",
    "```python\n",
    "class MyNetwork(nn.Module):\n",
    "    def __init__(self, dim_in, dim_out):\n",
    "        super(MyNetwork, self).__init__()\n",
    "        self.flatten = nn.Flatten()\n",
    "        self.linear = nn.Linear(dim_in, dim_out)\n",
    "        #self.softmax = nn.Softmax(dim=1)\n",
    "    \n",
    "    def forward(self, x):\n",
    "        x = self.flatten(x)\n",
    "        x = self.linear(x)\n",
    "        # x = self.softmax(x)\n",
    "        return x\n",
    "\n",
    "model_linear = MyNetwork(28*28, 10)\n",
    "```\n"
   ]
  },
  {
   "cell_type": "markdown",
   "id": "9383ba17-1c54-4f8c-949e-0313e6231e2a",
   "metadata": {
    "editable": true,
    "slideshow": {
     "slide_type": ""
    },
    "tags": []
   },
   "source": [
    "### Accès aux paramètres du modèle\n",
    "\n",
    "- Utiliser la méthode `parameters()` sur l'objet `model_linear` et sur les objets `model_linear[i]` (i=0,1) pour accéder aux paramètres des différentes couches.\n",
    "\n",
    "- Sauver les paramètres (l'état) du modèle dans un dictionnaire `state_init`. On utilisera la méthode `state_dict()` et on pourra recharger cet état initial via la méthode `load_state_dict()`."
   ]
  },
  {
   "cell_type": "markdown",
   "id": "a3c40402-0065-4a26-b64f-d03e1beb7db5",
   "metadata": {
    "editable": true,
    "jp-MarkdownHeadingCollapsed": true,
    "slideshow": {
     "slide_type": ""
    },
    "tags": [
     "solution"
    ]
   },
   "source": [
    "### Solution"
   ]
  },
  {
   "cell_type": "code",
   "execution_count": null,
   "id": "e42efeb4-bf32-4cac-af86-4116eeb7b039",
   "metadata": {
    "editable": true,
    "slideshow": {
     "slide_type": ""
    },
    "tags": [
     "solution"
    ]
   },
   "outputs": [],
   "source": [
    "for p in model_linear.parameters():\n",
    "    print(p)\n",
    "    print(p.shape)"
   ]
  },
  {
   "cell_type": "code",
   "execution_count": null,
   "id": "0cadd41d-170b-4bb9-bb4c-0f96bd624c0a",
   "metadata": {
    "editable": true,
    "slideshow": {
     "slide_type": ""
    },
    "tags": [
     "solution"
    ]
   },
   "outputs": [],
   "source": [
    "for p in model_linear[0].parameters():\n",
    "    print(p)"
   ]
  },
  {
   "cell_type": "code",
   "execution_count": null,
   "id": "f54fc248-49f0-4d62-aa5e-c7b42d998586",
   "metadata": {
    "editable": true,
    "slideshow": {
     "slide_type": ""
    },
    "tags": [
     "solution"
    ]
   },
   "outputs": [],
   "source": [
    "for p in model_linear[1].parameters():\n",
    "    print(p)"
   ]
  },
  {
   "cell_type": "code",
   "execution_count": null,
   "id": "59ff8d91-b061-4810-ad22-33a21eb02890",
   "metadata": {
    "editable": true,
    "slideshow": {
     "slide_type": ""
    },
    "tags": [
     "solution"
    ]
   },
   "outputs": [],
   "source": [
    "import copy\n",
    "state_init = copy.deepcopy(model_linear.state_dict())\n",
    "state_init"
   ]
  },
  {
   "cell_type": "markdown",
   "id": "5e07ce53-0846-4120-ae27-9f56212c35fd",
   "metadata": {
    "editable": true,
    "slideshow": {
     "slide_type": ""
    },
    "tags": []
   },
   "source": [
    "### Fonction de perte et descente de gradient\n",
    "\n",
    "Pour entraîner les paramètres du modèle (le biais $b_k$ et les poids $W_{k, j}$ où $k=0, \\ldots, 9$ et $j=1, \\ldots, 784$), la fonction de perte considérée (mesure de qualité) est le logarithme négatif de la vraisemblance défini par l'entropie croisée entre le score $\\text{score}(x)=(\\text{score}_0(x),\\dots,\\text{score}_9(x))$ et le vrai label $y=(y_0,\\dots,y_9)$:\n",
    "$$\n",
    "    \\ell\\big( \\text{score}(x), y \\big) = - \\sum_{k=0}^{9} y_{k} \\log\\big( \\text{softmax}(\\text{score}_k(x)) \\big).\n",
    "$$\n",
    "\n",
    "Pour ce premier modèle, nous optimisons par rapport aux paramètres $(\\boldsymbol{W}, \\boldsymbol{b})$ la perte totale $F(\\boldsymbol{W}, \\boldsymbol{b})$ sur l'ensemble d'entraînement $(x^i,y^i){1\\le i \\le n_{\\text{train}}}$ exprimée comme\n",
    "$$\n",
    "    F(\\boldsymbol{W}, \\boldsymbol{b}) = \\sum_{i=1}^{n_{\\text{train}}} \\ell \\big(\\text{score}(x^i), y^i \\big) = - \\sum_{i=1}^{n_{\\text{train}}} \\sum_{k=0}^{9} y^i_{k} \\log(p_k(x^i)).\n",
    "$$\n",
    "\n",
    "- Utiliser `nn.CrossEntropyLoss` pour la perte $\\ell$ sur le dataset `mnist_train`. \n",
    "\n",
    "- Créer un objet `optimizer` de type `optim.SGD` qui est une classe du module `torch.optim` de PyTorch qui implémente l'algorithme de descente de gradient stochastique (SGD) pour l'optimisation des paramètres d'un modèle. Le paramètre `lr` (learning rate) sera fixé à 0.005. \n",
    "\n",
    "- Faire une boucle de 10 itérations qui parcourt 10 fois tout le dataset (`x_train`,`y_train`). À chaque itération, vous réinitialisez les gradients avec `optimizer.zero_grad()`, calculez les prédictions du modèle (sur tout le dataset), calculez la perte, effectuez la rétropropagation du gradient avec `loss.backward()`, puis mettez à jour les paramètres avec `optimizer.step()`. Cela applique les mises à jour des paramètres basées sur le gradient calculé automatiquement (différentiation automatique aussi connue sous le nom de rétropropagation du gradient).\n",
    "\n",
    "- Une fois que le code fonctionne, passer à 200 epochs et tracer la loss, puis les accuracy (train et test) en fonction des epochs. "
   ]
  },
  {
   "cell_type": "markdown",
   "id": "2b5b034a-180e-4734-92b6-11d34de3774a",
   "metadata": {
    "editable": true,
    "jp-MarkdownHeadingCollapsed": true,
    "slideshow": {
     "slide_type": ""
    },
    "tags": [
     "solution"
    ]
   },
   "source": [
    "### Solution"
   ]
  },
  {
   "cell_type": "code",
   "execution_count": null,
   "id": "41797b54-8b9c-477f-be02-4aae907757f6",
   "metadata": {
    "editable": true,
    "slideshow": {
     "slide_type": ""
    },
    "tags": [
     "solution"
    ]
   },
   "outputs": [],
   "source": [
    "criterion = nn.CrossEntropyLoss()\n",
    "# Attention, si vous avez ajouté une couche `nn.Softmax` à votre modèle il faut utiliser un autre critère \n",
    "# (voir par exemple `nn.NLLLoss` negative log likelihood loss).\n",
    "\n",
    "epochs = 10\n",
    "for epoch in range(epochs):\n",
    "    loss = criterion(model_linear(x_train), y_train)\n",
    "    print(loss)"
   ]
  },
  {
   "cell_type": "code",
   "execution_count": null,
   "id": "ce24ab3d-b043-4bbb-8943-ea0b9b3c69e1",
   "metadata": {
    "editable": true,
    "slideshow": {
     "slide_type": ""
    },
    "tags": [
     "solution"
    ]
   },
   "outputs": [],
   "source": [
    "from tqdm import tqdm\n",
    "import torch.optim as optim\n",
    "\n",
    "model_linear.load_state_dict(copy.deepcopy(state_init))\n",
    "optimizer = optim.SGD(model_linear.parameters(), lr=0.01) # lr = learning rate\n",
    "loss_train, accuracy_train, accuracy_test = [], [], [] \n",
    "\n",
    "n_train = len(y_train)\n",
    "n_test = len(y_test)\n",
    "\n",
    "epochs = 200\n",
    "# for epoch in range(epochs): \n",
    "with tqdm(range(epochs), unit=\"epoch\") as tepoch:\n",
    "    for epoch in tepoch:\n",
    "        optimizer.zero_grad() # a clean up step for PyTorch\n",
    "        scores = model_linear(x_train)\n",
    "        loss = criterion(scores, y_train)\n",
    "        loss.backward()       # compute updates for each parameter\n",
    "        optimizer.step()      # make the updates for each parameter\n",
    "        \n",
    "        loss_train.append(loss.item())\n",
    "        correct = (scores.max(axis=1).indices.flatten() == y_train).sum().item()\n",
    "        accuracy_train.append(correct / n_train)\n",
    "        \n",
    "        with torch.no_grad():\n",
    "            correct = (model_linear(x_test).max(axis=1).indices.flatten() == y_test).sum().item()\n",
    "            accuracy_test.append(correct / n_test)\n",
    "        tepoch.set_postfix(loss=loss.item(), accuracy=accuracy_train[-1], accuracy_test=accuracy_test[-1])"
   ]
  },
  {
   "cell_type": "code",
   "execution_count": null,
   "id": "258b2b12-cdca-422b-9846-e841d164109c",
   "metadata": {
    "editable": true,
    "slideshow": {
     "slide_type": ""
    },
    "tags": [
     "solution"
    ]
   },
   "outputs": [],
   "source": [
    "fig, (ax1, ax2) = plt.subplots(ncols=2, figsize=(10, 4), layout=\"tight\")\n",
    "ax1.plot(np.arange(epochs), loss_train, label=\"loss (full gradient)\")\n",
    "ax2.plot(np.arange(epochs), accuracy_train, label=\"accuracy train (full gradient)\")\n",
    "ax2.plot(np.arange(epochs), accuracy_test, label=\"accuracy test (full gradient)\")\n",
    "ax1.legend()\n",
    "ax2.legend()\n",
    "fig.suptitle(\"Full Gradient on linear model\")\n",
    "plt.show()"
   ]
  },
  {
   "cell_type": "markdown",
   "id": "c402c73d-1102-43bf-91c4-61d7f64699df",
   "metadata": {
    "editable": true,
    "slideshow": {
     "slide_type": ""
    },
    "tags": []
   },
   "source": [
    "### Optimisation stochastique, mini-batch\n",
    "\n",
    "Ecrire une fonction pour faire l'apprentissage d'un modèle en implémentant un algorithme de descente de gradient stochastique. Adapter le code précédent pour écrire une fonction `training` qui prend pour arguments:\n",
    "- `model` un modèle qui renvoie les scores \n",
    "- `optimizer` (qu'on suppose bien initialisé avec les `model.parameters()`)\n",
    "- `epochs` le nombre d'epochs, par défaut à 100\n",
    "- `batch_size` par défaut à 512\n",
    "\n",
    "A chaque itération de `epoch` la procédure est la suivante: \n",
    "- on mélange le dataset (shuffle)\n",
    "- on parcourt le dataset par bloc de taille `batch_size`\n",
    "- sur chaque bloc on calcule le gradient et on met à jour les paramètres du modèle\n",
    "\n",
    "A la fin d'une itération `epoch` on recalcule `accuracy_train` et `accuracy_test` sur les données. L'**accuracy calculée est la proportion d'images bien prédites**.\n",
    "\n",
    "**Remarque:** en `PyTorch` on peut utiliser un `DataLoader` pour faire le travail de fournir les données en paquets de taille `batch_size` mais pour des raisons de pédagogie on refait le code à la main à partir de `x_train` et `y_train`."
   ]
  },
  {
   "cell_type": "markdown",
   "id": "0672b152-da41-434b-b4fe-c4341cb7b7d5",
   "metadata": {
    "editable": true,
    "jp-MarkdownHeadingCollapsed": true,
    "slideshow": {
     "slide_type": ""
    },
    "tags": [
     "solution"
    ]
   },
   "source": [
    "### Solution"
   ]
  },
  {
   "cell_type": "code",
   "execution_count": null,
   "id": "939d950a-de0a-4254-8d6b-ec1a37e3087d",
   "metadata": {
    "editable": true,
    "slideshow": {
     "slide_type": ""
    },
    "tags": [
     "solution"
    ]
   },
   "outputs": [],
   "source": [
    "from tqdm import tqdm\n",
    "def training(model, optimizer, epochs=100, batch_size=512): \n",
    "    criterion = nn.CrossEntropyLoss()\n",
    "    loss_train, accuracy_train = [], [] \n",
    "    accuracy_test = []\n",
    "\n",
    "    n_train = len(y_train)\n",
    "    n_test = len(y_test)\n",
    "    n_iters = n_train // batch_size\n",
    "    with tqdm(range(epochs), unit=\"epoch\") as tepoch:\n",
    "        for epoch in tepoch:\n",
    "            model.train()\n",
    "            running_loss = 0\n",
    "            correct = 0\n",
    "            # on mélange à chaque epoch par une permutation aléatoire\n",
    "            idx = torch.randperm(n_train)\n",
    "            for k in range(n_iters):\n",
    "                batch = idx[k*batch_size: min((k+1)*batch_size, n_train)]\n",
    "                x_batch, y_batch = x_train[batch], y_train[batch] \n",
    "                \n",
    "                optimizer.zero_grad()\n",
    "                scores = model(x_batch)\n",
    "                loss = criterion(scores, y_batch)\n",
    "                loss.backward()\n",
    "                optimizer.step()\n",
    "                running_loss += loss.item()\n",
    "\n",
    "            running_loss /= n_iters\n",
    "            loss_train.append(running_loss)\n",
    "            model.eval()\n",
    "            with torch.no_grad():\n",
    "                scores = model(x_train)\n",
    "                correct = (scores.max(axis=1).indices.flatten() == y_train).sum().item()\n",
    "                accuracy_train.append(correct / n_train)\n",
    "                scores = model(x_test)\n",
    "                correct = (scores.max(axis=1).indices.flatten() == y_test).sum().item()\n",
    "                accuracy_test.append(correct / n_test)\n",
    "            tepoch.set_postfix(loss=loss_train[-1], accuracy=accuracy_train[-1], accuracy_test=accuracy_test[-1])\n",
    "    return { \"loss\": loss_train, \"accuracy_train\": accuracy_train, \"accuracy_test\": accuracy_test }"
   ]
  },
  {
   "cell_type": "markdown",
   "id": "11084437-74e6-4c1e-8cc0-a74d5dac9836",
   "metadata": {
    "editable": true,
    "slideshow": {
     "slide_type": ""
    },
    "tags": []
   },
   "source": [
    "### Comparaison SGD et Adam\n",
    "\n",
    "Utiliser la fonction précédente `training` pour comparer sur 200 epochs les 2 optimiseurs suivants:\n",
    "- SGD Stochastic Gradient Descent classique avec learning rate de 0.005\n",
    "- Adam (ADAptive Moment estimation) avec les paramètres par défaut\n",
    "\n",
    "On tracera les loss en fonction des epochs ainsi que l'accurary score sur les données d'entrainement et sur les données d'apprentissage."
   ]
  },
  {
   "cell_type": "markdown",
   "id": "31d3b90d-dc7a-46ac-b514-27bd1bbcb901",
   "metadata": {
    "editable": true,
    "jp-MarkdownHeadingCollapsed": true,
    "slideshow": {
     "slide_type": ""
    },
    "tags": [
     "solution"
    ]
   },
   "source": [
    "### Solution"
   ]
  },
  {
   "cell_type": "code",
   "execution_count": null,
   "id": "2195a5d2-20c2-4c84-ba9f-3f5e51d9c255",
   "metadata": {
    "editable": true,
    "slideshow": {
     "slide_type": ""
    },
    "tags": [
     "solution"
    ]
   },
   "outputs": [],
   "source": [
    "# on définit le dictionnaire result pour stocker tous les résultats d'entrainement\n",
    "result = {}"
   ]
  },
  {
   "cell_type": "code",
   "execution_count": null,
   "id": "57172f53-20bf-40c1-a38a-08942e0babc1",
   "metadata": {
    "editable": true,
    "slideshow": {
     "slide_type": ""
    },
    "tags": [
     "solution"
    ]
   },
   "outputs": [],
   "source": [
    "epochs = 200\n",
    "result[\"softmax\"] = { \"epochs\": np.arange(epochs) }\n",
    "\n",
    "model_linear.load_state_dict(copy.deepcopy(state_init))\n",
    "optimizer = optim.SGD(model_linear.parameters(), lr=0.005)\n",
    "result[\"softmax\"][\"sgd\"] = training(model_linear, optimizer, batch_size=512, epochs=epochs)"
   ]
  },
  {
   "cell_type": "code",
   "execution_count": null,
   "id": "f547b16d-6b2b-4cfe-8e8d-b9c07ad27a62",
   "metadata": {
    "editable": true,
    "slideshow": {
     "slide_type": ""
    },
    "tags": [
     "solution"
    ]
   },
   "outputs": [],
   "source": [
    "r = result[\"softmax\"]\n",
    "fig, (ax1, ax2) = plt.subplots(ncols=2, figsize=(10, 4), layout=\"tight\")\n",
    "ax1.plot(r[\"epochs\"], r[\"sgd\"][\"loss\"], label=\"loss SGD\")\n",
    "ax2.plot(r[\"epochs\"], r[\"sgd\"][\"accuracy_train\"], label=\"accuracy train SGD\")\n",
    "ax2.plot(r[\"epochs\"], r[\"sgd\"][\"accuracy_test\"], label=\"accuracy test SGD\")\n",
    "ax1.legend()\n",
    "ax2.legend()\n",
    "fig.suptitle(\"Softmax regression\")\n",
    "plt.show()"
   ]
  },
  {
   "cell_type": "code",
   "execution_count": null,
   "id": "ce81549f-7b9f-4149-8f36-b8b2798a5e86",
   "metadata": {
    "editable": true,
    "slideshow": {
     "slide_type": ""
    },
    "tags": [
     "solution"
    ]
   },
   "outputs": [],
   "source": [
    "model_linear.load_state_dict(copy.deepcopy(state_init))\n",
    "optimizer = optim.Adam(model_linear.parameters())\n",
    "result[\"softmax\"][\"adam\"] = training(model_linear, optimizer, batch_size=512, epochs=epochs)"
   ]
  },
  {
   "cell_type": "code",
   "execution_count": null,
   "id": "bc39c97f-fb12-4d4c-b70a-c97d339eeb26",
   "metadata": {
    "editable": true,
    "slideshow": {
     "slide_type": ""
    },
    "tags": [
     "solution"
    ]
   },
   "outputs": [],
   "source": [
    "# pour simplifier les codes ultérieurs on définit une fonction... \n",
    "def plot_SGD_Adam(r, name): \n",
    "    fig, (ax1, ax2) = plt.subplots(ncols=2, figsize=(10, 4), layout=\"tight\")\n",
    "    ax1.plot(r[\"epochs\"], r[\"sgd\"][\"loss\"], label=\"loss SGD\")\n",
    "    ax1.plot(r[\"epochs\"], r[\"adam\"][\"loss\"], color=\"C2\", label=\"loss Adam\")\n",
    "    ax2.plot(r[\"epochs\"], r[\"sgd\"][\"accuracy_train\"], label=\"accuracy train SGD\")\n",
    "    ax2.plot(r[\"epochs\"], r[\"sgd\"][\"accuracy_test\"], label=\"accuracy test SGD\")\n",
    "    ax2.plot(r[\"epochs\"], r[\"adam\"][\"accuracy_train\"], color=\"C2\", label=\"accuracy train Adam\")\n",
    "    ax2.plot(r[\"epochs\"], r[\"adam\"][\"accuracy_test\"], color=\"C3\", label=\"accuracy test Adam\")\n",
    "    ax1.legend()\n",
    "    ax2.legend()\n",
    "    fig.suptitle(name)\n",
    "    plt.show()"
   ]
  },
  {
   "cell_type": "code",
   "execution_count": null,
   "id": "d6f09cf9-abb6-4d9d-ac78-61fa3d660a03",
   "metadata": {
    "editable": true,
    "slideshow": {
     "slide_type": ""
    },
    "tags": [
     "solution"
    ]
   },
   "outputs": [],
   "source": [
    "plot_SGD_Adam(result[\"softmax\"], \"Softmax regression\")"
   ]
  },
  {
   "cell_type": "markdown",
   "id": "4c90855a-e22a-49fd-9261-174025d51805",
   "metadata": {
    "editable": true,
    "slideshow": {
     "slide_type": ""
    },
    "tags": []
   },
   "source": [
    "### Changement de backend (si possible)\n",
    "\n",
    "En informatique, le terme \"backend\" fait référence à la partie d'un logiciel ou d'un framework qui est responsable de l'exécution des opérations de bas niveau, telles que les calculs mathématiques, l'optimisation et l'interaction avec le matériel. En `PyTorch`, un backend est la composante responsable de l'exécution des opérations sur les tenseurs et de la gestion des calculs.\n",
    "`PyTorch` propose plusieurs backends pour exécuter les opérations de bas niveau. Les principaux backends de `PyTorch` sont les suivants :\n",
    "\n",
    "- CPU Backend: `\"cpu\"` les calculs sont effectués sur le processeur central (CPU) de l'ordinateur. Il offre une exécution efficace sur les CPUs modernes et est capable de tirer parti des optimisations spécifiques du matériel.\n",
    "\n",
    "- CUDA Backend: `\"cuda\"` CUDA est une plateforme de calcul parallèle développée par NVIDIA. `PyTorch` utilise le backend CUDA pour exécuter des calculs sur les GPU NVIDIA. L'utilisation de GPU permet d'accélérer considérablement les calculs en parallélisant les opérations sur des milliers de coeurs de traitement. Cela rend `PyTorch` particulièrement efficace pour l'entraînement et l'inférence de modèles de réseaux de neurones profonds.\n",
    "\n",
    "- Autres backends: `\"mps\"` pour le GPU intégré des puces M1/M2 chez Apple."
   ]
  },
  {
   "cell_type": "markdown",
   "id": "9fc0069f-6217-4fb7-9921-cdf7c17f266b",
   "metadata": {
    "editable": true,
    "jp-MarkdownHeadingCollapsed": true,
    "slideshow": {
     "slide_type": ""
    },
    "tags": [
     "solution"
    ]
   },
   "source": [
    "### Solution"
   ]
  },
  {
   "cell_type": "code",
   "execution_count": null,
   "id": "66d3ecc4-bac2-45e7-9f7c-24f7d866e9ee",
   "metadata": {
    "editable": true,
    "slideshow": {
     "slide_type": ""
    },
    "tags": [
     "solution"
    ]
   },
   "outputs": [],
   "source": [
    "# sur mon macbook pro M2 \n",
    "mps_device = torch.device(\"mps\")\n",
    "x_train = x_train.to(mps_device)\n",
    "y_train = y_train.to(mps_device)\n",
    "x_test = x_test.to(mps_device)\n",
    "y_test = y_test.to(mps_device)\n",
    "\n",
    "epochs = 200\n",
    "model_linear.load_state_dict(copy.deepcopy(state_init))\n",
    "model_linear.to(mps_device)\n",
    "optimizer = optim.Adam(model_linear.parameters())\n",
    "training(model_linear, optimizer, batch_size=512, epochs=epochs);"
   ]
  },
  {
   "cell_type": "code",
   "execution_count": null,
   "id": "546648e1-dd7c-4909-acf1-4be5f47e9ee1",
   "metadata": {
    "editable": true,
    "slideshow": {
     "slide_type": ""
    },
    "tags": [
     "solution"
    ]
   },
   "outputs": [],
   "source": [
    "# on revient sur le cpu pour la suite... \n",
    "cpu_device = torch.device(\"cpu\")\n",
    "x_train = x_train.to(cpu_device)\n",
    "y_train = y_train.to(cpu_device)\n",
    "x_test = x_test.to(cpu_device)\n",
    "y_test = y_test.to(cpu_device)"
   ]
  },
  {
   "cell_type": "markdown",
   "id": "1fbf84a7-ccb4-481b-bb14-bdaa8f431761",
   "metadata": {
    "editable": true,
    "slideshow": {
     "slide_type": ""
    },
    "tags": []
   },
   "source": [
    "## Feed-forward neural network (FFNN)\n",
    "\n",
    "On ajoute une couche cachée (hidden layer) entre les entrées et la couche de sortie linéaire de 10 neurones. Cette couche cachée est une couche linéaire avec une fonction non-linéaire appliquée point par point. La fonction non-linéaire classique que l'on utilise ici est la fonction **Rectified Linear Unit**: $\\text{ReLU}(x) = \\max(x, 0)$. "
   ]
  },
  {
   "cell_type": "markdown",
   "id": "e6d9fdc6-172e-4493-9b73-76fb0611e5ba",
   "metadata": {
    "editable": true,
    "slideshow": {
     "slide_type": ""
    },
    "tags": []
   },
   "source": [
    "### Définition du modèle\n",
    "- Définir un `model_ffnn` avec une seule couche cachée de 128 neurones. Cette couche a pour fonction d'activation un ReLU.\n",
    "- Combien de paramètres possède cette fonction ? C'est la dimension dans lequel on doit résoudre le problème d'optimisation! \n",
    "- Reprendre les questions précédentes avec ce modèle."
   ]
  },
  {
   "cell_type": "markdown",
   "id": "65144d36-55c4-45c7-a701-c320c5cded15",
   "metadata": {
    "editable": true,
    "jp-MarkdownHeadingCollapsed": true,
    "slideshow": {
     "slide_type": ""
    },
    "tags": [
     "solution"
    ]
   },
   "source": [
    "### Solution"
   ]
  },
  {
   "cell_type": "code",
   "execution_count": null,
   "id": "f6bdf242-997d-4390-869e-8d9dd8f0474f",
   "metadata": {
    "editable": true,
    "slideshow": {
     "slide_type": ""
    },
    "tags": [
     "solution"
    ]
   },
   "outputs": [],
   "source": [
    "hidden_layer = 128\n",
    "\n",
    "model_ffnn = nn.Sequential(\n",
    "    nn.Flatten(),\n",
    "    nn.Linear(28*28, hidden_layer), \n",
    "    nn.Dropout(p=0.1), \n",
    "    nn.ReLU(),\n",
    "    nn.Linear(hidden_layer, 10)\n",
    ")\n",
    "print(model_ffnn)\n",
    "\n",
    "import copy\n",
    "state_init_ffnn = copy.deepcopy(model_ffnn.state_dict())\n",
    "state_init_ffnn"
   ]
  },
  {
   "cell_type": "code",
   "execution_count": null,
   "id": "cc39e11f-31d4-4288-a13a-d40012d3a929",
   "metadata": {
    "editable": true,
    "slideshow": {
     "slide_type": ""
    },
    "tags": [
     "solution"
    ]
   },
   "outputs": [],
   "source": [
    "def count_parameters(model):\n",
    "    return sum(p.numel() for p in model.parameters() if p.requires_grad)"
   ]
  },
  {
   "cell_type": "code",
   "execution_count": null,
   "id": "c3f7f66a-cf60-404d-87a2-417e705366c7",
   "metadata": {
    "editable": true,
    "slideshow": {
     "slide_type": ""
    },
    "tags": [
     "solution"
    ]
   },
   "outputs": [],
   "source": [
    "count_parameters(model_ffnn)"
   ]
  },
  {
   "cell_type": "code",
   "execution_count": null,
   "id": "0161b729-76e2-4791-92ef-6e8e5d04b862",
   "metadata": {},
   "outputs": [],
   "source": [
    "from torchinfo import summary"
   ]
  },
  {
   "cell_type": "code",
   "execution_count": null,
   "id": "71e56173-9888-49ef-8de2-e4c26259dbe9",
   "metadata": {},
   "outputs": [],
   "source": [
    "summary(model_ffnn)"
   ]
  },
  {
   "cell_type": "code",
   "execution_count": null,
   "id": "b0414af3-3e0c-4538-8dbf-d1d28cb5c842",
   "metadata": {
    "editable": true,
    "slideshow": {
     "slide_type": ""
    },
    "tags": [
     "solution"
    ]
   },
   "outputs": [],
   "source": [
    "epochs = 200\n",
    "result[\"ffnn\"] = { \"epochs\": np.arange(epochs) } \n",
    "\n",
    "model_ffnn.load_state_dict(copy.deepcopy(state_init_ffnn))\n",
    "optimizer = optim.SGD(model_ffnn.parameters(), lr=0.005)\n",
    "result[\"ffnn\"][\"sgd\"] = training(model_ffnn, optimizer, batch_size=512, epochs=epochs)"
   ]
  },
  {
   "cell_type": "code",
   "execution_count": null,
   "id": "17bd9a04-f6d7-4f90-a81c-a004c2083b68",
   "metadata": {
    "editable": true,
    "slideshow": {
     "slide_type": ""
    },
    "tags": [
     "solution"
    ]
   },
   "outputs": [],
   "source": [
    "model_ffnn.load_state_dict(copy.deepcopy(state_init_ffnn))\n",
    "optimizer = optim.Adam(model_ffnn.parameters())\n",
    "result[\"ffnn\"][\"adam\"] = training(model_ffnn, optimizer, batch_size=512, epochs=epochs)"
   ]
  },
  {
   "cell_type": "code",
   "execution_count": null,
   "id": "af329a30-58a6-4374-80b2-e44de2b7371b",
   "metadata": {
    "editable": true,
    "slideshow": {
     "slide_type": ""
    },
    "tags": [
     "solution"
    ]
   },
   "outputs": [],
   "source": [
    "plot_SGD_Adam(result[\"ffnn\"], \"Feed-Forward Neural Network (1 hidden layer)\")"
   ]
  },
  {
   "cell_type": "markdown",
   "id": "97f1440b-9402-46be-b81e-225aa35265fd",
   "metadata": {
    "editable": true,
    "slideshow": {
     "slide_type": ""
    },
    "tags": []
   },
   "source": [
    "### Visualisation des exemples mal classés\n",
    "\n",
    "- Combien d'exemples sont mal classés par ce modèle après apprentissage et optimisation via Adam ? \n",
    "- Visualiser quelques exemples mal classés par ce modèle."
   ]
  },
  {
   "cell_type": "markdown",
   "id": "301eca69-6392-42fd-b691-87d8c6aa948e",
   "metadata": {
    "editable": true,
    "jp-MarkdownHeadingCollapsed": true,
    "slideshow": {
     "slide_type": ""
    },
    "tags": [
     "solution"
    ]
   },
   "source": [
    "### Solution"
   ]
  },
  {
   "cell_type": "code",
   "execution_count": null,
   "id": "3284d67c-164a-499d-a391-7226bf29584a",
   "metadata": {
    "editable": true,
    "slideshow": {
     "slide_type": ""
    },
    "tags": [
     "solution"
    ]
   },
   "outputs": [],
   "source": [
    "scores_test = model_ffnn(x_test)\n",
    "preds = scores_test.max(axis=1).indices.flatten()\n",
    "correct = preds == y_test\n",
    "num_uncorrect = torch.logical_not(correct).sum().item()\n",
    "print(\"nombre d'exemples mal classés:\", num_uncorrect)"
   ]
  },
  {
   "cell_type": "code",
   "execution_count": null,
   "id": "fd3572ec-ce89-464e-8fbd-dc019c53ced3",
   "metadata": {
    "editable": true,
    "slideshow": {
     "slide_type": ""
    },
    "tags": [
     "solution"
    ]
   },
   "outputs": [],
   "source": [
    "import matplotlib.pyplot as plt\n",
    "from torchvision.transforms import ToPILImage\n",
    "transform = ToPILImage()\n",
    "\n",
    "fig, axs = plt.subplots(ncols=6, nrows=3)\n",
    "for ax in axs.flatten():\n",
    "    idx = torch.randint(num_uncorrect, size=(1,)).item()\n",
    "    image = transform(x_test[torch.logical_not(correct)][idx])\n",
    "    pred = preds[torch.logical_not(correct)][idx].numpy()\n",
    "    label = y_test[torch.logical_not(correct)][idx].numpy()\n",
    "    ax.imshow(image, cmap=\"gray\")\n",
    "    ax.set_axis_off()\n",
    "    ax.set_title(np.array2string(pred) + \"  -  \" + np.array2string(label))"
   ]
  },
  {
   "cell_type": "code",
   "execution_count": null,
   "id": "f11b4f1a-1344-4bf6-95c7-9518d1ded813",
   "metadata": {},
   "outputs": [],
   "source": []
  },
  {
   "cell_type": "markdown",
   "id": "dde7cff3-f901-45d7-9621-8a0996193ab3",
   "metadata": {
    "editable": true,
    "slideshow": {
     "slide_type": ""
    },
    "tags": []
   },
   "source": [
    "## Convolutional Neural Network (CNN)\n",
    "\n",
    "Un réseau neuronal convolutif (Convolutional Neural Network ou CNN en anglais) est une architecture spécifique de réseau neuronal profond (deep learning) conçue principalement pour le traitement des données structurées en grille, telles que des images ou des séquences temporelles. Les CNN sont particulièrement performants dans les tâches de vision par ordinateur, comme la classification d'images, la détection d'objets et la segmentation sémantique.\n",
    "\n",
    "La principale caractéristique d'un CNN réside dans son utilisation de couches de convolution. Les couches de convolution effectuent des opérations de convolution sur les entrées, en utilisant des filtres ou des noyaux appris pour extraire des caractéristiques spécifiques des données: les bords, les textures ou les motifs présents dans les données.\n",
    "\n",
    "Une couche de convolution possède plusieurs hyperparamètres: \n",
    "\n",
    "En plus des couches de convolution, les CNN comprennent également d'autres types de couches:\n",
    "\n",
    "- Couches de pooling : Les opérations de pooling, comme le max pooling, aident à préserver les caractéristiques les plus importantes tout en réduisant la quantité de calculs nécessaires et le nombre de paramètres.\n",
    "\n",
    "- Couches de normalisation : Elles normalisent les activations des neurones pour améliorer la stabilité et accélérer l'apprentissage.\n",
    "\n",
    "- Couches entièrement connectées : Elles sont situées à la fin du réseau et réalisent une classification ou une régression sur les caractéristiques extraites par les couches précédentes. Ces couches sont similaires aux couches d'un réseau neuronal traditionnel et utilisent généralement des fonctions d'activation non linéaires telles que ReLU (Rectified Linear Unit).\n",
    "\n",
    "![](img/cnn_view.png)\n",
    "\n",
    "Voici par exemple des architectures \"historiques\", obtenues sur la page [wikipedia de LeNet](https://en.wikipedia.org/wiki/LeNet).\n",
    "![](img/cnn_examples.svg)\n",
    "\n",
    "Ici on propose de tester une architecture basée sur: \n",
    "- `nn.Conv2d`: https://pytorch.org/docs/stable/generated/torch.nn.Conv2d.html\n",
    "- `nn.MaxPool2d`: https://pytorch.org/docs/stable/generated/torch.nn.MaxPool2d.html\n",
    "- `nn.Linear`"
   ]
  },
  {
   "cell_type": "markdown",
   "id": "ad40fcdd-dce9-43b2-bcdf-aefadf02cf76",
   "metadata": {
    "editable": true,
    "slideshow": {
     "slide_type": ""
    },
    "tags": []
   },
   "source": [
    "### Définition du modèle \n",
    "\n",
    "Définir le réseau CNN suivant:\n",
    "- Convolution avec 8 kernels de taille 5 (c'est à dire un carré 5x5), stride et padding à 0\n",
    "- ReLU\n",
    "- Max-Pooling 2x2\n",
    "- Convolution avec 16 kernels de taille 5, stride et padding à 0\n",
    "- ReLU\n",
    "- Max-Pooling 2x2\n",
    "- Une simple couche linéaire de sortie"
   ]
  },
  {
   "cell_type": "markdown",
   "id": "65b6f5ba-bbd4-4ee9-80ad-6671d8ff6238",
   "metadata": {
    "editable": true,
    "jp-MarkdownHeadingCollapsed": true,
    "slideshow": {
     "slide_type": ""
    },
    "tags": [
     "solution"
    ]
   },
   "source": [
    "### Solution"
   ]
  },
  {
   "cell_type": "code",
   "execution_count": null,
   "id": "26d94d1a-9a47-4754-ab58-d5fa4294f8e3",
   "metadata": {
    "editable": true,
    "slideshow": {
     "slide_type": ""
    },
    "tags": [
     "solution"
    ]
   },
   "outputs": [],
   "source": [
    "model_cnn = nn.Sequential(\n",
    "    nn.Conv2d(in_channels=1, out_channels=8, kernel_size=5), \n",
    "    nn.ReLU(),\n",
    "    nn.MaxPool2d(kernel_size=2), # 12\n",
    "    nn.Conv2d(8, 16, 5), \n",
    "    nn.ReLU(),\n",
    "    nn.MaxPool2d(2), # 4\n",
    "    nn.Flatten(),\n",
    "    nn.Linear(16*4*4, 10), \n",
    ")\n",
    "\n",
    "import copy\n",
    "state_init_cnn = copy.deepcopy(model_cnn.state_dict())\n",
    "#state_init_cnn"
   ]
  },
  {
   "cell_type": "code",
   "execution_count": null,
   "id": "a1bd8c52-5a14-4907-888b-515968d57674",
   "metadata": {
    "editable": true,
    "slideshow": {
     "slide_type": ""
    },
    "tags": [
     "solution"
    ]
   },
   "outputs": [],
   "source": [
    "count_parameters(model_cnn)"
   ]
  },
  {
   "cell_type": "code",
   "execution_count": null,
   "id": "3d5db629-fe2d-496d-94ff-ef5cf08781eb",
   "metadata": {
    "editable": true,
    "slideshow": {
     "slide_type": ""
    },
    "tags": [
     "solution"
    ]
   },
   "outputs": [],
   "source": [
    "# pour avoir des informations plus complètes sur l'architecture du réseau \n",
    "# on peut charger le module `torchinfo` (après installation)\n",
    "from torchinfo import summary\n",
    "summary(model_cnn, input_size=(512, 1, 28, 28))"
   ]
  },
  {
   "cell_type": "code",
   "execution_count": null,
   "id": "582f5b76-2f8a-4477-8e07-01022a0cffa4",
   "metadata": {
    "editable": true,
    "slideshow": {
     "slide_type": ""
    },
    "tags": [
     "solution"
    ]
   },
   "outputs": [],
   "source": [
    "device = torch.device(\"cpu\")\n",
    "x_train = x_train.reshape((-1,1,28,28)).to(device)\n",
    "x_test = x_test.reshape((-1,1,28,28)).to(device)\n",
    "y_train = y_train.to(device)\n",
    "y_test = y_test.to(device)"
   ]
  },
  {
   "cell_type": "code",
   "execution_count": null,
   "id": "77f2dec8-2478-4b64-946f-2d102ee778b6",
   "metadata": {
    "editable": true,
    "slideshow": {
     "slide_type": ""
    },
    "tags": [
     "solution"
    ]
   },
   "outputs": [],
   "source": [
    "epochs = 50\n",
    "result[\"cnn\"] = { \"epochs\": np.arange(epochs) } \n",
    "\n",
    "model_cnn.load_state_dict(copy.deepcopy(state_init_cnn))\n",
    "model_cnn.to(device)\n",
    "optimizer = optim.SGD(model_cnn.parameters(), lr=0.005)\n",
    "result[\"cnn\"][\"sgd\"] = training(model_cnn, optimizer, batch_size=512, epochs=epochs)"
   ]
  },
  {
   "cell_type": "code",
   "execution_count": null,
   "id": "4966f13f-0de5-46db-93d8-9ddd39bf9612",
   "metadata": {
    "editable": true,
    "slideshow": {
     "slide_type": ""
    },
    "tags": [
     "solution"
    ]
   },
   "outputs": [],
   "source": [
    "model_cnn.load_state_dict(copy.deepcopy(state_init_cnn))\n",
    "model_cnn.to(device)\n",
    "optimizer = optim.Adam(model_cnn.parameters())\n",
    "result[\"cnn\"][\"adam\"] = training(model_cnn, optimizer, batch_size=512, epochs=epochs)"
   ]
  },
  {
   "cell_type": "code",
   "execution_count": null,
   "id": "827fb063-40c2-485c-92a3-9b39ae7211ae",
   "metadata": {
    "editable": true,
    "slideshow": {
     "slide_type": ""
    },
    "tags": [
     "solution"
    ]
   },
   "outputs": [],
   "source": [
    "plot_SGD_Adam(result[\"cnn\"], \"Convolutional Neural Network\")"
   ]
  },
  {
   "cell_type": "code",
   "execution_count": null,
   "id": "6fbcbbb3-441e-480e-8f15-d07cfbd63e92",
   "metadata": {
    "editable": true,
    "slideshow": {
     "slide_type": ""
    },
    "tags": [
     "solution"
    ]
   },
   "outputs": [],
   "source": [
    "scores_test = model_cnn(x_test)\n",
    "preds = scores_test.max(axis=1).indices.flatten()\n",
    "correct = preds == y_test\n",
    "num_uncorrect = torch.logical_not(correct).sum().item()\n",
    "print(\"nombre d'exemples mal classés:\", num_uncorrect)"
   ]
  },
  {
   "cell_type": "markdown",
   "id": "1056e187-e240-4134-93cb-0da80d9bb720",
   "metadata": {
    "editable": true,
    "slideshow": {
     "slide_type": ""
    },
    "tags": []
   },
   "source": [
    "## Changement de dataset: FashionMNIST\n",
    "\n",
    "Refaire la comparaison FNN (fully-connected) vs CNN sur le jeu de données FashionMNIST.\n",
    "```\n",
    "datasets.FashionMNIST\n",
    "```"
   ]
  },
  {
   "cell_type": "code",
   "execution_count": null,
   "id": "e3308334-f8d6-49f7-8b4b-3a6cf25a345a",
   "metadata": {
    "editable": true,
    "slideshow": {
     "slide_type": ""
    },
    "tags": []
   },
   "outputs": [],
   "source": [
    "from torchvision import datasets\n",
    "mnist_train = datasets.FashionMNIST('data', train=True, download=True)\n",
    "mnist_test = datasets.FashionMNIST('data', train=False, download=True)"
   ]
  },
  {
   "cell_type": "code",
   "execution_count": null,
   "id": "67d1e5e2-954b-420f-bb07-7fd6075b3de4",
   "metadata": {},
   "outputs": [],
   "source": [
    "import matplotlib.pyplot as plt\n",
    "\n",
    "fig, axs = plt.subplots(ncols=6, nrows=3)\n",
    "for ax in axs.flatten():\n",
    "    idx = torch.randint(len(mnist_train), size=(1,)).item()\n",
    "    image, label = mnist_train[idx]\n",
    "    ax.imshow(image, cmap=\"gray\")\n",
    "    ax.set_axis_off()\n",
    "    ax.set_title(label)"
   ]
  },
  {
   "cell_type": "markdown",
   "id": "f856bc52-2dbf-4d9c-ace9-aadf952064a4",
   "metadata": {
    "editable": true,
    "slideshow": {
     "slide_type": ""
    },
    "tags": []
   },
   "source": [
    "## Annexe"
   ]
  },
  {
   "cell_type": "markdown",
   "id": "f11d0e56-e2c4-4c1d-aab6-75023ac39e5e",
   "metadata": {
    "editable": true,
    "slideshow": {
     "slide_type": ""
    },
    "tags": []
   },
   "source": [
    "### Utilisation du `DataLoader`\n",
    "\n",
    "Le `DataLoader` de `PyTorch` est une classe utilitaire qui facilite le chargement et la gestion des données d'entraînement et de test dans les modèles d'apprentissage automatique. Il offre plusieurs avantages et fonctionnalités qui simplifient le processus de préparation des données et d'itération sur les batchs (mini-lots) lors de l'entraînement des modèles. \n",
    "\n",
    "On reprend le jeu de données MNIST.\n",
    "- Créer un `DataLoader` en spécifiant le jeu de données `mnist_train` comme argument, avec un `batch_size` de 64 pour regrouper les données en mini-lots de taille 64, et avec l'option `shuffle=True` pour mélanger aléatoirement les données à chaque epoch (après un passage complet sur l'ensemble du dataset).\n",
    "- Faire une boucle sur cet objet `DataLoader` pour le manipuler.\n",
    "- Que représente une itération complète sur cet objet, et combien d'images est dans le dernier lot ? "
   ]
  },
  {
   "cell_type": "markdown",
   "id": "9fdbef8d-0f3a-4992-940d-a7417b3f46b7",
   "metadata": {
    "editable": true,
    "jp-MarkdownHeadingCollapsed": true,
    "slideshow": {
     "slide_type": ""
    },
    "tags": [
     "solution"
    ]
   },
   "source": [
    "### Solution"
   ]
  },
  {
   "cell_type": "code",
   "execution_count": null,
   "id": "d06aa649-d853-418c-b887-265941c67e5e",
   "metadata": {
    "editable": true,
    "slideshow": {
     "slide_type": ""
    },
    "tags": [
     "solution"
    ]
   },
   "outputs": [],
   "source": [
    "from torchvision.transforms import ToTensor\n",
    "mnist_train = datasets.MNIST('data', train=True, download=True, transform=ToTensor())"
   ]
  },
  {
   "cell_type": "code",
   "execution_count": null,
   "id": "084fda34-638a-4c01-9ecf-f6febf0f3922",
   "metadata": {
    "editable": true,
    "slideshow": {
     "slide_type": ""
    },
    "tags": [
     "solution"
    ]
   },
   "outputs": [],
   "source": [
    "train_loader = torch.utils.data.DataLoader(mnist_train, batch_size=64, shuffle=True)"
   ]
  },
  {
   "cell_type": "code",
   "execution_count": null,
   "id": "61cca102-cbe3-4f9b-8b96-d48ccd0ee601",
   "metadata": {},
   "outputs": [],
   "source": [
    "train_loader"
   ]
  },
  {
   "cell_type": "code",
   "execution_count": null,
   "id": "0f011ad5-a488-42a6-8cdb-f7ac98ab733d",
   "metadata": {
    "editable": true,
    "slideshow": {
     "slide_type": ""
    },
    "tags": [
     "solution"
    ]
   },
   "outputs": [],
   "source": [
    "n = len(train_loader)"
   ]
  },
  {
   "cell_type": "code",
   "execution_count": null,
   "id": "b62957df-091e-4d23-936d-297446ead873",
   "metadata": {
    "editable": true,
    "slideshow": {
     "slide_type": ""
    },
    "tags": [
     "solution"
    ]
   },
   "outputs": [],
   "source": [
    "for k, (x_batch, label) in enumerate(train_loader): \n",
    "    if k in (0, 1, n-2, n-1):\n",
    "        print(\"lot: \", k)\n",
    "        print(\"nombre d'images: \", len(x_batch))\n",
    "        print(\"forme images: \", x_batch.shape)\n",
    "        print(\"nombre de labels: \", len(label))"
   ]
  },
  {
   "cell_type": "code",
   "execution_count": null,
   "id": "8c4e2da8-00b6-4088-ba07-9cb6497145e1",
   "metadata": {},
   "outputs": [],
   "source": []
  }
 ],
 "metadata": {
  "kernelspec": {
   "display_name": "Python 3 (ipykernel)",
   "language": "python",
   "name": "python3"
  },
  "language_info": {
   "codemirror_mode": {
    "name": "ipython",
    "version": 3
   },
   "file_extension": ".py",
   "mimetype": "text/x-python",
   "name": "python",
   "nbconvert_exporter": "python",
   "pygments_lexer": "ipython3",
   "version": "3.13.4"
  },
  "toc-autonumbering": true,
  "toc-showcode": false,
  "toc-showmarkdowntxt": false,
  "toc-showtags": false,
  "widgets": {
   "application/vnd.jupyter.widget-state+json": {
    "state": {},
    "version_major": 2,
    "version_minor": 0
   }
  }
 },
 "nbformat": 4,
 "nbformat_minor": 5
}
