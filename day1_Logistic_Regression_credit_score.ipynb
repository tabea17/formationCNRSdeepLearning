{
 "cells": [
  {
   "cell_type": "markdown",
   "id": "8848ea2c",
   "metadata": {
    "tags": []
   },
   "source": [
    "# Classification binaire avec la régression logistique\n",
    "\n",
    "\n",
    "Dans ce TP, nous allons apprendre à mettre en oeuvre un modèle de régression logistique pour la prédiction de labels binaires $y$.   \n",
    "Rappel : la régression logistique repose sur une modélisation probabiliste, et donc plutôt que de prédire simplement 0/1, \n",
    "on calcule pour  chaque nouvelle observation un  score  entre 0 et 1 qui correspond à un estimateur de la probabilité $\\mathbb P(y=1|x)$. \n",
    " \n",
    "## Données *score*\n",
    "\n",
    "Le tableau *score* contient des données sur la solvabilité d'anciens clients en vue d'un crédit pour l'achat d'un véhicule.  La colonne `Y` indique si le client était solvable ($y=0$) ou pas ($y=1$) et c'est le label à prédire. Les autres colonnes du tableau sont des covariables avec des informations supplémentaires sur les clients. \n",
    "On cherche à construire un modèle qui explique la solvabilité en fonction de ces covariables : on veut donc apprendre la relation précise entre les covariables et le label à prédire.\n",
    "\n",
    "Il n'est pas clair si toutes les covariables sont utiles pour cette tâche, donc dans un second temps, on se posera la question de la sélection des covariables qui servent à prédire."
   ]
  },
  {
   "cell_type": "markdown",
   "id": "6ef997ea",
   "metadata": {},
   "source": [
    "## Préparer les données\n",
    "### Charger les données à partir du fichier externe\n",
    "On commence par charger les données stockées dans un fichier *day1_score.csv*. Si le fichier n'est pas trop gros, vous pouvez commencer par ouvrir ce fichier **avec un simple éditeur de texte**, pour identifier sa structure et paramétrer son importation. Vous constaterez que la première ligne indique les noms des variables, le séparateur est `;` et les décimales sont codées par des virgules (et non des points). Sinon, importation avec les paramètres standards et itérations successives pour trouver le bon format ! \n",
    "\n",
    "On peut simplement afficher les premières lignes avec la commande suivante afin de savoir comment paramétrer la fonction d'importation des données à partir du fichier :"
   ]
  },
  {
   "cell_type": "code",
   "execution_count": 1,
   "id": "addbe1ec",
   "metadata": {
    "tags": []
   },
   "outputs": [
    {
     "name": "stdout",
     "output_type": "stream",
     "text": [
      "Y;X1;X2;X3;X4;X5;X6;X7;X8;X9;X10;X11;X12;X13;X14;X15;X16;X17;X18;X19;X20\n",
      "1;0,2357642;5,913622368;10,21428088;9,090995286;8,860378697;8,71374237;1,164046936;10,02062761;13,22288529;687,612869;A;C;C;D;C;C;B;C;C;B\n"
     ]
    }
   ],
   "source": [
    "%%bash\n",
    "head -2 'data/day1_score.csv'"
   ]
  },
  {
   "cell_type": "markdown",
   "id": "f21c0443-3c42-4abf-a9fb-19a094eb4dfc",
   "metadata": {},
   "source": [
    "Si la commande précédente ne fonctionne pas sur votre OS, vous pouvez aussi utiliser"
   ]
  },
  {
   "cell_type": "code",
   "execution_count": 2,
   "id": "f4cb0785-8e36-4aaa-a82b-3149d7a1404f",
   "metadata": {},
   "outputs": [
    {
     "name": "stdout",
     "output_type": "stream",
     "text": [
      "0 Y;X1;X2;X3;X4;X5;X6;X7;X8;X9;X10;X11;X12;X13;X14;X15;X16;X17;X18;X19;X20\n",
      "\n",
      "1 1;0,2357642;5,913622368;10,21428088;9,090995286;8,860378697;8,71374237;1,164046936;10,02062761;13,22288529;687,612869;A;C;C;D;C;C;B;C;C;B\n",
      "\n",
      "2 0;0,272896445;5,644635014;8,317874317;7,797863894;12,1980939;10,42131828;1,041912557;10,39699897;17,02106117;463,0214685;A;C;D;C;C;C;B;D;C;A\n",
      "\n",
      "3 0;0,28355293;4,885597862;9,85715439;8,905712858;9,851255182;9,129554538;1,104167084;9,703631665;15,22605548;525,8005803;A;C;D;C;C;C;B;C;C;A\n",
      "\n",
      "4 0;0,256266356;5,408822167;9,766608189;9,026236738;9,731508198;8,538704868;1,270431315;11,06067917;15,08062759;623,5199437;A;B;C;C;C;C;B;C;C;A\n",
      "\n"
     ]
    }
   ],
   "source": [
    "file = open('data/day1_score.csv', 'r')\n",
    "for i, line in zip(range(5), file):\n",
    "   print(i, line)"
   ]
  },
  {
   "cell_type": "code",
   "execution_count": 3,
   "id": "bd4e8a66",
   "metadata": {},
   "outputs": [],
   "source": [
    "import os\n",
    "import numpy as np\n",
    "import pandas as pd\n",
    "\n",
    "# Votre chemin vers les données. Par défaut celui du notebook \n",
    "# path_data = '.'\n",
    "path_data = 'data/' \n",
    "\n",
    "# Lecture du fichier csv\n",
    "df = pd.read_csv(os.path.join(path_data, 'day1_score.csv'), sep=';', decimal=',')"
   ]
  },
  {
   "cell_type": "markdown",
   "id": "ef747aa8",
   "metadata": {},
   "source": [
    "### Exercice 1\n",
    "\n",
    "- Familiarisez-vous avec les données (à l'aide de `shape`, `head`, `dtypes`, `describe`, `iloc`,`items`). \n",
    "- Séparer les données en 3 dataframes qu'on nomme :\n",
    "\n",
    "    - `defaut` : pour les labels observés (`Y`)\n",
    "    - `quanti`: dataframe avec toutes les covariables quantitatives\n",
    "    - `quali`: dataframe avec toutes les covariables qualitatives"
   ]
  },
  {
   "cell_type": "code",
   "execution_count": 4,
   "id": "bf311646",
   "metadata": {
    "tags": []
   },
   "outputs": [],
   "source": [
    "# Your answer"
   ]
  },
  {
   "cell_type": "markdown",
   "id": "31004545",
   "metadata": {
    "tags": []
   },
   "source": [
    "### Réponse"
   ]
  },
  {
   "cell_type": "code",
   "execution_count": 5,
   "id": "daa3ea99",
   "metadata": {
    "tags": []
   },
   "outputs": [
    {
     "data": {
      "text/plain": [
       "(10000, 21)"
      ]
     },
     "execution_count": 5,
     "metadata": {},
     "output_type": "execute_result"
    }
   ],
   "source": [
    "df.shape"
   ]
  },
  {
   "cell_type": "markdown",
   "id": "28bb275d",
   "metadata": {
    "tags": []
   },
   "source": [
    "Le jeu de données contient 10 000 lignes (individus) décrits par 21 variables (colonnes).  "
   ]
  },
  {
   "cell_type": "code",
   "execution_count": 6,
   "id": "e4c9187c",
   "metadata": {
    "tags": []
   },
   "outputs": [
    {
     "data": {
      "text/html": [
       "<div>\n",
       "<style scoped>\n",
       "    .dataframe tbody tr th:only-of-type {\n",
       "        vertical-align: middle;\n",
       "    }\n",
       "\n",
       "    .dataframe tbody tr th {\n",
       "        vertical-align: top;\n",
       "    }\n",
       "\n",
       "    .dataframe thead th {\n",
       "        text-align: right;\n",
       "    }\n",
       "</style>\n",
       "<table border=\"1\" class=\"dataframe\">\n",
       "  <thead>\n",
       "    <tr style=\"text-align: right;\">\n",
       "      <th></th>\n",
       "      <th>Y</th>\n",
       "      <th>X1</th>\n",
       "      <th>X2</th>\n",
       "      <th>X3</th>\n",
       "      <th>X4</th>\n",
       "      <th>X5</th>\n",
       "      <th>X6</th>\n",
       "      <th>X7</th>\n",
       "      <th>X8</th>\n",
       "      <th>X9</th>\n",
       "      <th>...</th>\n",
       "      <th>X11</th>\n",
       "      <th>X12</th>\n",
       "      <th>X13</th>\n",
       "      <th>X14</th>\n",
       "      <th>X15</th>\n",
       "      <th>X16</th>\n",
       "      <th>X17</th>\n",
       "      <th>X18</th>\n",
       "      <th>X19</th>\n",
       "      <th>X20</th>\n",
       "    </tr>\n",
       "  </thead>\n",
       "  <tbody>\n",
       "    <tr>\n",
       "      <th>0</th>\n",
       "      <td>1</td>\n",
       "      <td>0.235764</td>\n",
       "      <td>5.913622</td>\n",
       "      <td>10.214281</td>\n",
       "      <td>9.090995</td>\n",
       "      <td>8.860379</td>\n",
       "      <td>8.713742</td>\n",
       "      <td>1.164047</td>\n",
       "      <td>10.020628</td>\n",
       "      <td>13.222885</td>\n",
       "      <td>...</td>\n",
       "      <td>A</td>\n",
       "      <td>C</td>\n",
       "      <td>C</td>\n",
       "      <td>D</td>\n",
       "      <td>C</td>\n",
       "      <td>C</td>\n",
       "      <td>B</td>\n",
       "      <td>C</td>\n",
       "      <td>C</td>\n",
       "      <td>B</td>\n",
       "    </tr>\n",
       "    <tr>\n",
       "      <th>1</th>\n",
       "      <td>0</td>\n",
       "      <td>0.272896</td>\n",
       "      <td>5.644635</td>\n",
       "      <td>8.317874</td>\n",
       "      <td>7.797864</td>\n",
       "      <td>12.198094</td>\n",
       "      <td>10.421318</td>\n",
       "      <td>1.041913</td>\n",
       "      <td>10.396999</td>\n",
       "      <td>17.021061</td>\n",
       "      <td>...</td>\n",
       "      <td>A</td>\n",
       "      <td>C</td>\n",
       "      <td>D</td>\n",
       "      <td>C</td>\n",
       "      <td>C</td>\n",
       "      <td>C</td>\n",
       "      <td>B</td>\n",
       "      <td>D</td>\n",
       "      <td>C</td>\n",
       "      <td>A</td>\n",
       "    </tr>\n",
       "    <tr>\n",
       "      <th>2</th>\n",
       "      <td>0</td>\n",
       "      <td>0.283553</td>\n",
       "      <td>4.885598</td>\n",
       "      <td>9.857154</td>\n",
       "      <td>8.905713</td>\n",
       "      <td>9.851255</td>\n",
       "      <td>9.129555</td>\n",
       "      <td>1.104167</td>\n",
       "      <td>9.703632</td>\n",
       "      <td>15.226055</td>\n",
       "      <td>...</td>\n",
       "      <td>A</td>\n",
       "      <td>C</td>\n",
       "      <td>D</td>\n",
       "      <td>C</td>\n",
       "      <td>C</td>\n",
       "      <td>C</td>\n",
       "      <td>B</td>\n",
       "      <td>C</td>\n",
       "      <td>C</td>\n",
       "      <td>A</td>\n",
       "    </tr>\n",
       "    <tr>\n",
       "      <th>3</th>\n",
       "      <td>0</td>\n",
       "      <td>0.256266</td>\n",
       "      <td>5.408822</td>\n",
       "      <td>9.766608</td>\n",
       "      <td>9.026237</td>\n",
       "      <td>9.731508</td>\n",
       "      <td>8.538705</td>\n",
       "      <td>1.270431</td>\n",
       "      <td>11.060679</td>\n",
       "      <td>15.080628</td>\n",
       "      <td>...</td>\n",
       "      <td>A</td>\n",
       "      <td>B</td>\n",
       "      <td>C</td>\n",
       "      <td>C</td>\n",
       "      <td>C</td>\n",
       "      <td>C</td>\n",
       "      <td>B</td>\n",
       "      <td>C</td>\n",
       "      <td>C</td>\n",
       "      <td>A</td>\n",
       "    </tr>\n",
       "    <tr>\n",
       "      <th>4</th>\n",
       "      <td>0</td>\n",
       "      <td>0.146725</td>\n",
       "      <td>6.809967</td>\n",
       "      <td>8.374727</td>\n",
       "      <td>9.643390</td>\n",
       "      <td>10.075919</td>\n",
       "      <td>6.530725</td>\n",
       "      <td>1.307692</td>\n",
       "      <td>12.538993</td>\n",
       "      <td>11.765490</td>\n",
       "      <td>...</td>\n",
       "      <td>A</td>\n",
       "      <td>C</td>\n",
       "      <td>D</td>\n",
       "      <td>D</td>\n",
       "      <td>C</td>\n",
       "      <td>C</td>\n",
       "      <td>B</td>\n",
       "      <td>D</td>\n",
       "      <td>C</td>\n",
       "      <td>A</td>\n",
       "    </tr>\n",
       "  </tbody>\n",
       "</table>\n",
       "<p>5 rows × 21 columns</p>\n",
       "</div>"
      ],
      "text/plain": [
       "   Y        X1        X2         X3        X4         X5         X6        X7  \\\n",
       "0  1  0.235764  5.913622  10.214281  9.090995   8.860379   8.713742  1.164047   \n",
       "1  0  0.272896  5.644635   8.317874  7.797864  12.198094  10.421318  1.041913   \n",
       "2  0  0.283553  4.885598   9.857154  8.905713   9.851255   9.129555  1.104167   \n",
       "3  0  0.256266  5.408822   9.766608  9.026237   9.731508   8.538705  1.270431   \n",
       "4  0  0.146725  6.809967   8.374727  9.643390  10.075919   6.530725  1.307692   \n",
       "\n",
       "          X8         X9  ...  X11 X12 X13 X14 X15 X16 X17 X18 X19 X20  \n",
       "0  10.020628  13.222885  ...    A   C   C   D   C   C   B   C   C   B  \n",
       "1  10.396999  17.021061  ...    A   C   D   C   C   C   B   D   C   A  \n",
       "2   9.703632  15.226055  ...    A   C   D   C   C   C   B   C   C   A  \n",
       "3  11.060679  15.080628  ...    A   B   C   C   C   C   B   C   C   A  \n",
       "4  12.538993  11.765490  ...    A   C   D   D   C   C   B   D   C   A  \n",
       "\n",
       "[5 rows x 21 columns]"
      ]
     },
     "execution_count": 6,
     "metadata": {},
     "output_type": "execute_result"
    }
   ],
   "source": [
    "df.head()"
   ]
  },
  {
   "cell_type": "code",
   "execution_count": 7,
   "id": "10271932",
   "metadata": {
    "tags": []
   },
   "outputs": [
    {
     "data": {
      "text/plain": [
       "Y        int64\n",
       "X1     float64\n",
       "X2     float64\n",
       "X3     float64\n",
       "X4     float64\n",
       "X5     float64\n",
       "X6     float64\n",
       "X7     float64\n",
       "X8     float64\n",
       "X9     float64\n",
       "X10    float64\n",
       "X11     object\n",
       "X12     object\n",
       "X13     object\n",
       "X14     object\n",
       "X15     object\n",
       "X16     object\n",
       "X17     object\n",
       "X18     object\n",
       "X19     object\n",
       "X20     object\n",
       "dtype: object"
      ]
     },
     "execution_count": 7,
     "metadata": {},
     "output_type": "execute_result"
    }
   ],
   "source": [
    "df.dtypes"
   ]
  },
  {
   "cell_type": "markdown",
   "id": "60d42d0f",
   "metadata": {
    "tags": []
   },
   "source": [
    "La première variable `Y` est la variable binaire à prédire. Il y a ensuite 10 variables quantitatives (`X1` à `X10`) et 10 variables qualitatives (`X11` à `X20`).\n",
    "\n",
    "Résumé des variables quantitatives :"
   ]
  },
  {
   "cell_type": "code",
   "execution_count": 8,
   "id": "5798cf63",
   "metadata": {
    "tags": []
   },
   "outputs": [
    {
     "data": {
      "text/html": [
       "<div>\n",
       "<style scoped>\n",
       "    .dataframe tbody tr th:only-of-type {\n",
       "        vertical-align: middle;\n",
       "    }\n",
       "\n",
       "    .dataframe tbody tr th {\n",
       "        vertical-align: top;\n",
       "    }\n",
       "\n",
       "    .dataframe thead th {\n",
       "        text-align: right;\n",
       "    }\n",
       "</style>\n",
       "<table border=\"1\" class=\"dataframe\">\n",
       "  <thead>\n",
       "    <tr style=\"text-align: right;\">\n",
       "      <th></th>\n",
       "      <th>Y</th>\n",
       "      <th>X1</th>\n",
       "      <th>X2</th>\n",
       "      <th>X3</th>\n",
       "      <th>X4</th>\n",
       "      <th>X5</th>\n",
       "      <th>X6</th>\n",
       "      <th>X7</th>\n",
       "      <th>X8</th>\n",
       "      <th>X9</th>\n",
       "      <th>X10</th>\n",
       "    </tr>\n",
       "  </thead>\n",
       "  <tbody>\n",
       "    <tr>\n",
       "      <th>count</th>\n",
       "      <td>10000.000000</td>\n",
       "      <td>10000.000000</td>\n",
       "      <td>10000.000000</td>\n",
       "      <td>10000.000000</td>\n",
       "      <td>10000.000000</td>\n",
       "      <td>10000.000000</td>\n",
       "      <td>10000.000000</td>\n",
       "      <td>10000.000000</td>\n",
       "      <td>10000.000000</td>\n",
       "      <td>10000.000000</td>\n",
       "      <td>10000.000000</td>\n",
       "    </tr>\n",
       "    <tr>\n",
       "      <th>mean</th>\n",
       "      <td>0.150000</td>\n",
       "      <td>0.219998</td>\n",
       "      <td>5.368112</td>\n",
       "      <td>8.608544</td>\n",
       "      <td>8.658652</td>\n",
       "      <td>10.315210</td>\n",
       "      <td>8.339753</td>\n",
       "      <td>1.048381</td>\n",
       "      <td>10.139954</td>\n",
       "      <td>13.461909</td>\n",
       "      <td>516.752378</td>\n",
       "    </tr>\n",
       "    <tr>\n",
       "      <th>std</th>\n",
       "      <td>0.357089</td>\n",
       "      <td>0.056868</td>\n",
       "      <td>1.164691</td>\n",
       "      <td>1.416576</td>\n",
       "      <td>1.414721</td>\n",
       "      <td>1.499355</td>\n",
       "      <td>1.232685</td>\n",
       "      <td>0.166093</td>\n",
       "      <td>1.544179</td>\n",
       "      <td>1.891698</td>\n",
       "      <td>107.123173</td>\n",
       "    </tr>\n",
       "    <tr>\n",
       "      <th>min</th>\n",
       "      <td>0.000000</td>\n",
       "      <td>-0.026780</td>\n",
       "      <td>0.905713</td>\n",
       "      <td>2.418750</td>\n",
       "      <td>3.331149</td>\n",
       "      <td>4.569676</td>\n",
       "      <td>3.497778</td>\n",
       "      <td>0.416426</td>\n",
       "      <td>3.609027</td>\n",
       "      <td>6.106315</td>\n",
       "      <td>71.097334</td>\n",
       "    </tr>\n",
       "    <tr>\n",
       "      <th>25%</th>\n",
       "      <td>0.000000</td>\n",
       "      <td>0.181454</td>\n",
       "      <td>4.592732</td>\n",
       "      <td>7.662919</td>\n",
       "      <td>7.705792</td>\n",
       "      <td>9.302691</td>\n",
       "      <td>7.496417</td>\n",
       "      <td>0.937231</td>\n",
       "      <td>9.094759</td>\n",
       "      <td>12.176467</td>\n",
       "      <td>445.432326</td>\n",
       "    </tr>\n",
       "    <tr>\n",
       "      <th>50%</th>\n",
       "      <td>0.000000</td>\n",
       "      <td>0.219981</td>\n",
       "      <td>5.373140</td>\n",
       "      <td>8.599041</td>\n",
       "      <td>8.657755</td>\n",
       "      <td>10.305086</td>\n",
       "      <td>8.331352</td>\n",
       "      <td>1.047099</td>\n",
       "      <td>10.131072</td>\n",
       "      <td>13.450765</td>\n",
       "      <td>517.036968</td>\n",
       "    </tr>\n",
       "    <tr>\n",
       "      <th>75%</th>\n",
       "      <td>0.000000</td>\n",
       "      <td>0.257330</td>\n",
       "      <td>6.141837</td>\n",
       "      <td>9.567110</td>\n",
       "      <td>9.613894</td>\n",
       "      <td>11.342159</td>\n",
       "      <td>9.174269</td>\n",
       "      <td>1.159312</td>\n",
       "      <td>11.189802</td>\n",
       "      <td>14.749339</td>\n",
       "      <td>589.887091</td>\n",
       "    </tr>\n",
       "    <tr>\n",
       "      <th>max</th>\n",
       "      <td>1.000000</td>\n",
       "      <td>0.468225</td>\n",
       "      <td>9.735571</td>\n",
       "      <td>15.650962</td>\n",
       "      <td>13.736798</td>\n",
       "      <td>15.476952</td>\n",
       "      <td>13.020388</td>\n",
       "      <td>1.665225</td>\n",
       "      <td>15.249689</td>\n",
       "      <td>21.272002</td>\n",
       "      <td>958.932459</td>\n",
       "    </tr>\n",
       "  </tbody>\n",
       "</table>\n",
       "</div>"
      ],
      "text/plain": [
       "                  Y            X1            X2            X3            X4  \\\n",
       "count  10000.000000  10000.000000  10000.000000  10000.000000  10000.000000   \n",
       "mean       0.150000      0.219998      5.368112      8.608544      8.658652   \n",
       "std        0.357089      0.056868      1.164691      1.416576      1.414721   \n",
       "min        0.000000     -0.026780      0.905713      2.418750      3.331149   \n",
       "25%        0.000000      0.181454      4.592732      7.662919      7.705792   \n",
       "50%        0.000000      0.219981      5.373140      8.599041      8.657755   \n",
       "75%        0.000000      0.257330      6.141837      9.567110      9.613894   \n",
       "max        1.000000      0.468225      9.735571     15.650962     13.736798   \n",
       "\n",
       "                 X5            X6            X7            X8            X9  \\\n",
       "count  10000.000000  10000.000000  10000.000000  10000.000000  10000.000000   \n",
       "mean      10.315210      8.339753      1.048381     10.139954     13.461909   \n",
       "std        1.499355      1.232685      0.166093      1.544179      1.891698   \n",
       "min        4.569676      3.497778      0.416426      3.609027      6.106315   \n",
       "25%        9.302691      7.496417      0.937231      9.094759     12.176467   \n",
       "50%       10.305086      8.331352      1.047099     10.131072     13.450765   \n",
       "75%       11.342159      9.174269      1.159312     11.189802     14.749339   \n",
       "max       15.476952     13.020388      1.665225     15.249689     21.272002   \n",
       "\n",
       "                X10  \n",
       "count  10000.000000  \n",
       "mean     516.752378  \n",
       "std      107.123173  \n",
       "min       71.097334  \n",
       "25%      445.432326  \n",
       "50%      517.036968  \n",
       "75%      589.887091  \n",
       "max      958.932459  "
      ]
     },
     "execution_count": 8,
     "metadata": {},
     "output_type": "execute_result"
    }
   ],
   "source": [
    "df.describe()"
   ]
  },
  {
   "cell_type": "markdown",
   "id": "e86018fe",
   "metadata": {
    "tags": []
   },
   "source": [
    "Si on souhaite un résumé incluant les variables qualitatives :"
   ]
  },
  {
   "cell_type": "code",
   "execution_count": 9,
   "id": "503160e6",
   "metadata": {
    "tags": []
   },
   "outputs": [
    {
     "data": {
      "text/html": [
       "<div>\n",
       "<style scoped>\n",
       "    .dataframe tbody tr th:only-of-type {\n",
       "        vertical-align: middle;\n",
       "    }\n",
       "\n",
       "    .dataframe tbody tr th {\n",
       "        vertical-align: top;\n",
       "    }\n",
       "\n",
       "    .dataframe thead th {\n",
       "        text-align: right;\n",
       "    }\n",
       "</style>\n",
       "<table border=\"1\" class=\"dataframe\">\n",
       "  <thead>\n",
       "    <tr style=\"text-align: right;\">\n",
       "      <th></th>\n",
       "      <th>Y</th>\n",
       "      <th>X1</th>\n",
       "      <th>X2</th>\n",
       "      <th>X3</th>\n",
       "      <th>X4</th>\n",
       "      <th>X5</th>\n",
       "      <th>X6</th>\n",
       "      <th>X7</th>\n",
       "      <th>X8</th>\n",
       "      <th>X9</th>\n",
       "      <th>...</th>\n",
       "      <th>X11</th>\n",
       "      <th>X12</th>\n",
       "      <th>X13</th>\n",
       "      <th>X14</th>\n",
       "      <th>X15</th>\n",
       "      <th>X16</th>\n",
       "      <th>X17</th>\n",
       "      <th>X18</th>\n",
       "      <th>X19</th>\n",
       "      <th>X20</th>\n",
       "    </tr>\n",
       "  </thead>\n",
       "  <tbody>\n",
       "    <tr>\n",
       "      <th>count</th>\n",
       "      <td>10000.000000</td>\n",
       "      <td>10000.000000</td>\n",
       "      <td>10000.000000</td>\n",
       "      <td>10000.000000</td>\n",
       "      <td>10000.000000</td>\n",
       "      <td>10000.000000</td>\n",
       "      <td>10000.000000</td>\n",
       "      <td>10000.000000</td>\n",
       "      <td>10000.000000</td>\n",
       "      <td>10000.000000</td>\n",
       "      <td>...</td>\n",
       "      <td>10000</td>\n",
       "      <td>10000</td>\n",
       "      <td>10000</td>\n",
       "      <td>10000</td>\n",
       "      <td>10000</td>\n",
       "      <td>10000</td>\n",
       "      <td>10000</td>\n",
       "      <td>10000</td>\n",
       "      <td>10000</td>\n",
       "      <td>10000</td>\n",
       "    </tr>\n",
       "    <tr>\n",
       "      <th>unique</th>\n",
       "      <td>NaN</td>\n",
       "      <td>NaN</td>\n",
       "      <td>NaN</td>\n",
       "      <td>NaN</td>\n",
       "      <td>NaN</td>\n",
       "      <td>NaN</td>\n",
       "      <td>NaN</td>\n",
       "      <td>NaN</td>\n",
       "      <td>NaN</td>\n",
       "      <td>NaN</td>\n",
       "      <td>...</td>\n",
       "      <td>2</td>\n",
       "      <td>2</td>\n",
       "      <td>4</td>\n",
       "      <td>4</td>\n",
       "      <td>4</td>\n",
       "      <td>3</td>\n",
       "      <td>3</td>\n",
       "      <td>4</td>\n",
       "      <td>3</td>\n",
       "      <td>3</td>\n",
       "    </tr>\n",
       "    <tr>\n",
       "      <th>top</th>\n",
       "      <td>NaN</td>\n",
       "      <td>NaN</td>\n",
       "      <td>NaN</td>\n",
       "      <td>NaN</td>\n",
       "      <td>NaN</td>\n",
       "      <td>NaN</td>\n",
       "      <td>NaN</td>\n",
       "      <td>NaN</td>\n",
       "      <td>NaN</td>\n",
       "      <td>NaN</td>\n",
       "      <td>...</td>\n",
       "      <td>A</td>\n",
       "      <td>C</td>\n",
       "      <td>D</td>\n",
       "      <td>C</td>\n",
       "      <td>C</td>\n",
       "      <td>C</td>\n",
       "      <td>B</td>\n",
       "      <td>C</td>\n",
       "      <td>C</td>\n",
       "      <td>A</td>\n",
       "    </tr>\n",
       "    <tr>\n",
       "      <th>freq</th>\n",
       "      <td>NaN</td>\n",
       "      <td>NaN</td>\n",
       "      <td>NaN</td>\n",
       "      <td>NaN</td>\n",
       "      <td>NaN</td>\n",
       "      <td>NaN</td>\n",
       "      <td>NaN</td>\n",
       "      <td>NaN</td>\n",
       "      <td>NaN</td>\n",
       "      <td>NaN</td>\n",
       "      <td>...</td>\n",
       "      <td>9856</td>\n",
       "      <td>6289</td>\n",
       "      <td>5001</td>\n",
       "      <td>6641</td>\n",
       "      <td>8930</td>\n",
       "      <td>9655</td>\n",
       "      <td>9888</td>\n",
       "      <td>5830</td>\n",
       "      <td>6501</td>\n",
       "      <td>6752</td>\n",
       "    </tr>\n",
       "    <tr>\n",
       "      <th>mean</th>\n",
       "      <td>0.150000</td>\n",
       "      <td>0.219998</td>\n",
       "      <td>5.368112</td>\n",
       "      <td>8.608544</td>\n",
       "      <td>8.658652</td>\n",
       "      <td>10.315210</td>\n",
       "      <td>8.339753</td>\n",
       "      <td>1.048381</td>\n",
       "      <td>10.139954</td>\n",
       "      <td>13.461909</td>\n",
       "      <td>...</td>\n",
       "      <td>NaN</td>\n",
       "      <td>NaN</td>\n",
       "      <td>NaN</td>\n",
       "      <td>NaN</td>\n",
       "      <td>NaN</td>\n",
       "      <td>NaN</td>\n",
       "      <td>NaN</td>\n",
       "      <td>NaN</td>\n",
       "      <td>NaN</td>\n",
       "      <td>NaN</td>\n",
       "    </tr>\n",
       "    <tr>\n",
       "      <th>std</th>\n",
       "      <td>0.357089</td>\n",
       "      <td>0.056868</td>\n",
       "      <td>1.164691</td>\n",
       "      <td>1.416576</td>\n",
       "      <td>1.414721</td>\n",
       "      <td>1.499355</td>\n",
       "      <td>1.232685</td>\n",
       "      <td>0.166093</td>\n",
       "      <td>1.544179</td>\n",
       "      <td>1.891698</td>\n",
       "      <td>...</td>\n",
       "      <td>NaN</td>\n",
       "      <td>NaN</td>\n",
       "      <td>NaN</td>\n",
       "      <td>NaN</td>\n",
       "      <td>NaN</td>\n",
       "      <td>NaN</td>\n",
       "      <td>NaN</td>\n",
       "      <td>NaN</td>\n",
       "      <td>NaN</td>\n",
       "      <td>NaN</td>\n",
       "    </tr>\n",
       "    <tr>\n",
       "      <th>min</th>\n",
       "      <td>0.000000</td>\n",
       "      <td>-0.026780</td>\n",
       "      <td>0.905713</td>\n",
       "      <td>2.418750</td>\n",
       "      <td>3.331149</td>\n",
       "      <td>4.569676</td>\n",
       "      <td>3.497778</td>\n",
       "      <td>0.416426</td>\n",
       "      <td>3.609027</td>\n",
       "      <td>6.106315</td>\n",
       "      <td>...</td>\n",
       "      <td>NaN</td>\n",
       "      <td>NaN</td>\n",
       "      <td>NaN</td>\n",
       "      <td>NaN</td>\n",
       "      <td>NaN</td>\n",
       "      <td>NaN</td>\n",
       "      <td>NaN</td>\n",
       "      <td>NaN</td>\n",
       "      <td>NaN</td>\n",
       "      <td>NaN</td>\n",
       "    </tr>\n",
       "    <tr>\n",
       "      <th>25%</th>\n",
       "      <td>0.000000</td>\n",
       "      <td>0.181454</td>\n",
       "      <td>4.592732</td>\n",
       "      <td>7.662919</td>\n",
       "      <td>7.705792</td>\n",
       "      <td>9.302691</td>\n",
       "      <td>7.496417</td>\n",
       "      <td>0.937231</td>\n",
       "      <td>9.094759</td>\n",
       "      <td>12.176467</td>\n",
       "      <td>...</td>\n",
       "      <td>NaN</td>\n",
       "      <td>NaN</td>\n",
       "      <td>NaN</td>\n",
       "      <td>NaN</td>\n",
       "      <td>NaN</td>\n",
       "      <td>NaN</td>\n",
       "      <td>NaN</td>\n",
       "      <td>NaN</td>\n",
       "      <td>NaN</td>\n",
       "      <td>NaN</td>\n",
       "    </tr>\n",
       "    <tr>\n",
       "      <th>50%</th>\n",
       "      <td>0.000000</td>\n",
       "      <td>0.219981</td>\n",
       "      <td>5.373140</td>\n",
       "      <td>8.599041</td>\n",
       "      <td>8.657755</td>\n",
       "      <td>10.305086</td>\n",
       "      <td>8.331352</td>\n",
       "      <td>1.047099</td>\n",
       "      <td>10.131072</td>\n",
       "      <td>13.450765</td>\n",
       "      <td>...</td>\n",
       "      <td>NaN</td>\n",
       "      <td>NaN</td>\n",
       "      <td>NaN</td>\n",
       "      <td>NaN</td>\n",
       "      <td>NaN</td>\n",
       "      <td>NaN</td>\n",
       "      <td>NaN</td>\n",
       "      <td>NaN</td>\n",
       "      <td>NaN</td>\n",
       "      <td>NaN</td>\n",
       "    </tr>\n",
       "    <tr>\n",
       "      <th>75%</th>\n",
       "      <td>0.000000</td>\n",
       "      <td>0.257330</td>\n",
       "      <td>6.141837</td>\n",
       "      <td>9.567110</td>\n",
       "      <td>9.613894</td>\n",
       "      <td>11.342159</td>\n",
       "      <td>9.174269</td>\n",
       "      <td>1.159312</td>\n",
       "      <td>11.189802</td>\n",
       "      <td>14.749339</td>\n",
       "      <td>...</td>\n",
       "      <td>NaN</td>\n",
       "      <td>NaN</td>\n",
       "      <td>NaN</td>\n",
       "      <td>NaN</td>\n",
       "      <td>NaN</td>\n",
       "      <td>NaN</td>\n",
       "      <td>NaN</td>\n",
       "      <td>NaN</td>\n",
       "      <td>NaN</td>\n",
       "      <td>NaN</td>\n",
       "    </tr>\n",
       "    <tr>\n",
       "      <th>max</th>\n",
       "      <td>1.000000</td>\n",
       "      <td>0.468225</td>\n",
       "      <td>9.735571</td>\n",
       "      <td>15.650962</td>\n",
       "      <td>13.736798</td>\n",
       "      <td>15.476952</td>\n",
       "      <td>13.020388</td>\n",
       "      <td>1.665225</td>\n",
       "      <td>15.249689</td>\n",
       "      <td>21.272002</td>\n",
       "      <td>...</td>\n",
       "      <td>NaN</td>\n",
       "      <td>NaN</td>\n",
       "      <td>NaN</td>\n",
       "      <td>NaN</td>\n",
       "      <td>NaN</td>\n",
       "      <td>NaN</td>\n",
       "      <td>NaN</td>\n",
       "      <td>NaN</td>\n",
       "      <td>NaN</td>\n",
       "      <td>NaN</td>\n",
       "    </tr>\n",
       "  </tbody>\n",
       "</table>\n",
       "<p>11 rows × 21 columns</p>\n",
       "</div>"
      ],
      "text/plain": [
       "                   Y            X1            X2            X3            X4  \\\n",
       "count   10000.000000  10000.000000  10000.000000  10000.000000  10000.000000   \n",
       "unique           NaN           NaN           NaN           NaN           NaN   \n",
       "top              NaN           NaN           NaN           NaN           NaN   \n",
       "freq             NaN           NaN           NaN           NaN           NaN   \n",
       "mean        0.150000      0.219998      5.368112      8.608544      8.658652   \n",
       "std         0.357089      0.056868      1.164691      1.416576      1.414721   \n",
       "min         0.000000     -0.026780      0.905713      2.418750      3.331149   \n",
       "25%         0.000000      0.181454      4.592732      7.662919      7.705792   \n",
       "50%         0.000000      0.219981      5.373140      8.599041      8.657755   \n",
       "75%         0.000000      0.257330      6.141837      9.567110      9.613894   \n",
       "max         1.000000      0.468225      9.735571     15.650962     13.736798   \n",
       "\n",
       "                  X5            X6            X7            X8            X9  \\\n",
       "count   10000.000000  10000.000000  10000.000000  10000.000000  10000.000000   \n",
       "unique           NaN           NaN           NaN           NaN           NaN   \n",
       "top              NaN           NaN           NaN           NaN           NaN   \n",
       "freq             NaN           NaN           NaN           NaN           NaN   \n",
       "mean       10.315210      8.339753      1.048381     10.139954     13.461909   \n",
       "std         1.499355      1.232685      0.166093      1.544179      1.891698   \n",
       "min         4.569676      3.497778      0.416426      3.609027      6.106315   \n",
       "25%         9.302691      7.496417      0.937231      9.094759     12.176467   \n",
       "50%        10.305086      8.331352      1.047099     10.131072     13.450765   \n",
       "75%        11.342159      9.174269      1.159312     11.189802     14.749339   \n",
       "max        15.476952     13.020388      1.665225     15.249689     21.272002   \n",
       "\n",
       "        ...    X11    X12    X13    X14    X15    X16    X17    X18    X19  \\\n",
       "count   ...  10000  10000  10000  10000  10000  10000  10000  10000  10000   \n",
       "unique  ...      2      2      4      4      4      3      3      4      3   \n",
       "top     ...      A      C      D      C      C      C      B      C      C   \n",
       "freq    ...   9856   6289   5001   6641   8930   9655   9888   5830   6501   \n",
       "mean    ...    NaN    NaN    NaN    NaN    NaN    NaN    NaN    NaN    NaN   \n",
       "std     ...    NaN    NaN    NaN    NaN    NaN    NaN    NaN    NaN    NaN   \n",
       "min     ...    NaN    NaN    NaN    NaN    NaN    NaN    NaN    NaN    NaN   \n",
       "25%     ...    NaN    NaN    NaN    NaN    NaN    NaN    NaN    NaN    NaN   \n",
       "50%     ...    NaN    NaN    NaN    NaN    NaN    NaN    NaN    NaN    NaN   \n",
       "75%     ...    NaN    NaN    NaN    NaN    NaN    NaN    NaN    NaN    NaN   \n",
       "max     ...    NaN    NaN    NaN    NaN    NaN    NaN    NaN    NaN    NaN   \n",
       "\n",
       "          X20  \n",
       "count   10000  \n",
       "unique      3  \n",
       "top         A  \n",
       "freq     6752  \n",
       "mean      NaN  \n",
       "std       NaN  \n",
       "min       NaN  \n",
       "25%       NaN  \n",
       "50%       NaN  \n",
       "75%       NaN  \n",
       "max       NaN  \n",
       "\n",
       "[11 rows x 21 columns]"
      ]
     },
     "execution_count": 9,
     "metadata": {},
     "output_type": "execute_result"
    }
   ],
   "source": [
    "# Quelques stats descriptives, quantitatives et qualitatives, met des NaN si incongru.\n",
    "df.describe(include='all')"
   ]
  },
  {
   "cell_type": "markdown",
   "id": "d7d6d59d",
   "metadata": {
    "tags": []
   },
   "source": [
    "Noter que `freq` indique le comptage de la modalité la plus fréquente."
   ]
  },
  {
   "cell_type": "code",
   "execution_count": 10,
   "id": "43d997ec",
   "metadata": {
    "tags": []
   },
   "outputs": [
    {
     "name": "stdout",
     "output_type": "stream",
     "text": [
      "X11:\n",
      "A    9856\n",
      "B     144\n",
      "Name: X11, dtype: int64\n",
      "----------------\n",
      "X12:\n",
      "C    6289\n",
      "B    3711\n",
      "Name: X12, dtype: int64\n",
      "----------------\n",
      "X13:\n",
      "D    5001\n",
      "C    4069\n",
      "B     544\n",
      "A     386\n",
      "Name: X13, dtype: int64\n",
      "----------------\n",
      "X14:\n",
      "C    6641\n",
      "D    2198\n",
      "B    1130\n",
      "A      31\n",
      "Name: X14, dtype: int64\n",
      "----------------\n",
      "X15:\n",
      "C    8930\n",
      "D     578\n",
      "B     451\n",
      "A      41\n",
      "Name: X15, dtype: int64\n",
      "----------------\n",
      "X16:\n",
      "C    9655\n",
      "B     298\n",
      "D      47\n",
      "Name: X16, dtype: int64\n",
      "----------------\n",
      "X17:\n",
      "B    9888\n",
      "A      59\n",
      "C      53\n",
      "Name: X17, dtype: int64\n",
      "----------------\n",
      "X18:\n",
      "C    5830\n",
      "D    3807\n",
      "B     350\n",
      "A      13\n",
      "Name: X18, dtype: int64\n",
      "----------------\n",
      "X19:\n",
      "C    6501\n",
      "B    3231\n",
      "A     268\n",
      "Name: X19, dtype: int64\n",
      "----------------\n",
      "X20:\n",
      "A    6752\n",
      "B    3155\n",
      "C      93\n",
      "Name: X20, dtype: int64\n",
      "----------------\n"
     ]
    }
   ],
   "source": [
    "# Combien de modalités pour chaque variable quali ?\n",
    "for colname, col in df.iloc[:, 11:21].items():  # .items() permet d'itérer sur les noms des colonnes et leurs contenus\n",
    "    print(colname + ':')\n",
    "    print(col.value_counts())\n",
    "    print('-' * 16)"
   ]
  },
  {
   "cell_type": "markdown",
   "id": "f64ff86b",
   "metadata": {
    "tags": []
   },
   "source": [
    "Séparons les différents types de variables :"
   ]
  },
  {
   "cell_type": "code",
   "execution_count": 11,
   "id": "a007cdc9",
   "metadata": {
    "tags": []
   },
   "outputs": [],
   "source": [
    "# Identification selon le type de variable\n",
    "defaut = df['Y'] \n",
    "quanti = df.iloc[:, 1:11]\n",
    "quali = df.iloc[:, 11:21]"
   ]
  },
  {
   "cell_type": "markdown",
   "id": "a7424263",
   "metadata": {},
   "source": [
    "### Standardisation des données quantitatives et codage des qualitatives\n",
    "\n",
    "On ne travaille que très rarement sur des donnnées brutes. \n",
    "\n",
    "Pour des  **variables quantitatives**, il est important des les  **standardiser** (centrer et réduire) afin de les ramener à  des échelles comparables. Cela diminue également les problèmes numériques. "
   ]
  },
  {
   "cell_type": "markdown",
   "id": "bc6d078d",
   "metadata": {
    "tags": []
   },
   "source": [
    "Pour une **variable qualitative** ou **catégorielle**, il n'y a en général pas  d'ordre naturel de ses modalités. Donc il ne faut pas bêtement remplacer des catégories *A*, *B*, *C*,... par 1, 2, 3,... Le problème est que dans un modèle de régression, on va calculer par exemple des moyennes sur ces valeurs, mais en général *B* n'est pas la moyenne de *A* et *C* (alors que c'est le cas pour la valeur 2 par rapport à 1 et 3). Il nous faut alors un encodage qui est invariant à l'ordre des modalités. On utilise  le **one-hot encoding** qui consiste à transformer une variable qualitative en plusieurs variables binaires dites **dummies**. Une variable avec K modalités est transformée en K-1 variables binaires. Chacune de ces variables binaires indique pour une catégorie spécifiée si la variable observée est égale à cette catégorie ou pas. Il suffit de K-1 variables binaires pour encoder K catégories, car l'information sur la K-ième catégorie peut être déduite des K-1 autres variables binaires. Donc, si on utilisait K variables binaires, on introduirait des corrélations entre les colonnes, ce qu'il faut éviter dans un cadre de régression."
   ]
  },
  {
   "cell_type": "markdown",
   "id": "b7985c72",
   "metadata": {},
   "source": [
    "### Exercice 2\n",
    "\n",
    "- Standardiser les données quantitatives.\n",
    "- Créer des dummies pour toutes les variables qualitatives avec la fonction `get_dummies` de `pandas` et l'option `drop_first=True`.\n",
    "- Créer un seul dataframe qu'on nommera `df_trav` contenant toutes les covariables transformées (quantitatives et qualitatives)."
   ]
  },
  {
   "cell_type": "code",
   "execution_count": 12,
   "id": "97150718",
   "metadata": {},
   "outputs": [],
   "source": [
    "# Your answer"
   ]
  },
  {
   "cell_type": "markdown",
   "id": "a83523ad",
   "metadata": {
    "tags": []
   },
   "source": [
    "### Réponse"
   ]
  },
  {
   "cell_type": "code",
   "execution_count": 13,
   "id": "4c49a734",
   "metadata": {
    "tags": []
   },
   "outputs": [],
   "source": [
    "# Reduction des variables quantitatives\n",
    "\n",
    "# Méthode directe \n",
    "quantiN = (quanti-quanti.mean())/quanti.std()\n",
    "\n",
    "## Méthode sophistiquée avec StandardScaler\n",
    "#from sklearn.preprocessing import StandardScaler\n",
    "#sc = StandardScaler()\n",
    "#quantiN = pd.DataFrame(sc.fit_transform(quanti), columns=quanti.columns)\n",
    "\n",
    "# Nouveau dataframe avec les var quanti normalisées\n",
    "df_trav = pd.concat([quantiN, quali], axis=1) \n"
   ]
  },
  {
   "cell_type": "code",
   "execution_count": 14,
   "id": "714429a2",
   "metadata": {
    "tags": []
   },
   "outputs": [
    {
     "data": {
      "text/html": [
       "<div>\n",
       "<style scoped>\n",
       "    .dataframe tbody tr th:only-of-type {\n",
       "        vertical-align: middle;\n",
       "    }\n",
       "\n",
       "    .dataframe tbody tr th {\n",
       "        vertical-align: top;\n",
       "    }\n",
       "\n",
       "    .dataframe thead th {\n",
       "        text-align: right;\n",
       "    }\n",
       "</style>\n",
       "<table border=\"1\" class=\"dataframe\">\n",
       "  <thead>\n",
       "    <tr style=\"text-align: right;\">\n",
       "      <th></th>\n",
       "      <th>X1</th>\n",
       "      <th>X2</th>\n",
       "      <th>X3</th>\n",
       "      <th>X4</th>\n",
       "      <th>X5</th>\n",
       "      <th>X6</th>\n",
       "      <th>X7</th>\n",
       "      <th>X8</th>\n",
       "      <th>X9</th>\n",
       "      <th>X10</th>\n",
       "      <th>...</th>\n",
       "      <th>X16_D</th>\n",
       "      <th>X17_B</th>\n",
       "      <th>X17_C</th>\n",
       "      <th>X18_B</th>\n",
       "      <th>X18_C</th>\n",
       "      <th>X18_D</th>\n",
       "      <th>X19_B</th>\n",
       "      <th>X19_C</th>\n",
       "      <th>X20_B</th>\n",
       "      <th>X20_C</th>\n",
       "    </tr>\n",
       "  </thead>\n",
       "  <tbody>\n",
       "    <tr>\n",
       "      <th>0</th>\n",
       "      <td>0.277237</td>\n",
       "      <td>0.468374</td>\n",
       "      <td>1.133534</td>\n",
       "      <td>0.305603</td>\n",
       "      <td>-0.970305</td>\n",
       "      <td>0.303394</td>\n",
       "      <td>0.696395</td>\n",
       "      <td>-0.077275</td>\n",
       "      <td>-0.126354</td>\n",
       "      <td>1.594991</td>\n",
       "      <td>...</td>\n",
       "      <td>0</td>\n",
       "      <td>1</td>\n",
       "      <td>0</td>\n",
       "      <td>0</td>\n",
       "      <td>1</td>\n",
       "      <td>0</td>\n",
       "      <td>0</td>\n",
       "      <td>1</td>\n",
       "      <td>1</td>\n",
       "      <td>0</td>\n",
       "    </tr>\n",
       "    <tr>\n",
       "      <th>1</th>\n",
       "      <td>0.930195</td>\n",
       "      <td>0.237422</td>\n",
       "      <td>-0.205192</td>\n",
       "      <td>-0.608451</td>\n",
       "      <td>1.255797</td>\n",
       "      <td>1.688643</td>\n",
       "      <td>-0.038943</td>\n",
       "      <td>0.166460</td>\n",
       "      <td>1.881459</td>\n",
       "      <td>-0.501581</td>\n",
       "      <td>...</td>\n",
       "      <td>0</td>\n",
       "      <td>1</td>\n",
       "      <td>0</td>\n",
       "      <td>0</td>\n",
       "      <td>0</td>\n",
       "      <td>1</td>\n",
       "      <td>0</td>\n",
       "      <td>1</td>\n",
       "      <td>0</td>\n",
       "      <td>0</td>\n",
       "    </tr>\n",
       "    <tr>\n",
       "      <th>2</th>\n",
       "      <td>1.117586</td>\n",
       "      <td>-0.414285</td>\n",
       "      <td>0.881428</td>\n",
       "      <td>0.174636</td>\n",
       "      <td>-0.309436</td>\n",
       "      <td>0.640716</td>\n",
       "      <td>0.335875</td>\n",
       "      <td>-0.282560</td>\n",
       "      <td>0.932573</td>\n",
       "      <td>0.084465</td>\n",
       "      <td>...</td>\n",
       "      <td>0</td>\n",
       "      <td>1</td>\n",
       "      <td>0</td>\n",
       "      <td>0</td>\n",
       "      <td>1</td>\n",
       "      <td>0</td>\n",
       "      <td>0</td>\n",
       "      <td>1</td>\n",
       "      <td>0</td>\n",
       "      <td>0</td>\n",
       "    </tr>\n",
       "    <tr>\n",
       "      <th>3</th>\n",
       "      <td>0.637761</td>\n",
       "      <td>0.034954</td>\n",
       "      <td>0.817509</td>\n",
       "      <td>0.259828</td>\n",
       "      <td>-0.389302</td>\n",
       "      <td>0.161397</td>\n",
       "      <td>1.336907</td>\n",
       "      <td>0.596255</td>\n",
       "      <td>0.855696</td>\n",
       "      <td>0.996680</td>\n",
       "      <td>...</td>\n",
       "      <td>0</td>\n",
       "      <td>1</td>\n",
       "      <td>0</td>\n",
       "      <td>0</td>\n",
       "      <td>1</td>\n",
       "      <td>0</td>\n",
       "      <td>0</td>\n",
       "      <td>1</td>\n",
       "      <td>0</td>\n",
       "      <td>0</td>\n",
       "    </tr>\n",
       "    <tr>\n",
       "      <th>4</th>\n",
       "      <td>-1.288494</td>\n",
       "      <td>1.237972</td>\n",
       "      <td>-0.165058</td>\n",
       "      <td>0.696065</td>\n",
       "      <td>-0.159595</td>\n",
       "      <td>-1.467550</td>\n",
       "      <td>1.561242</td>\n",
       "      <td>1.553602</td>\n",
       "      <td>-0.896771</td>\n",
       "      <td>1.196941</td>\n",
       "      <td>...</td>\n",
       "      <td>0</td>\n",
       "      <td>1</td>\n",
       "      <td>0</td>\n",
       "      <td>0</td>\n",
       "      <td>0</td>\n",
       "      <td>1</td>\n",
       "      <td>0</td>\n",
       "      <td>1</td>\n",
       "      <td>0</td>\n",
       "      <td>0</td>\n",
       "    </tr>\n",
       "  </tbody>\n",
       "</table>\n",
       "<p>5 rows × 32 columns</p>\n",
       "</div>"
      ],
      "text/plain": [
       "         X1        X2        X3        X4        X5        X6        X7  \\\n",
       "0  0.277237  0.468374  1.133534  0.305603 -0.970305  0.303394  0.696395   \n",
       "1  0.930195  0.237422 -0.205192 -0.608451  1.255797  1.688643 -0.038943   \n",
       "2  1.117586 -0.414285  0.881428  0.174636 -0.309436  0.640716  0.335875   \n",
       "3  0.637761  0.034954  0.817509  0.259828 -0.389302  0.161397  1.336907   \n",
       "4 -1.288494  1.237972 -0.165058  0.696065 -0.159595 -1.467550  1.561242   \n",
       "\n",
       "         X8        X9       X10  ...  X16_D  X17_B  X17_C  X18_B  X18_C  \\\n",
       "0 -0.077275 -0.126354  1.594991  ...      0      1      0      0      1   \n",
       "1  0.166460  1.881459 -0.501581  ...      0      1      0      0      0   \n",
       "2 -0.282560  0.932573  0.084465  ...      0      1      0      0      1   \n",
       "3  0.596255  0.855696  0.996680  ...      0      1      0      0      1   \n",
       "4  1.553602 -0.896771  1.196941  ...      0      1      0      0      0   \n",
       "\n",
       "   X18_D  X19_B  X19_C  X20_B  X20_C  \n",
       "0      0      0      1      1      0  \n",
       "1      1      0      1      0      0  \n",
       "2      0      0      1      0      0  \n",
       "3      0      0      1      0      0  \n",
       "4      1      0      1      0      0  \n",
       "\n",
       "[5 rows x 32 columns]"
      ]
     },
     "execution_count": 14,
     "metadata": {},
     "output_type": "execute_result"
    }
   ],
   "source": [
    "# On transforme les variables qualitatives en dummies\n",
    "df_trav = pd.get_dummies(df_trav, drop_first=True)  # .getdummies() n'agit que sur les var qualitatives et garde les quantitatives\n",
    "# Ne pas oublier 'drop_first=True' sinon on garde K dummies pour chaque variable qui a K modalités ! \n",
    "df_trav.head()"
   ]
  },
  {
   "cell_type": "code",
   "execution_count": 15,
   "id": "a96e8b51",
   "metadata": {
    "tags": []
   },
   "outputs": [
    {
     "data": {
      "text/html": [
       "<div>\n",
       "<style scoped>\n",
       "    .dataframe tbody tr th:only-of-type {\n",
       "        vertical-align: middle;\n",
       "    }\n",
       "\n",
       "    .dataframe tbody tr th {\n",
       "        vertical-align: top;\n",
       "    }\n",
       "\n",
       "    .dataframe thead th {\n",
       "        text-align: right;\n",
       "    }\n",
       "</style>\n",
       "<table border=\"1\" class=\"dataframe\">\n",
       "  <thead>\n",
       "    <tr style=\"text-align: right;\">\n",
       "      <th></th>\n",
       "      <th>X1</th>\n",
       "      <th>X2</th>\n",
       "      <th>X3</th>\n",
       "      <th>X4</th>\n",
       "      <th>X5</th>\n",
       "      <th>X6</th>\n",
       "      <th>X7</th>\n",
       "      <th>X8</th>\n",
       "      <th>X9</th>\n",
       "      <th>X10</th>\n",
       "      <th>...</th>\n",
       "      <th>X16_D</th>\n",
       "      <th>X17_B</th>\n",
       "      <th>X17_C</th>\n",
       "      <th>X18_B</th>\n",
       "      <th>X18_C</th>\n",
       "      <th>X18_D</th>\n",
       "      <th>X19_B</th>\n",
       "      <th>X19_C</th>\n",
       "      <th>X20_B</th>\n",
       "      <th>X20_C</th>\n",
       "    </tr>\n",
       "  </thead>\n",
       "  <tbody>\n",
       "    <tr>\n",
       "      <th>count</th>\n",
       "      <td>1.000000e+04</td>\n",
       "      <td>1.000000e+04</td>\n",
       "      <td>1.000000e+04</td>\n",
       "      <td>1.000000e+04</td>\n",
       "      <td>1.000000e+04</td>\n",
       "      <td>1.000000e+04</td>\n",
       "      <td>1.000000e+04</td>\n",
       "      <td>1.000000e+04</td>\n",
       "      <td>1.000000e+04</td>\n",
       "      <td>1.000000e+04</td>\n",
       "      <td>...</td>\n",
       "      <td>10000.000000</td>\n",
       "      <td>10000.000000</td>\n",
       "      <td>10000.000000</td>\n",
       "      <td>10000.000000</td>\n",
       "      <td>10000.000000</td>\n",
       "      <td>10000.000000</td>\n",
       "      <td>10000.000000</td>\n",
       "      <td>10000.000000</td>\n",
       "      <td>10000.000000</td>\n",
       "      <td>10000.000000</td>\n",
       "    </tr>\n",
       "    <tr>\n",
       "      <th>mean</th>\n",
       "      <td>2.980971e-15</td>\n",
       "      <td>6.965412e-15</td>\n",
       "      <td>9.959100e-15</td>\n",
       "      <td>1.306198e-14</td>\n",
       "      <td>-1.922769e-14</td>\n",
       "      <td>3.787526e-15</td>\n",
       "      <td>-1.518721e-14</td>\n",
       "      <td>-5.227063e-15</td>\n",
       "      <td>-2.404570e-14</td>\n",
       "      <td>-1.505751e-14</td>\n",
       "      <td>...</td>\n",
       "      <td>0.004700</td>\n",
       "      <td>0.988800</td>\n",
       "      <td>0.005300</td>\n",
       "      <td>0.035000</td>\n",
       "      <td>0.583000</td>\n",
       "      <td>0.380700</td>\n",
       "      <td>0.323100</td>\n",
       "      <td>0.650100</td>\n",
       "      <td>0.315500</td>\n",
       "      <td>0.009300</td>\n",
       "    </tr>\n",
       "    <tr>\n",
       "      <th>std</th>\n",
       "      <td>1.000000e+00</td>\n",
       "      <td>1.000000e+00</td>\n",
       "      <td>1.000000e+00</td>\n",
       "      <td>1.000000e+00</td>\n",
       "      <td>1.000000e+00</td>\n",
       "      <td>1.000000e+00</td>\n",
       "      <td>1.000000e+00</td>\n",
       "      <td>1.000000e+00</td>\n",
       "      <td>1.000000e+00</td>\n",
       "      <td>1.000000e+00</td>\n",
       "      <td>...</td>\n",
       "      <td>0.068399</td>\n",
       "      <td>0.105241</td>\n",
       "      <td>0.072612</td>\n",
       "      <td>0.183789</td>\n",
       "      <td>0.493088</td>\n",
       "      <td>0.485583</td>\n",
       "      <td>0.467684</td>\n",
       "      <td>0.476962</td>\n",
       "      <td>0.464738</td>\n",
       "      <td>0.095992</td>\n",
       "    </tr>\n",
       "    <tr>\n",
       "      <th>min</th>\n",
       "      <td>-4.339513e+00</td>\n",
       "      <td>-3.831401e+00</td>\n",
       "      <td>-4.369547e+00</td>\n",
       "      <td>-3.765763e+00</td>\n",
       "      <td>-3.832005e+00</td>\n",
       "      <td>-3.927989e+00</td>\n",
       "      <td>-3.804827e+00</td>\n",
       "      <td>-4.229386e+00</td>\n",
       "      <td>-3.888355e+00</td>\n",
       "      <td>-4.160211e+00</td>\n",
       "      <td>...</td>\n",
       "      <td>0.000000</td>\n",
       "      <td>0.000000</td>\n",
       "      <td>0.000000</td>\n",
       "      <td>0.000000</td>\n",
       "      <td>0.000000</td>\n",
       "      <td>0.000000</td>\n",
       "      <td>0.000000</td>\n",
       "      <td>0.000000</td>\n",
       "      <td>0.000000</td>\n",
       "      <td>0.000000</td>\n",
       "    </tr>\n",
       "    <tr>\n",
       "      <th>25%</th>\n",
       "      <td>-6.777903e-01</td>\n",
       "      <td>-6.657390e-01</td>\n",
       "      <td>-6.675431e-01</td>\n",
       "      <td>-6.735323e-01</td>\n",
       "      <td>-6.753027e-01</td>\n",
       "      <td>-6.841453e-01</td>\n",
       "      <td>-6.691990e-01</td>\n",
       "      <td>-6.768618e-01</td>\n",
       "      <td>-6.795179e-01</td>\n",
       "      <td>-6.657761e-01</td>\n",
       "      <td>...</td>\n",
       "      <td>0.000000</td>\n",
       "      <td>1.000000</td>\n",
       "      <td>0.000000</td>\n",
       "      <td>0.000000</td>\n",
       "      <td>0.000000</td>\n",
       "      <td>0.000000</td>\n",
       "      <td>0.000000</td>\n",
       "      <td>0.000000</td>\n",
       "      <td>0.000000</td>\n",
       "      <td>0.000000</td>\n",
       "    </tr>\n",
       "    <tr>\n",
       "      <th>50%</th>\n",
       "      <td>-2.995981e-04</td>\n",
       "      <td>4.317260e-03</td>\n",
       "      <td>-6.708338e-03</td>\n",
       "      <td>-6.338812e-04</td>\n",
       "      <td>-6.752042e-03</td>\n",
       "      <td>-6.815186e-03</td>\n",
       "      <td>-7.719327e-03</td>\n",
       "      <td>-5.752451e-03</td>\n",
       "      <td>-5.891373e-03</td>\n",
       "      <td>2.656663e-03</td>\n",
       "      <td>...</td>\n",
       "      <td>0.000000</td>\n",
       "      <td>1.000000</td>\n",
       "      <td>0.000000</td>\n",
       "      <td>0.000000</td>\n",
       "      <td>1.000000</td>\n",
       "      <td>0.000000</td>\n",
       "      <td>0.000000</td>\n",
       "      <td>1.000000</td>\n",
       "      <td>0.000000</td>\n",
       "      <td>0.000000</td>\n",
       "    </tr>\n",
       "    <tr>\n",
       "      <th>75%</th>\n",
       "      <td>6.564665e-01</td>\n",
       "      <td>6.643182e-01</td>\n",
       "      <td>6.766780e-01</td>\n",
       "      <td>6.752157e-01</td>\n",
       "      <td>6.849280e-01</td>\n",
       "      <td>6.769903e-01</td>\n",
       "      <td>6.678880e-01</td>\n",
       "      <td>6.798746e-01</td>\n",
       "      <td>6.805682e-01</td>\n",
       "      <td>6.827161e-01</td>\n",
       "      <td>...</td>\n",
       "      <td>0.000000</td>\n",
       "      <td>1.000000</td>\n",
       "      <td>0.000000</td>\n",
       "      <td>0.000000</td>\n",
       "      <td>1.000000</td>\n",
       "      <td>1.000000</td>\n",
       "      <td>1.000000</td>\n",
       "      <td>1.000000</td>\n",
       "      <td>1.000000</td>\n",
       "      <td>0.000000</td>\n",
       "    </tr>\n",
       "    <tr>\n",
       "      <th>max</th>\n",
       "      <td>4.364989e+00</td>\n",
       "      <td>3.749887e+00</td>\n",
       "      <td>4.971437e+00</td>\n",
       "      <td>3.589504e+00</td>\n",
       "      <td>3.442643e+00</td>\n",
       "      <td>3.797105e+00</td>\n",
       "      <td>3.713850e+00</td>\n",
       "      <td>3.309031e+00</td>\n",
       "      <td>4.128615e+00</td>\n",
       "      <td>4.127772e+00</td>\n",
       "      <td>...</td>\n",
       "      <td>1.000000</td>\n",
       "      <td>1.000000</td>\n",
       "      <td>1.000000</td>\n",
       "      <td>1.000000</td>\n",
       "      <td>1.000000</td>\n",
       "      <td>1.000000</td>\n",
       "      <td>1.000000</td>\n",
       "      <td>1.000000</td>\n",
       "      <td>1.000000</td>\n",
       "      <td>1.000000</td>\n",
       "    </tr>\n",
       "  </tbody>\n",
       "</table>\n",
       "<p>8 rows × 32 columns</p>\n",
       "</div>"
      ],
      "text/plain": [
       "                 X1            X2            X3            X4            X5  \\\n",
       "count  1.000000e+04  1.000000e+04  1.000000e+04  1.000000e+04  1.000000e+04   \n",
       "mean   2.980971e-15  6.965412e-15  9.959100e-15  1.306198e-14 -1.922769e-14   \n",
       "std    1.000000e+00  1.000000e+00  1.000000e+00  1.000000e+00  1.000000e+00   \n",
       "min   -4.339513e+00 -3.831401e+00 -4.369547e+00 -3.765763e+00 -3.832005e+00   \n",
       "25%   -6.777903e-01 -6.657390e-01 -6.675431e-01 -6.735323e-01 -6.753027e-01   \n",
       "50%   -2.995981e-04  4.317260e-03 -6.708338e-03 -6.338812e-04 -6.752042e-03   \n",
       "75%    6.564665e-01  6.643182e-01  6.766780e-01  6.752157e-01  6.849280e-01   \n",
       "max    4.364989e+00  3.749887e+00  4.971437e+00  3.589504e+00  3.442643e+00   \n",
       "\n",
       "                 X6            X7            X8            X9           X10  \\\n",
       "count  1.000000e+04  1.000000e+04  1.000000e+04  1.000000e+04  1.000000e+04   \n",
       "mean   3.787526e-15 -1.518721e-14 -5.227063e-15 -2.404570e-14 -1.505751e-14   \n",
       "std    1.000000e+00  1.000000e+00  1.000000e+00  1.000000e+00  1.000000e+00   \n",
       "min   -3.927989e+00 -3.804827e+00 -4.229386e+00 -3.888355e+00 -4.160211e+00   \n",
       "25%   -6.841453e-01 -6.691990e-01 -6.768618e-01 -6.795179e-01 -6.657761e-01   \n",
       "50%   -6.815186e-03 -7.719327e-03 -5.752451e-03 -5.891373e-03  2.656663e-03   \n",
       "75%    6.769903e-01  6.678880e-01  6.798746e-01  6.805682e-01  6.827161e-01   \n",
       "max    3.797105e+00  3.713850e+00  3.309031e+00  4.128615e+00  4.127772e+00   \n",
       "\n",
       "       ...         X16_D         X17_B         X17_C         X18_B  \\\n",
       "count  ...  10000.000000  10000.000000  10000.000000  10000.000000   \n",
       "mean   ...      0.004700      0.988800      0.005300      0.035000   \n",
       "std    ...      0.068399      0.105241      0.072612      0.183789   \n",
       "min    ...      0.000000      0.000000      0.000000      0.000000   \n",
       "25%    ...      0.000000      1.000000      0.000000      0.000000   \n",
       "50%    ...      0.000000      1.000000      0.000000      0.000000   \n",
       "75%    ...      0.000000      1.000000      0.000000      0.000000   \n",
       "max    ...      1.000000      1.000000      1.000000      1.000000   \n",
       "\n",
       "              X18_C         X18_D         X19_B         X19_C         X20_B  \\\n",
       "count  10000.000000  10000.000000  10000.000000  10000.000000  10000.000000   \n",
       "mean       0.583000      0.380700      0.323100      0.650100      0.315500   \n",
       "std        0.493088      0.485583      0.467684      0.476962      0.464738   \n",
       "min        0.000000      0.000000      0.000000      0.000000      0.000000   \n",
       "25%        0.000000      0.000000      0.000000      0.000000      0.000000   \n",
       "50%        1.000000      0.000000      0.000000      1.000000      0.000000   \n",
       "75%        1.000000      1.000000      1.000000      1.000000      1.000000   \n",
       "max        1.000000      1.000000      1.000000      1.000000      1.000000   \n",
       "\n",
       "              X20_C  \n",
       "count  10000.000000  \n",
       "mean       0.009300  \n",
       "std        0.095992  \n",
       "min        0.000000  \n",
       "25%        0.000000  \n",
       "50%        0.000000  \n",
       "75%        0.000000  \n",
       "max        1.000000  \n",
       "\n",
       "[8 rows x 32 columns]"
      ]
     },
     "execution_count": 15,
     "metadata": {},
     "output_type": "execute_result"
    }
   ],
   "source": [
    "# Noter qu'à présent toutes les variables sont quantitatives (plus besoin de l'option include=\"all\" dans la fonction `describe`)\n",
    "df_trav.describe()"
   ]
  },
  {
   "cell_type": "code",
   "execution_count": 16,
   "id": "d123b1cb",
   "metadata": {
    "tags": []
   },
   "outputs": [
    {
     "data": {
      "text/plain": [
       "X1       float64\n",
       "X2       float64\n",
       "X3       float64\n",
       "X4       float64\n",
       "X5       float64\n",
       "X6       float64\n",
       "X7       float64\n",
       "X8       float64\n",
       "X9       float64\n",
       "X10      float64\n",
       "X11_B      uint8\n",
       "X12_C      uint8\n",
       "X13_B      uint8\n",
       "X13_C      uint8\n",
       "X13_D      uint8\n",
       "X14_B      uint8\n",
       "X14_C      uint8\n",
       "X14_D      uint8\n",
       "X15_B      uint8\n",
       "X15_C      uint8\n",
       "X15_D      uint8\n",
       "X16_C      uint8\n",
       "X16_D      uint8\n",
       "X17_B      uint8\n",
       "X17_C      uint8\n",
       "X18_B      uint8\n",
       "X18_C      uint8\n",
       "X18_D      uint8\n",
       "X19_B      uint8\n",
       "X19_C      uint8\n",
       "X20_B      uint8\n",
       "X20_C      uint8\n",
       "dtype: object"
      ]
     },
     "execution_count": 16,
     "metadata": {},
     "output_type": "execute_result"
    }
   ],
   "source": [
    "df_trav.dtypes"
   ]
  },
  {
   "cell_type": "code",
   "execution_count": 17,
   "id": "31feab48",
   "metadata": {
    "tags": []
   },
   "outputs": [
    {
     "name": "stdout",
     "output_type": "stream",
     "text": [
      "['X1', 'X2', 'X3', 'X4', 'X5', 'X6', 'X7', 'X8', 'X9', 'X10', 'X11_B', 'X12_C', 'X13_B', 'X13_C', 'X13_D', 'X14_B', 'X14_C', 'X14_D', 'X15_B', 'X15_C', 'X15_D', 'X16_C', 'X16_D', 'X17_B', 'X17_C', 'X18_B', 'X18_C', 'X18_D', 'X19_B', 'X19_C', 'X20_B', 'X20_C']\n"
     ]
    }
   ],
   "source": [
    "# On enregistre les noms des colonnes\n",
    "features_names = df_trav.columns.tolist()\n",
    "print(features_names)"
   ]
  },
  {
   "cell_type": "markdown",
   "id": "bf1d419c",
   "metadata": {
    "tags": []
   },
   "source": [
    "On peut éventuellement sauvegarder notre jeu de données. Il est prêt à être analysé."
   ]
  },
  {
   "cell_type": "code",
   "execution_count": 18,
   "id": "d14a73ea",
   "metadata": {
    "tags": []
   },
   "outputs": [],
   "source": [
    "## Si on veut sauvegarder ce jeu de données dans un fichier\n",
    "\n",
    "#import pickle as pkl\n",
    "\n",
    "## Sauver le jeu de données dans un fichier \n",
    "#with open(os.path.join(path_travail, 'df_dumN.pkl'), 'wb') as f:\n",
    "#    pkl.dump({'features': df_trav, 'labels': defaut}, f)"
   ]
  },
  {
   "cell_type": "markdown",
   "id": "b602e638",
   "metadata": {},
   "source": [
    "### Échantillons d'apprentissage et de test"
   ]
  },
  {
   "cell_type": "code",
   "execution_count": 19,
   "id": "5af2ba9c",
   "metadata": {
    "tags": []
   },
   "outputs": [],
   "source": [
    "# On appelle les données : features X et variables à prédire Y \n",
    "X, Y = df_trav, defaut\n",
    "\n",
    "# Si on veut recharger le jeu de données depuis le fichier sauvegardé\n",
    "# Chargement base de travail\n",
    "#with open(os.path.join(path_travail, 'df_dumN.pkl'), 'rb') as f:\n",
    "#    data = pkl.load(f)  \n",
    "#X, Y = data['features'], data['labels']\n"
   ]
  },
  {
   "cell_type": "markdown",
   "id": "530e5232",
   "metadata": {},
   "source": [
    "On rappelle que la modélisation se fait en trois temps :\n",
    "- on sépare les données : TRAIN / TEST\n",
    "- on apprend le modèle sur TRAIN\n",
    "- on évalue la performance du modèle appris sur TEST\n",
    "\n",
    "On coupe les données de façon aléatoire en deux groupes. \n",
    "Le plus souvent, on les sépare  en 80% pour l'apprentissage et 20% pour le test. D'autres pourcentages courants sont 67-33 ou 50-50.\n",
    "On   utilise la  fonction `train_test_split` du package `sklearn.model_selection` pour séparer aléatoirement les données. \n",
    "\n",
    "Même si le split est aléatoire, on souhaite que les deux échantillons soient tous les deux représentatifs du problème. En particulier, on voudrait qu'ils contiennent le même pourcentage de labels 0 et 1, ce qui est notamment important quand  les labels ne sont pas équilibrés (pas 50-50).\n",
    "\n",
    "Ici, le taux de défaut, i.e. la proportion de clients qui n'ont pas remboursé leur crédit (y=1) dans la variable à prédire `Y` dans l'échantillon global est :"
   ]
  },
  {
   "cell_type": "code",
   "execution_count": 20,
   "id": "6e2653d6",
   "metadata": {},
   "outputs": [
    {
     "name": "stdout",
     "output_type": "stream",
     "text": [
      "Taux de cible: 15.00%\n"
     ]
    }
   ],
   "source": [
    "# Calculons le taux de cible\n",
    "tx_cible = Y.mean()\n",
    "# Affichons le taux de cible joliment\n",
    "print(\"Taux de cible: {taux:.2f}%\".format(taux=100 * tx_cible))"
   ]
  },
  {
   "cell_type": "markdown",
   "id": "c3463599",
   "metadata": {},
   "source": [
    "Le taux de défaut est bas, donc une coupe totalement aléatoire des données risque de produire des sous-échantillons où l'un des deux ne contient que  peu de labels qui valent 1. Cela peut être problématique pour l'apprentissage du modèle comme pour l'évaluation de la méthode.\n",
    "En pratique, dans des problèmes de classification, on force alors la même répartition des labels dans les deux échantillons TRAIN et TEST, via l'option `stratify`."
   ]
  },
  {
   "cell_type": "markdown",
   "id": "ffff3861",
   "metadata": {
    "tags": []
   },
   "source": [
    "### Exercice 3\n",
    "\n",
    "Utiliser la  fonction `train_test_split` du package `sklearn.model_selection` pour séparer les données en `train` et `test` avec 80% pour les données `train` et 20% pour les données `test`. On force la même répartition des labels dans les deux sous-échantillons.\n",
    "**Pour ce TP** fixons la graine du générateur aléatoire (via l'option `random_state=77`) afin que nous travaillons tous sur les mêmes données `train` et `test`. En effet,  la sélection de variables par pénalisation $\\ell_1$ est très instable et dépend énormément du split des données effectué. "
   ]
  },
  {
   "cell_type": "code",
   "execution_count": 21,
   "id": "3a34aa45",
   "metadata": {},
   "outputs": [],
   "source": [
    "# Your answer"
   ]
  },
  {
   "cell_type": "markdown",
   "id": "f31ecf95",
   "metadata": {
    "tags": []
   },
   "source": [
    "### Réponse"
   ]
  },
  {
   "cell_type": "code",
   "execution_count": 22,
   "id": "c13c157e",
   "metadata": {
    "tags": []
   },
   "outputs": [],
   "source": [
    "from sklearn.model_selection import train_test_split\n",
    "\n",
    "# split TRAIN / TEST\n",
    "X_train, X_test, Y_train, Y_test = train_test_split(X, Y, stratify=Y, test_size=0.2, random_state=77)"
   ]
  },
  {
   "cell_type": "code",
   "execution_count": 23,
   "id": "9c8660ee",
   "metadata": {
    "tags": []
   },
   "outputs": [
    {
     "name": "stdout",
     "output_type": "stream",
     "text": [
      "0.15 0.15\n"
     ]
    }
   ],
   "source": [
    "print(Y_train.mean(), Y_test.mean())"
   ]
  },
  {
   "cell_type": "markdown",
   "id": "b87bd9d5",
   "metadata": {},
   "source": [
    "On voit que les échantillons  `train` et `test` ont exactement le même taux de défaut."
   ]
  },
  {
   "cell_type": "markdown",
   "id": "0b154241",
   "metadata": {
    "tags": []
   },
   "source": [
    "## Apprentissage par régression logistique \n",
    "\n",
    "Pour commencer, on va apprendre, sur les données `train`, les coefficients de la régression logistique de `Y` sur l'ensemble des variables `X` (soit 32 variables). "
   ]
  },
  {
   "cell_type": "markdown",
   "id": "2467efd6",
   "metadata": {},
   "source": [
    "### Exercice 4\n",
    "- Utiliser la fonction `LogisticRegression` de `sklearn.linear_model` pour effectuer une régression logistique simple (i.e. sans pénalisation). Visualiser les coefficients estimés (intercept et variables).\n",
    "- Puis sur le jeu `test`, obtenez les probabilités de défaut de chaque individu (`predict_proba()`) et les prédictions (`predict()`) pour le seuil par défaut $t=1/2$. Utiliser la fonction `score` pour calculer le pourcentage de bien classés (`accuracy`). "
   ]
  },
  {
   "cell_type": "code",
   "execution_count": 24,
   "id": "3d4136e6",
   "metadata": {},
   "outputs": [],
   "source": [
    "# Your answer"
   ]
  },
  {
   "cell_type": "markdown",
   "id": "405f0a55",
   "metadata": {
    "tags": []
   },
   "source": [
    "### Réponse"
   ]
  },
  {
   "cell_type": "code",
   "execution_count": 25,
   "id": "a7ffb9f6",
   "metadata": {
    "tags": []
   },
   "outputs": [
    {
     "name": "stdout",
     "output_type": "stream",
     "text": [
      "[-4.80163553]\n",
      "[[-2.44169064 -0.75643293 -0.99434156  1.52825775 -2.90931141  3.22696682\n",
      "   1.38498266  1.74785366 -0.10014692 -1.51991655 -0.32050651 -0.17085596\n",
      "  -0.68425589  0.31668121  0.24104039  0.92732082  1.77676189  1.08461655\n",
      "  -0.29645656  0.51009921 -0.021259   -0.03515105 -0.32664204  0.1114121\n",
      "   0.73556872  0.18792272  0.26296812  1.08215005 -0.75996869 -0.04510942\n",
      "   0.35324737 -0.10225099]]\n"
     ]
    }
   ],
   "source": [
    "from sklearn.linear_model import LogisticRegression\n",
    "\n",
    "# Définition du modèle de régression logistique : sans pénalisation \n",
    "logreg = LogisticRegression(penalty='none', max_iter=1000) # sans l'option max_iter, on peut avoir un nb max d'itérations insuffisant pour atteindre la convergence\n",
    "# On estime les paramètres de ce modèle sur les données  \n",
    "logreg.fit(X_train, Y_train)\n",
    "\n",
    "# Résultats de la regression logistique\n",
    "# On visualise l'intercept b et les 32 coefficients w_i estimés pour les 32 variables \n",
    "print(logreg.intercept_)\n",
    "print(logreg.coef_)"
   ]
  },
  {
   "cell_type": "code",
   "execution_count": 26,
   "id": "4a3fd2dd",
   "metadata": {
    "tags": []
   },
   "outputs": [
    {
     "data": {
      "text/plain": [
       "array([[0.96507311, 0.03492689],\n",
       "       [0.93271557, 0.06728443],\n",
       "       [0.63241397, 0.36758603],\n",
       "       ...,\n",
       "       [0.81455821, 0.18544179],\n",
       "       [0.90925965, 0.09074035],\n",
       "       [0.85188901, 0.14811099]])"
      ]
     },
     "execution_count": 26,
     "metadata": {},
     "output_type": "execute_result"
    }
   ],
   "source": [
    "# Probabilités de non-défaut (y=0) et de défaut (y=1) pour chaque individu dans le jeu test \n",
    "logreg.predict_proba(X_test)"
   ]
  },
  {
   "cell_type": "code",
   "execution_count": 27,
   "id": "f0ccbb2c-cf70-4e18-95af-2e56885c2c2f",
   "metadata": {},
   "outputs": [
    {
     "data": {
      "text/plain": [
       "array([0, 1])"
      ]
     },
     "execution_count": 27,
     "metadata": {},
     "output_type": "execute_result"
    }
   ],
   "source": [
    "# Pour avoir l'ordre des classes dans le tableau\n",
    "logreg.classes_"
   ]
  },
  {
   "cell_type": "markdown",
   "id": "53ada7d9",
   "metadata": {
    "tags": []
   },
   "source": [
    "On obtient deux colonnes qui donnent les probas prédites pour les deux labels 0 et 1.\n",
    "On peut constater que pour certains individus, la prédiction est très tranchée (93% vs 7%) tandis que pour d'autres, la prédiction est beaucoup plus incertaine (52% vs 48%)."
   ]
  },
  {
   "cell_type": "code",
   "execution_count": 28,
   "id": "30526e91",
   "metadata": {
    "tags": []
   },
   "outputs": [
    {
     "name": "stdout",
     "output_type": "stream",
     "text": [
      "[0 0 0 ... 0 0 0]\n",
      "0.0475\n"
     ]
    }
   ],
   "source": [
    "# Prédiction du label sur nos données test - ici on applique le seuil t=1/2 sur les probas ci-dessus\n",
    "Y_pred =logreg.predict(X_test) \n",
    "print(Y_pred)\n",
    "print(Y_pred.mean())"
   ]
  },
  {
   "cell_type": "markdown",
   "id": "c914ebd1",
   "metadata": {
    "tags": []
   },
   "source": [
    "On constate qu'on prédit seulement 4,5% de défaut, alors que les jeux de données ont été stratifiés, donc on sait qu'il y a 15% de défaut dans les données TEST."
   ]
  },
  {
   "cell_type": "code",
   "execution_count": 29,
   "id": "3897901c",
   "metadata": {
    "tags": []
   },
   "outputs": [
    {
     "data": {
      "text/plain": [
       "0.8685"
      ]
     },
     "execution_count": 29,
     "metadata": {},
     "output_type": "execute_result"
    }
   ],
   "source": [
    "# Accuracy (i.e. pourcentage de bien classés) sur les données de test\n",
    "logreg.score(X_test,Y_test)\n",
    "\n",
    "## Autre façon d'obtenir la même chose :\n",
    "#from sklearn.metrics import accuracy_score\n",
    "\n",
    "#accuracy_score(Y_test,Y_pred)"
   ]
  },
  {
   "cell_type": "markdown",
   "id": "6237335a",
   "metadata": {
    "tags": []
   },
   "source": [
    "L'accuracy est bonne alors qu'on a peu de défaut prédit : c'est parce que les 0 sont très nombreux ! Un prédicteur constant à 0 donne une accuracy de 85% !"
   ]
  },
  {
   "cell_type": "code",
   "execution_count": 30,
   "id": "e100c9f2",
   "metadata": {
    "tags": []
   },
   "outputs": [
    {
     "data": {
      "text/plain": [
       "array([[1671,   29],\n",
       "       [ 234,   66]])"
      ]
     },
     "execution_count": 30,
     "metadata": {},
     "output_type": "execute_result"
    }
   ],
   "source": [
    "# Matrice de confusion \n",
    "from sklearn import metrics\n",
    "\n",
    "metrics.confusion_matrix(Y_test, Y_pred)"
   ]
  },
  {
   "cell_type": "markdown",
   "id": "efb6352a",
   "metadata": {},
   "source": [
    "### Courbes ROC et precision-recall\n",
    "À présent on veut regarder les performances du classifieur en faisant jouer des rôles non symétriques aux valeurs 0 et 1. En effet pour une banque, il est plus important d'identifier les vrais négatifs ($y=0$ et $\\hat y=0$ i.e. les clients à qui on va octroyer un crédit et qui vont effectivement le rembourser) alors qu'on peut se permettre d'avoir des faux positifs ($y=0$ et $\\hat y =1$ i.e. des clients à qui on n'accorde pas le crédit alors qu'ils l'auraient remboursé). \n",
    "\n",
    "Noter que du point de vue du client, les priorités ne sont pas les mêmes ! De même si on s'intéressait à un organisme social de micro-crédit, on voudrait au contraire limiter les faux positifs. Suivant le problème considéré toutes ces quantités (TP, FP, TN, FN) n'ont pas la même importance. "
   ]
  },
  {
   "cell_type": "markdown",
   "id": "9a3aef8a",
   "metadata": {
    "tags": []
   },
   "source": [
    "### Exercice 5\n",
    "\n",
    "- Tracer les courbes ROC et precision-recall obtenues sur le jeu `test`. \n",
    "- À titre de comparaison, on tracera aussi les mêmes courbes obtenues sur le jeu de données `train`. On rappelle que les performances du classifieur doivent toujours être calculées à partir d'un échantillon `test` indépendant du jeu de données `train` qui a servi à la construction du classifieur. Cependant il est utile de comparer les courbes ROC calculées avec la base `test` versus la base `train` pour détecter un sur-apprentissage potentiel. \n",
    "- On utilisera la librairie `matplotlib.pyplot` pour tracer les graphiques et les fonctions `roc_curve` et `auc` de `sklearn.metrics` pour calculer les points de la courbe ROC et l'AUC.  \n"
   ]
  },
  {
   "cell_type": "code",
   "execution_count": 31,
   "id": "1d376e6d",
   "metadata": {},
   "outputs": [],
   "source": [
    "# Your answer"
   ]
  },
  {
   "cell_type": "markdown",
   "id": "d7e9e665",
   "metadata": {
    "tags": []
   },
   "source": [
    "### Réponse"
   ]
  },
  {
   "cell_type": "code",
   "execution_count": 32,
   "id": "877dc5a6",
   "metadata": {
    "tags": []
   },
   "outputs": [
    {
     "name": "stdout",
     "output_type": "stream",
     "text": [
      "AUC sur test=0.76\n",
      "AUC sur train=0.79\n"
     ]
    },
    {
     "data": {
      "image/png": "[encoded data removed]",
      "text/plain": [
       "<Figure size 432x288 with 1 Axes>"
      ]
     },
     "metadata": {
      "needs_background": "light"
     },
     "output_type": "display_data"
    }
   ],
   "source": [
    "import matplotlib.pyplot as plt\n",
    "from sklearn.metrics import roc_curve, auc, precision_recall_curve\n",
    "\n",
    "# COURBES ROC ET AUC \n",
    "\n",
    "fig, ax = plt.subplots()\n",
    "ax.plot([0, 1], [0, 1], 'k--')\n",
    "plt.xlabel('False Positive Rate')\n",
    "plt.ylabel('True Positive Rate')\n",
    "plt.title('Receiver operating characteristic')\n",
    "\n",
    "# Sur le jeu de TEST, on reprend les scores prédits (probas que Y=1) \n",
    "scores_test= logreg.predict_proba(X_test)[:,1]\n",
    "fpr, tpr, _ = roc_curve(Y_test, scores_test) # on calcule les FPR et TPR pour tout un ensemble de seuils t non précisés\n",
    "ax.plot(fpr, tpr, label=f\"Test - AUC = %0.2f\" % auc(fpr, tpr))\n",
    "print('AUC sur test=%.2f' %metrics.auc(fpr, tpr))\n",
    "\n",
    "# La même courbe mais sur le jeu TRAIN\n",
    "scores_train= logreg.predict_proba(X_train)[:,1]\n",
    "fpr, tpr, _ = roc_curve(Y_train,scores_train)\n",
    "ax.plot(fpr, tpr, label=f\"Train - AUC = %0.2f\" % auc(fpr, tpr))\n",
    "print('AUC sur train=%.2f' %metrics.auc(fpr, tpr))\n",
    "\n",
    "fig.legend(loc=\"center right\")\n",
    "plt.show()"
   ]
  },
  {
   "cell_type": "code",
   "execution_count": 33,
   "id": "07cad69d",
   "metadata": {
    "tags": []
   },
   "outputs": [
    {
     "name": "stdout",
     "output_type": "stream",
     "text": [
      "ROC_AUC_Score sur test =0.76\n",
      "ROC_AUC_Score sur train=0.79\n"
     ]
    }
   ],
   "source": [
    "# Variante pour AUC-ROC\n",
    "from sklearn.metrics import roc_auc_score \n",
    "\n",
    "AUC_test = roc_auc_score(Y_test, scores_test)\n",
    "print('ROC_AUC_Score sur test =%.2f' %AUC_test)\n",
    "AUC_train = roc_auc_score(Y_train, scores_train)\n",
    "print('ROC_AUC_Score sur train=%.2f' %AUC_train)\n"
   ]
  },
  {
   "cell_type": "code",
   "execution_count": 34,
   "id": "72ff362e",
   "metadata": {
    "tags": []
   },
   "outputs": [
    {
     "data": {
      "image/png": "[encoded data removed]",
      "text/plain": [
       "<Figure size 432x288 with 1 Axes>"
      ]
     },
     "metadata": {
      "needs_background": "light"
     },
     "output_type": "display_data"
    }
   ],
   "source": [
    "# COURBES PRECISION-RECALL\n",
    "\n",
    "fig, ax = plt.subplots()\n",
    "ax.plot([0, 1], [1,0], 'k--')\n",
    "plt.xlabel('Recall')\n",
    "plt.ylabel('Precision')\n",
    "plt.title('Precision-Recall curve')\n",
    "\n",
    "# Sur le jeu de TEST :\n",
    "precision, recall, _ = precision_recall_curve(Y_test, scores_test)\n",
    "# Attention le recall est en abscisses et la précision en ordonnée\n",
    "ax.plot(recall, precision, label=f\"Test - AUC = %0.2f\" % metrics.auc(recall,precision)) \n",
    "# On calcule l'aire sous la courbe precision-recall exactement comme pour la courbe ROC\n",
    "\n",
    "# La même courbe mais sur le jeu TRAIN\n",
    "precision, recall, _ = precision_recall_curve(Y_train,scores_train)\n",
    "ax.plot(recall, precision, label=f\"Train - AUC = %0.2f\" % metrics.auc(recall,precision))\n",
    "\n",
    "fig.legend(loc=\"center right\")\n",
    "plt.show()"
   ]
  },
  {
   "cell_type": "markdown",
   "id": "894e2e0e",
   "metadata": {
    "tags": []
   },
   "source": [
    "**Remarques** : \n",
    "* les courbes ROC et Precision-Recall ne se lisent pas de la même façon.\n",
    "* Ici on a une AUC-PR très mauvaise. En effet, le classifieur a tendance à prédire beaucoup de 0 et les classes sont non équilibrées. \n"
   ]
  },
  {
   "cell_type": "markdown",
   "id": "7c3f6a8a",
   "metadata": {},
   "source": [
    "## Régression logistique avec pénalité Ridge\n",
    "\n",
    "Dans cette partie, on va utiliser une pénalité en norme 2 (dite $\\ell_2$ ou Ridge) sur les coefficients de la régression. Cette pénalité Ridge a tendance à \"rétrecir\" les valeurs des coefficients (on parle de shrinkage) et régularise la solution. "
   ]
  },
  {
   "cell_type": "markdown",
   "id": "25a278c1",
   "metadata": {
    "tags": []
   },
   "source": [
    "### Exercice 6\n",
    "\n",
    "- Mettre en oeuvre la régression logistique avec pénalité $\\ell_2$ sur les données d'apprentissage. On utilisera toujours la fonction `LogisticRegression`avec  l'option `penalty='l2'`. En plus, on utilisera une pénalité assez forte, p. ex. `C=0.01`. \n",
    "- Comparer les valeurs des coefficients avec le cas sans pénalité (visualisez l'effet de shrinkage). \n",
    "- Évaluer les performances du classifieur sur les données de test.\n",
    "- Pour les deux classifieurs (logreg et sa version pénalisée en norme 2), comparer les courbes de score sur les données `test` ainsi que les performances en termes de courbes (ROC ou precision-recall) et d'AUC. "
   ]
  },
  {
   "cell_type": "code",
   "execution_count": 35,
   "id": "aa409ffc",
   "metadata": {},
   "outputs": [],
   "source": [
    "# Your answer"
   ]
  },
  {
   "cell_type": "markdown",
   "id": "f076c1d5",
   "metadata": {
    "tags": []
   },
   "source": [
    "### Réponse"
   ]
  },
  {
   "cell_type": "code",
   "execution_count": 36,
   "id": "e8a6c4a9",
   "metadata": {
    "tags": []
   },
   "outputs": [
    {
     "name": "stdout",
     "output_type": "stream",
     "text": [
      "[-4.80163553]\n",
      "[-4.80163553]\n",
      "------\n",
      "[[-2.44169064 -0.75643293 -0.99434156  1.52825775 -2.90931141  3.22696682\n",
      "   1.38498266  1.74785366 -0.10014692 -1.51991655 -0.32050651 -0.17085596\n",
      "  -0.68425589  0.31668121  0.24104039  0.92732082  1.77676189  1.08461655\n",
      "  -0.29645656  0.51009921 -0.021259   -0.03515105 -0.32664204  0.1114121\n",
      "   0.73556872  0.18792272  0.26296812  1.08215005 -0.75996869 -0.04510942\n",
      "   0.35324737 -0.10225099]]\n",
      "[[-2.44169064 -0.75643293 -0.99434156  1.52825775 -2.90931141  3.22696682\n",
      "   1.38498266  1.74785366 -0.10014692 -1.51991655 -0.32050651 -0.17085596\n",
      "  -0.68425589  0.31668121  0.24104039  0.92732082  1.77676189  1.08461655\n",
      "  -0.29645656  0.51009921 -0.021259   -0.03515105 -0.32664204  0.1114121\n",
      "   0.73556872  0.18792272  0.26296812  1.08215005 -0.75996869 -0.04510942\n",
      "   0.35324737 -0.10225099]]\n"
     ]
    }
   ],
   "source": [
    "# Définition du modèle de régression logistique : pénalisation norme 2 \n",
    "logreg_l2 = LogisticRegression(penalty='l2', C=0.01, max_iter=1000)\n",
    "# On estime les paramètres de ce modèle sur les données \n",
    "logreg_l2.fit(X_train, Y_train)\n",
    "\n",
    "# Resultats de la regression logistique\n",
    "# On visualise l'intercept b et les 32 coefficients w_i estimés pour les 32 variables - On les compare aux précédents\n",
    "print(logreg.intercept_)\n",
    "print(logreg.intercept_ )\n",
    "print('------')\n",
    "print(logreg.coef_)\n",
    "print(logreg.coef_)"
   ]
  },
  {
   "cell_type": "code",
   "execution_count": 37,
   "id": "67e4f3e8",
   "metadata": {
    "tags": []
   },
   "outputs": [
    {
     "data": {
      "image/png": "[encoded data removed]",
      "text/plain": [
       "<Figure size 1080x720 with 1 Axes>"
      ]
     },
     "metadata": {
      "needs_background": "light"
     },
     "output_type": "display_data"
    }
   ],
   "source": [
    "# Visualisation des différences en valeur absolue\n",
    "\n",
    "# Declaring the figure (width, height)\n",
    "plt.figure(figsize=[15, 10])\n",
    "\n",
    "# Data to be plotted\n",
    "height = np.abs(np.concatenate(logreg.coef_)) # np.concatenate transforme un array en vecteur\n",
    "height_l2 = np.abs(np.concatenate(logreg.coef_))\n",
    "variables = X.columns\n",
    "x_pos = np.arange(len(variables))\n",
    "\n",
    "# Create bars\n",
    "plt.bar(x_pos, height, color = 'b', width = 0.25)\n",
    "plt.bar(x_pos+ 0.25, height_l2, color = 'g', width = 0.25)\n",
    "\n",
    "# Create names on the x-axis\n",
    "plt.xticks(x_pos,variables)\n",
    "\n",
    "# Creating the legend of the bars in the plot\n",
    "plt.legend(['No penalty', 'norm-2 penalty'])\n",
    "\n",
    "# Show graphic\n",
    "plt.show()"
   ]
  },
  {
   "cell_type": "markdown",
   "id": "890696da",
   "metadata": {
    "tags": []
   },
   "source": [
    "On constate l'effet de *shrinkage*. "
   ]
  },
  {
   "cell_type": "code",
   "execution_count": 38,
   "id": "9d096f01",
   "metadata": {
    "tags": []
   },
   "outputs": [
    {
     "data": {
      "image/png": "[encoded data removed]",
      "text/plain": [
       "<Figure size 432x288 with 1 Axes>"
      ]
     },
     "metadata": {
      "needs_background": "light"
     },
     "output_type": "display_data"
    }
   ],
   "source": [
    "# On trace les courbes de score sur les données de test pour nos deux classifieurs\n",
    "pred_test_l2 = pd.DataFrame({\n",
    "    'Y': Y_test, \n",
    "    'score' : logreg_l2.predict_proba(X_test)[:,1], \n",
    "    })\n",
    "\n",
    "pred_test = pd.DataFrame({\n",
    "    'Y': Y_test, \n",
    "    'score' : logreg.predict_proba(X_test)[:,1], \n",
    "    })\n",
    "\n",
    "# on ordonne les prédictions par score décroissant\n",
    "pred_test_l2 = pred_test_l2.sort_values(by='score', ascending=False) \n",
    "pred_test = pred_test.sort_values(by='score', ascending=False) \n",
    "\n",
    "plt.xlabel('individuals (score decreasing order)')\n",
    "plt.ylabel('score')\n",
    "\n",
    "# Courbes de scores \n",
    "plt.subplot()\n",
    "x = np.linspace(0, 1, len(pred_test.score))\n",
    "\n",
    "plt.plot(x, pred_test_l2.score, linewidth=2, color='r', label=f\"LogReg-Ridge\") \n",
    "plt.plot(x, pred_test.score, linewidth=2, color='b', label=f\"LogReg (no penalty)\") \n",
    "\n",
    "# repères \n",
    "plt.vlines(0.15,0,1,color='gray',linestyle='dashed') # 15% d'individus avec y=1\n",
    "plt.hlines(0.5,0,1,color='gray',linestyle='dashed') # seuil t=1/2\n",
    "\n",
    "plt.legend(loc=\"upper right\")\n",
    "plt.show()"
   ]
  },
  {
   "cell_type": "markdown",
   "id": "c3a06f69",
   "metadata": {
    "tags": []
   },
   "source": [
    "Ici on constate que les deux prédicteurs sont différents. La pénalisation donne des probabilités moins tranchées pour les deux classes, c'est-à-dire les scores élevés (resp. faibles) sont plus faibles (resp. plus forts) que pour la régression non pénalisée. Les 15% d'individus avec $y=1$ devraient être à gauche de la ligne grise verticale (score de défaut élevé) et la régression pénalisée $\\ell_2$ leur attribue un score inférieur à celui donné par la régression simple. La droite grise horizontale correspond au seuil $t=0.5$: dans une approches naive on prédit 1 si la probabilité calculée par le modèle (le score) dépasse 0.5.\n",
    "   "
   ]
  },
  {
   "cell_type": "code",
   "execution_count": 39,
   "id": "7c9cfbc2",
   "metadata": {
    "tags": []
   },
   "outputs": [
    {
     "data": {
      "image/png": "[encoded data removed]",
      "text/plain": [
       "<Figure size 432x288 with 1 Axes>"
      ]
     },
     "metadata": {
      "needs_background": "light"
     },
     "output_type": "display_data"
    }
   ],
   "source": [
    "# Comparons les deux classifieurs via leurs courbes ROC et les AUC-ROC\n",
    "\n",
    "fig, ax = plt.subplots()\n",
    "ax.plot([0, 1], [0, 1], 'k--')\n",
    "plt.xlabel('False Positive Rate')\n",
    "plt.ylabel('True Positive Rate')\n",
    "plt.title('Receiver operating characteristic')\n",
    "\n",
    "# Sur le jeu de TEST, on reprend les scores prédits (probas que Y=1) \n",
    "scores_test_l2 = logreg_l2.predict_proba(X_test)[:,1]\n",
    "Y_pred_l2= logreg_l2.predict(X_test)\n",
    "fpr, tpr, _ = roc_curve(Y_test, scores_test_l2) # on calcule les FPR et TPR pour tout un ensemble de seuils t non précisés\n",
    "ax.plot(fpr, tpr, label=f\"LogReg-Ridge - AUC = %0.2f\" % auc(fpr, tpr))\n",
    "\n",
    "scores_test= logreg.predict_proba(X_test)[:,1]\n",
    "fpr, tpr, _ = roc_curve(Y_test, scores_test) # on calcule les FPR et TPR pour tout un ensemble de seuils t non précisés\n",
    "ax.plot(fpr, tpr, label=f\"LogReg (no penalty) - AUC = %0.2f\" % auc(fpr, tpr))\n",
    "\n",
    "plt.legend(loc=\"lower right\")\n",
    "plt.show()"
   ]
  },
  {
   "cell_type": "markdown",
   "id": "0490a787",
   "metadata": {
    "tags": []
   },
   "source": [
    "Les performances sont les mêmes en termes d'AUC-ROC. Regardons ce qui se passe pour la courbe precision-recall."
   ]
  },
  {
   "cell_type": "code",
   "execution_count": 40,
   "id": "7ed86b51",
   "metadata": {
    "tags": []
   },
   "outputs": [
    {
     "data": {
      "image/png": "[encoded data removed]",
      "text/plain": [
       "<Figure size 432x288 with 1 Axes>"
      ]
     },
     "metadata": {
      "needs_background": "light"
     },
     "output_type": "display_data"
    }
   ],
   "source": [
    "# On compare maintenant les deux classifieurs via leurs courbes PR et les valeurs AUC-PR\n",
    "\n",
    "fig, ax = plt.subplots()\n",
    "ax.plot([0, 1], [1,0], 'k--')\n",
    "plt.xlabel('Recall')\n",
    "plt.ylabel('Precision')\n",
    "plt.title('Precision-Recall curve')\n",
    "\n",
    "# Sur le jeu de TEST \n",
    "# pour la prediction pénalisée en norme 2\n",
    "precision, recall, _ = precision_recall_curve(Y_test, scores_test_l2)\n",
    "ax.plot(recall, precision, label=f\"LogReg-Ridge - AUC = %0.2f\" % metrics.auc(recall,precision)) \n",
    "\n",
    "#  pour la prédiction sans pénalité \n",
    "precision, recall, _ = precision_recall_curve(Y_test, scores_test) \n",
    "ax.plot(recall, precision, label=f\"LogReg (no penalty) - AUC = %0.2f\" % metrics.auc(recall,precision))\n",
    "\n",
    "plt.legend(loc=\"upper right\")\n",
    "plt.show()"
   ]
  },
  {
   "cell_type": "markdown",
   "id": "0f9b7f69",
   "metadata": {
    "tags": []
   },
   "source": [
    "Là encore, on a les mêmes performances en termes d'AUC-PR."
   ]
  },
  {
   "cell_type": "markdown",
   "id": "c9f3853f",
   "metadata": {},
   "source": [
    "## Regression logistique avec sélection de variables\n",
    "\n",
    "Dans cette partie, on va mettre en oeuvre une pénalité $\\ell_1$ dans la régression logistique. Cela va nous permettre de faire de la sélection de variables : les variables peu informatives pour la prédiction ne seront plus du tout utilisées (coefficient $w_i$ estimé à 0). On espère ainsi améliorer les performances de notre prédicteur. "
   ]
  },
  {
   "cell_type": "markdown",
   "id": "87215176",
   "metadata": {},
   "source": [
    "### Exercice 7\n",
    "\n",
    "- Mettre en oeuvre la régression logistique avec pénalité $\\ell_1$ sur les données d'apprentissage (avec l'option le `solver='liblinear'`). On utilisera une pénalité assez forte (ex $C=0.01$). \n",
    "- Comparer les valeurs des coefficients avec le cas sans pénalité (visualisez l'effet d'annulation des coefficients). \n",
    "- Évaluer les performances du classifieur sur les données `test`.\n",
    "- Pour les deux classifieurs (logreg et sa version pénalisée en norme 1), comparer les courbes de score sur les données `test` ainsi que les performances en termes de courbes (ROC et precision-recall) et d'AUC. "
   ]
  },
  {
   "cell_type": "code",
   "execution_count": 41,
   "id": "a9f349cb",
   "metadata": {},
   "outputs": [],
   "source": [
    "# Your answer"
   ]
  },
  {
   "cell_type": "markdown",
   "id": "2a68fda4",
   "metadata": {
    "tags": []
   },
   "source": [
    "### Réponse"
   ]
  },
  {
   "cell_type": "code",
   "execution_count": 42,
   "id": "51e6559b",
   "metadata": {
    "tags": []
   },
   "outputs": [
    {
     "name": "stdout",
     "output_type": "stream",
     "text": [
      "[-1.50733075]\n",
      "------\n",
      "[[-2.44169064 -0.75643293 -0.99434156  1.52825775 -2.90931141  3.22696682\n",
      "   1.38498266  1.74785366 -0.10014692 -1.51991655 -0.32050651 -0.17085596\n",
      "  -0.68425589  0.31668121  0.24104039  0.92732082  1.77676189  1.08461655\n",
      "  -0.29645656  0.51009921 -0.021259   -0.03515105 -0.32664204  0.1114121\n",
      "   0.73556872  0.18792272  0.26296812  1.08215005 -0.75996869 -0.04510942\n",
      "   0.35324737 -0.10225099]]\n"
     ]
    }
   ],
   "source": [
    "# Définition du modèle de régression logistique : pénalisation norme 1 \n",
    "logreg_l1 = LogisticRegression(penalty='l1', solver='liblinear', C=0.01, max_iter=1000)\n",
    "# On estime les paramètres de ce modèle sur les données \n",
    "logreg_l1.fit(X_train, Y_train)\n",
    "\n",
    "# Resultats de la regression logistique pénalisée en norme 1\n",
    "# On visualise l'intercept b et les 32 coefficients w_i estimés pour les 32 variables \n",
    "print(logreg_l1.intercept_)\n",
    "print('------')\n",
    "print(logreg.coef_)"
   ]
  },
  {
   "cell_type": "markdown",
   "id": "dfbfa7a4",
   "metadata": {
    "tags": []
   },
   "source": [
    "On constate qu'un grand nombre de coefficients de la régression pénalisée $\\ell_1$ sont mis à 0."
   ]
  },
  {
   "cell_type": "code",
   "execution_count": 43,
   "id": "6349517c",
   "metadata": {
    "tags": []
   },
   "outputs": [
    {
     "data": {
      "image/png": "[encoded data removed]",
      "text/plain": [
       "<Figure size 1080x720 with 1 Axes>"
      ]
     },
     "metadata": {
      "needs_background": "light"
     },
     "output_type": "display_data"
    }
   ],
   "source": [
    "# Visualisation des différences en valeur absolue\n",
    "\n",
    "# Initialiser la figure [width, height]\n",
    "plt.figure(figsize=[15, 10])\n",
    "\n",
    "# Data to be plotted\n",
    "height = np.abs(np.concatenate(logreg.coef_)) # np.concatenate transforme un array en vecteur\n",
    "height_l2 = np.abs(np.concatenate(logreg.coef_))\n",
    "height_l1 = np.abs(np.concatenate(logreg.coef_))\n",
    "variables = X.columns\n",
    "x_pos = np.arange(len(variables))\n",
    "\n",
    "# Create bars\n",
    "plt.bar(x_pos, height, color = 'b', width = 0.25)\n",
    "plt.bar(x_pos+ 0.25, height_l2, color = 'g', width = 0.25)\n",
    "plt.bar(x_pos+ 0.5, height_l1, color = 'red', width = 0.25)\n",
    "\n",
    "# Create names on the x-axis\n",
    "plt.xticks(x_pos,variables)\n",
    "\n",
    "# Creating the legend of the bars in the plot\n",
    "plt.legend(['No penalty', 'norm-2 penalty','norm-1 penalty'])\n",
    "\n",
    "# Show graphic\n",
    "plt.show()"
   ]
  },
  {
   "cell_type": "code",
   "execution_count": 44,
   "id": "06140315",
   "metadata": {
    "tags": []
   },
   "outputs": [
    {
     "data": {
      "image/png": "[encoded data removed]",
      "text/plain": [
       "<Figure size 432x288 with 1 Axes>"
      ]
     },
     "metadata": {
      "needs_background": "light"
     },
     "output_type": "display_data"
    }
   ],
   "source": [
    "# On trace les courbes de score sur les données de test pour nos deux classifieurs (sans pénalité et pénalité en norme 1)\n",
    "\n",
    "pred_test_l1 = pd.DataFrame({\n",
    "    'Y': Y_test, \n",
    "    'score' : logreg.predict_proba(X_test)[:,1], \n",
    "    })\n",
    "\n",
    "# on ordonne les prédictions par score décroissant\n",
    "pred_test_l1 = pred_test_l1.sort_values(by='score', ascending=False) \n",
    "\n",
    "plt.xlabel('individuals (score decreasing order)')\n",
    "plt.ylabel('score')\n",
    "\n",
    "# Courbes de scores \n",
    "plt.subplot()\n",
    "x = np.linspace(0, 1, len(pred_test.score))\n",
    "\n",
    "plt.plot(x, pred_test_l1.score, linewidth=2, color='r', label=f\"LogReg-L1-penalty\") \n",
    "plt.plot(x, pred_test_l2.score, linewidth=2, color='green', label=f\"LogReg-L2-penalty\") \n",
    "plt.plot(x, pred_test.score, linewidth=2, color='b', label=f\"LogReg (no penalty)\") \n",
    "\n",
    "# repères \n",
    "plt.vlines(0.15,0,1,color='gray',linestyle='dashed') # 15% d'individus avec y=1\n",
    "plt.hlines(0.5,0,1,color='gray',linestyle='dashed') # seuil t=1/2\n",
    "\n",
    "plt.legend(loc=\"upper right\")\n",
    "plt.show()"
   ]
  },
  {
   "cell_type": "markdown",
   "id": "7c592cf6",
   "metadata": {
    "tags": []
   },
   "source": [
    "Encore une fois, on constate que les deux prédicteurs sont différents. La pénalisation donne des probabilités moins tranchées pour les deux classes, i.e.  les scores élevés (resp. faibles) sont plus faibles (resp. plus forts) que pour la régression non pénalisée. Les 15% d'individus avec $y=1$ devraient être à gauche (score de défaut élevé) et la régression pénalisée $\\ell_1$ leur attribue un score inférieur à celui donné par la régression simple ou par la régression $\\ell_2$.  \n",
    "   "
   ]
  },
  {
   "cell_type": "code",
   "execution_count": 45,
   "id": "3ec45efa",
   "metadata": {
    "tags": []
   },
   "outputs": [
    {
     "data": {
      "image/png": "[encoded data removed]",
      "text/plain": [
       "<Figure size 432x288 with 1 Axes>"
      ]
     },
     "metadata": {
      "needs_background": "light"
     },
     "output_type": "display_data"
    }
   ],
   "source": [
    "# Comparons les classifieurs via leurs courbes ROC et les AUC-ROC\n",
    "\n",
    "fig, ax = plt.subplots()\n",
    "ax.plot([0, 1], [0, 1], 'k--')\n",
    "plt.xlabel('False Positive Rate')\n",
    "plt.ylabel('True Positive Rate')\n",
    "plt.title('Receiver operating characteristic')\n",
    "\n",
    "# Sur le jeu de TEST, on reprend les scores prédits (probas que Y=1) \n",
    "scores_test_l1= logreg_l1.predict_proba(X_test)[:,1]\n",
    "Y_pred_l1= logreg_l1.predict(X_test)\n",
    "fpr, tpr, _ = roc_curve(Y_test, scores_test_l1) # on calcule les FPR et TPR pour tout un ensemble de seuils t non précisés\n",
    "ax.plot(fpr, tpr, color='r',label=f\"LogReg-L1-penalty - AUC = %0.2f\" % auc(fpr, tpr))\n",
    "\n",
    "# courbe ROC régression simple\n",
    "fpr, tpr, _ = roc_curve(Y_test, scores_test) # on calcule les FPR et TPR pour tout un ensemble de seuils t non précisés\n",
    "ax.plot(fpr, tpr, color='b',label=f\"LogReg (no penalty) - AUC = %0.2f\" % auc(fpr, tpr))\n",
    "\n",
    "# courbe ROC régression pénalisée L2\n",
    "fpr, tpr, _ = roc_curve(Y_test, scores_test_l2) # on calcule les FPR et TPR pour tout un ensemble de seuils t non précisés\n",
    "ax.plot(fpr, tpr, color='green',label=f\"LogReg (no penalty) - AUC = %0.2f\" % auc(fpr, tpr))\n",
    "\n",
    "\n",
    "plt.legend(loc=\"lower right\")\n",
    "plt.show()"
   ]
  },
  {
   "cell_type": "markdown",
   "id": "50c58a9b",
   "metadata": {
    "tags": []
   },
   "source": [
    "Les performances sont légèrement moins bonnes en termes d'AUC-ROC. Regardons ce qui se passe pour la courbe precision-recall."
   ]
  },
  {
   "cell_type": "code",
   "execution_count": 46,
   "id": "3a28af76",
   "metadata": {
    "tags": []
   },
   "outputs": [
    {
     "data": {
      "image/png": "[encoded data removed]",
      "text/plain": [
       "<Figure size 432x288 with 1 Axes>"
      ]
     },
     "metadata": {
      "needs_background": "light"
     },
     "output_type": "display_data"
    }
   ],
   "source": [
    "# On compare maintenant les deux classifieurs via leurs courbes PR et les valeurs AUC-PR\n",
    "\n",
    "fig, ax = plt.subplots()\n",
    "ax.plot([0, 1], [1,0], 'k--')\n",
    "plt.xlabel('Recall')\n",
    "plt.ylabel('Precision')\n",
    "plt.title('Precision-Recall curve')\n",
    "\n",
    "# Sur le jeu de TEST \n",
    "# pour la prediction pénalisée en norme 1\n",
    "precision, recall, _ = precision_recall_curve(Y_test, scores_test_l1)\n",
    "ax.plot(recall, precision, color='r',label=f\"LogReg-L1-penalty - AUC = %0.2f\" % metrics.auc(recall,precision)) \n",
    "\n",
    "#  pour la prédiction sans pénalité \n",
    "precision, recall, _ = precision_recall_curve(Y_test, scores_test) \n",
    "ax.plot(recall, precision, color='b',label=f\"LogReg (no penalty) - AUC = %0.2f\" % metrics.auc(recall,precision))\n",
    "\n",
    "# pour la prediction pénalisée en norme 2\n",
    "precision, recall, _ = precision_recall_curve(Y_test, scores_test_l2)\n",
    "ax.plot(recall, precision, color='green',label=f\"LogReg-L2-penalty - AUC = %0.2f\" % metrics.auc(recall,precision)) \n",
    "\n",
    "plt.legend(loc=\"upper right\")\n",
    "plt.show()"
   ]
  },
  {
   "cell_type": "markdown",
   "id": "e2ff4a7d",
   "metadata": {
    "tags": []
   },
   "source": [
    "Là encore, on a des performances un peu dégradées pour la régression en pénalité $\\ell_1$ en termes d'AUC-PR."
   ]
  },
  {
   "cell_type": "markdown",
   "id": "f88d3ca2",
   "metadata": {},
   "source": [
    "### Chemins de régularisation pour la pénalité $\\ell_1$\n",
    "\n",
    "Dans cette partie, on va visualiser l'effet de la **constante de pénalité** sur l'évolution des coefficients $w_i$, à travers les **chemins de régularisation**. Lorsque la pénalité est très forte (i.e $C$ très petite), aucune  variable n'est sélectionnée (tous les coefficients $w_i$ sont estimés à 0). Dans ce cas, la fonction de régression logistique est constante (on a seulement l'intercept) et le lien entre $y$ et $X$ est très mal appris. Puis au fur et à mesure que $C$ augmente, on inclue de plus en plus de variables dans notre modèle de régression logistique. Lorsque $C$ est très grande, on ne pénalise plus et on retrouve les résultats de la régression logistique simple. "
   ]
  },
  {
   "cell_type": "markdown",
   "id": "f1035a03",
   "metadata": {},
   "source": [
    "### Exercice 8\n",
    "\n",
    "Fixer une grille de valeurs pour la constante $C$, fitter le modèle avec ces constantes et visualiser  les chemins de régularisations."
   ]
  },
  {
   "cell_type": "code",
   "execution_count": 47,
   "id": "e538d86a",
   "metadata": {
    "tags": []
   },
   "outputs": [
    {
     "name": "stdout",
     "output_type": "stream",
     "text": [
      "[1.00000000e-04 4.64158883e-04 2.15443469e-03 1.00000000e-02\n",
      " 4.64158883e-02 2.15443469e-01 1.00000000e+00 4.64158883e+00\n",
      " 2.15443469e+01 1.00000000e+02]\n"
     ]
    }
   ],
   "source": [
    "# On fabrique un ensemble de valeurs C entre 10^(-4) et 10^2\n",
    "c_path = np.logspace(-4, 2, 10)\n",
    "# c_path plus long ==> durée calcul plus longue\n",
    "print(c_path) \n"
   ]
  },
  {
   "cell_type": "code",
   "execution_count": 48,
   "id": "a5674538",
   "metadata": {
    "tags": []
   },
   "outputs": [
    {
     "data": {
      "image/png": "[encoded data removed]",
      "text/plain": [
       "<Figure size 720x576 with 1 Axes>"
      ]
     },
     "metadata": {
      "needs_background": "light"
     },
     "output_type": "display_data"
    }
   ],
   "source": [
    "# Chemin de régularisation \n",
    "logregC = LogisticRegression(penalty='l1', solver='liblinear')\n",
    "coeffs = []\n",
    "for c in c_path:\n",
    "    logregC.C = c\n",
    "    logregC.fit(X_train, Y_train)\n",
    "    coeffs.append(logregC.coef_.ravel().copy())\n",
    "\n",
    "coeffs = np.array(coeffs)\n",
    "plt.figure(figsize=(10, 8))\n",
    "plt.semilogx(c_path, coeffs)\n",
    "ymin, ymax = plt.ylim()\n",
    "plt.xlabel('C', fontsize=16)\n",
    "plt.xticks(fontsize=14)\n",
    "plt.ylabel('Coefficients', fontsize=16)\n",
    "plt.yticks(fontsize=14)\n",
    "plt.title('Evolution de chaque coef de la régression logistique '\n",
    "          'avec la penalisation L1', fontsize=16)\n",
    "\n",
    "plt.show()"
   ]
  },
  {
   "cell_type": "markdown",
   "id": "0fa7635b",
   "metadata": {},
   "source": [
    "## Validation croisée pour le choix de la constante de pénalité \n",
    "\n",
    "### Régression logistique avec sélection de variables (pénalité $\\ell_1$ + validation croisée)\n",
    "\n",
    "À chaque fois qu'on utilise une pénalité, il faut choisir la constante de pénalisation. \n",
    "Attention : la fonction `LogisticRegression` ne sait pas choisir la constante de pénalisation, qui par défaut est fixée à 1. Ce choix est parfaitement débile (car il ne correspond à rien) et n'a aucune raison d'être utilisé. \n",
    "\n",
    "Dans cette partie, on va mettre en oeuvre le choix de la constante de pénalisation par **validation croisée**. \n",
    "Nous le ferons dans le cadre d'une pénalité $\\ell_1$, mais on pourrait faire exactement la même chose avec un autre type de pénalité. \n"
   ]
  },
  {
   "cell_type": "markdown",
   "id": "b7f01c7d",
   "metadata": {},
   "source": [
    "### Exercice 9\n",
    "\n",
    "Utiliser la fonction `LogisticRegressionCV` pour sélectionner automatiquement par validation croisée  la constante $C$ de pénalité dans un modèle de régression logistique avec pénalité $\\ell_1$. "
   ]
  },
  {
   "cell_type": "code",
   "execution_count": 49,
   "id": "e2e16f60",
   "metadata": {},
   "outputs": [],
   "source": [
    "# Your answer"
   ]
  },
  {
   "cell_type": "markdown",
   "id": "041ea2e2",
   "metadata": {
    "tags": []
   },
   "source": [
    "### Réponse"
   ]
  },
  {
   "cell_type": "code",
   "execution_count": 50,
   "id": "cfcd3f30",
   "metadata": {
    "tags": []
   },
   "outputs": [
    {
     "name": "stdout",
     "output_type": "stream",
     "text": [
      "[[0.5        0.72253749 0.76303926 0.77397552 0.78217578 0.78248346\n",
      "  0.78180635 0.78123511 0.78085245 0.78073114 0.78072453 0.78090097\n",
      "  0.78075099 0.78055911 0.78132885]\n",
      " [0.5        0.70276687 0.74634208 0.75868218 0.76805801 0.76956881\n",
      "  0.77046978 0.77051169 0.77065615 0.77065395 0.77071791 0.77070798\n",
      "  0.77066277 0.77054367 0.77065174]\n",
      " [0.5        0.7397286  0.78242498 0.79537952 0.80212489 0.80161297\n",
      "  0.80022396 0.79944285 0.79923654 0.79934466 0.79919351 0.79913394\n",
      "  0.79885922 0.79920565 0.79919351]]\n"
     ]
    }
   ],
   "source": [
    "from sklearn.linear_model import LogisticRegressionCV\n",
    "\n",
    "# Modèle de régression logistique avec pénalité l1 et validation croisée pour le choix automatique de la constante de pénalité C\n",
    "logreg_cv = LogisticRegressionCV(penalty='l1',\n",
    "                                 tol=1e-3,\n",
    "                                 Cs=np.logspace(-3, 5, 15), # grille de 15 valeurs pour C entre 10^-3 et 10^5\n",
    "                                 cv=3, # normalement CV avec 10 folds ; ici 3 pour gagner du temps\n",
    "                                 solver='liblinear',\n",
    "                                 # class_weight='balanced',\n",
    "                                 scoring='roc_auc') # le critère pour comparer les différents modèles par CV - Par défaut c'est l'accuracy\n",
    "logreg_cv.fit(X_train, Y_train)\n",
    "\n",
    "# résultats intermédiaires de calculs de ROC-AUC sur chacun des cv-folds\n",
    "crit = logreg_cv.scores_[1]\n",
    "print(crit)"
   ]
  },
  {
   "cell_type": "code",
   "execution_count": 51,
   "id": "c37934c8",
   "metadata": {
    "tags": []
   },
   "outputs": [
    {
     "data": {
      "text/plain": [
       "array([1.00000000e-03, 3.72759372e-03, 1.38949549e-02, 5.17947468e-02,\n",
       "       1.93069773e-01, 7.19685673e-01, 2.68269580e+00, 1.00000000e+01,\n",
       "       3.72759372e+01, 1.38949549e+02, 5.17947468e+02, 1.93069773e+03,\n",
       "       7.19685673e+03, 2.68269580e+04, 1.00000000e+05])"
      ]
     },
     "execution_count": 51,
     "metadata": {},
     "output_type": "execute_result"
    }
   ],
   "source": [
    "np.logspace(-3, 5, 15)"
   ]
  },
  {
   "cell_type": "code",
   "execution_count": 52,
   "id": "dda28e07",
   "metadata": {
    "tags": []
   },
   "outputs": [
    {
     "data": {
      "image/png": "[encoded data removed]",
      "text/plain": [
       "<Figure size 1080x720 with 1 Axes>"
      ]
     },
     "metadata": {
      "needs_background": "light"
     },
     "output_type": "display_data"
    }
   ],
   "source": [
    "# Visualisation du critère sur chaque fold pour les différentes valeurs de C\n",
    "\n",
    "# Declaring the figure (width, height)\n",
    "plt.figure(figsize=[15, 10])\n",
    "\n",
    "# X-axis\n",
    "variables = np.round(np.logspace(-3, 5, 15),2) # on arrondit les valeurs de C affichées\n",
    "x_pos = np.arange(len(variables))\n",
    "\n",
    "# Create bars\n",
    "plt.bar(x_pos, crit[0], color = 'b', width = 0.25)\n",
    "plt.bar(x_pos+ 0.25, crit[1], color = 'g', width = 0.25)\n",
    "plt.bar(x_pos+ 0.55, crit[2], color = 'r', width = 0.25)\n",
    "\n",
    "# Create names on the x-axis\n",
    "plt.xticks(x_pos,variables)\n",
    "\n",
    "# Creating the legend of the bars in the plot\n",
    "plt.legend(['ROC-AUC-1', 'ROC-AUC-2','ROC-AUC-3'])\n",
    "\n",
    "# Show graphic\n",
    "plt.show()\n"
   ]
  },
  {
   "cell_type": "markdown",
   "id": "616a9526",
   "metadata": {
    "tags": []
   },
   "source": [
    "Ci-dessus pour chacun des folds, on a la valeur du critère (ROC_AUC) pour chacune des 15 valeurs différentes de la constante C. La variabilité sur chacune des 3 répétitions est due à l'aléa. Lorsque $C$ est très petite, on pénalise beaucoup et le critère ROC-AUC n'est pas bon. Lorsque $C$ augmente, à partir d'un moment on n'améliore pas la valeur du critère. \n",
    "\n",
    "Ce qui nous intéresse, pour chaque valeur de C, c'est la valeur du critère moyennée sur les cv répétitions."
   ]
  },
  {
   "cell_type": "code",
   "execution_count": 53,
   "id": "d534061e",
   "metadata": {
    "tags": []
   },
   "outputs": [
    {
     "name": "stdout",
     "output_type": "stream",
     "text": [
      "[0.5        0.72167765 0.76393544 0.77601241 0.78411956 0.78455508\n",
      " 0.7841667  0.78372988 0.78358171 0.78357658 0.78354532 0.78358096\n",
      " 0.78342433 0.78343614 0.7837247 ]\n"
     ]
    },
    {
     "data": {
      "image/png": "[encoded data removed]",
      "text/plain": [
       "<Figure size 1080x720 with 1 Axes>"
      ]
     },
     "metadata": {
      "needs_background": "light"
     },
     "output_type": "display_data"
    }
   ],
   "source": [
    "# Visualisation du critère global de CV \n",
    "\n",
    "score_boot = crit.mean(axis=0)\n",
    "print(score_boot)\n",
    "\n",
    "# Declaring the figure (width, height)\n",
    "plt.figure(figsize=[15, 10])\n",
    "\n",
    "# X-axis\n",
    "#variables = np.logspace(-3, 5, 15)\n",
    "#x_pos = np.arange(len(variables))\n",
    "\n",
    "# Create bars\n",
    "plt.bar(x_pos, score_boot, color = 'b', width = 0.25)\n",
    "# Create names on the x-axis and title\n",
    "plt.xticks(x_pos,variables)\n",
    "plt.title('ROC-AUC-CV', fontsize=18)\n",
    "\n",
    "# Show graphic\n",
    "plt.show()\n"
   ]
  },
  {
   "cell_type": "markdown",
   "id": "eee064f1",
   "metadata": {
    "tags": []
   },
   "source": [
    "On voit bien que pour C=10^(-3), la pénalité est trop forte. On ne sélectionne aucune variable et on prédit au hasard (AUC-ROC=0,5).\n",
    "\n",
    "Quand C devient grand, la pénalité diminue, et on sur-ajuste le modèle. \n",
    "\n",
    "La valeur optimale (qui donne le plus grand ROC_AUC moyen) est obtenue directement:"
   ]
  },
  {
   "cell_type": "code",
   "execution_count": 54,
   "id": "1fef8f41",
   "metadata": {
    "tags": []
   },
   "outputs": [
    {
     "name": "stdout",
     "output_type": "stream",
     "text": [
      "C optimale = 0.7196856730011514\n"
     ]
    }
   ],
   "source": [
    "C_opt = logreg_cv.C_[0]\n",
    "print(\"C optimale =\", C_opt)"
   ]
  },
  {
   "cell_type": "markdown",
   "id": "49aebd66",
   "metadata": {},
   "source": [
    "### Exercice 10\n",
    "\n",
    "Il faut à présent apprendre le modèle (de régression logistique pénalisée en nomre 1) avec ce C optimal (car pour l'instant on a 3 classifieurs différents construits avec cette valeur sur chacun des folds et de toutes façons on y a pas accès !). Ensuite, tracer les courbes ROC et PR et les comparer au classifieur sans pénalité."
   ]
  },
  {
   "cell_type": "code",
   "execution_count": 55,
   "id": "b7eb86bb",
   "metadata": {},
   "outputs": [],
   "source": [
    "# Your answer"
   ]
  },
  {
   "cell_type": "markdown",
   "id": "bf2cf250",
   "metadata": {
    "tags": []
   },
   "source": [
    "### Réponse"
   ]
  },
  {
   "cell_type": "code",
   "execution_count": 56,
   "id": "ccc8bf63",
   "metadata": {
    "tags": []
   },
   "outputs": [
    {
     "data": {
      "text/plain": [
       "LogisticRegression(C=0.7196856730011514, max_iter=1000, penalty='l1',\n",
       "                   solver='liblinear')"
      ]
     },
     "execution_count": 56,
     "metadata": {},
     "output_type": "execute_result"
    }
   ],
   "source": [
    "# Régression logistique avec pénalisation norme 1 et constante optimale (choisie par CV)\n",
    "logreg_l1Coptim = LogisticRegression(penalty='l1', solver='liblinear', C=C_opt, max_iter=1000)\n",
    "# On estime les paramètres de ce modèle sur les données \n",
    "logreg_l1Coptim.fit(X_train, Y_train)"
   ]
  },
  {
   "cell_type": "markdown",
   "id": "ca16e0dc",
   "metadata": {},
   "source": [
    "Comparons le modèle complet sans pénalité avec le modèle pénalisé avec sélection automatique de la constante de pénalité"
   ]
  },
  {
   "cell_type": "code",
   "execution_count": 57,
   "id": "1a63276f",
   "metadata": {},
   "outputs": [
    {
     "data": {
      "image/png": "[encoded data removed]",
      "text/plain": [
       "<Figure size 432x288 with 1 Axes>"
      ]
     },
     "metadata": {
      "needs_background": "light"
     },
     "output_type": "display_data"
    }
   ],
   "source": [
    "# Comparons les classifieurs via leurs courbes ROC et les AUC-ROC\n",
    "\n",
    "fig, ax = plt.subplots()\n",
    "ax.plot([0, 1], [0, 1], 'k--')\n",
    "plt.xlabel('False Positive Rate')\n",
    "plt.ylabel('True Positive Rate')\n",
    "plt.title('Receiver operating characteristic')\n",
    "\n",
    "# Sur le jeu de TEST, on reprend les scores prédits (probas que Y=1) \n",
    "scores_test_l1Coptim= logreg_l1Coptim.predict_proba(X_test)[:,1]\n",
    "Y_pred_l1Coptim= logreg_l1Coptim.predict(X_test)\n",
    "fpr, tpr, _ = roc_curve(Y_test, scores_test_l1Coptim) # on calcule les FPR et TPR pour tout un ensemble de seuils t non précisés\n",
    "ax.plot(fpr, tpr, color='r',label=f\"LogReg-L1-penalty-Copt - AUC = %0.2f\" % auc(fpr, tpr))\n",
    "\n",
    "# courbe ROC régression simple\n",
    "fpr, tpr, _ = roc_curve(Y_test, scores_test) # on calcule les FPR et TPR pour tout un ensemble de seuils t non précisés\n",
    "ax.plot(fpr, tpr, color='b',label=f\"LogReg (no penalty) - AUC = %0.2f\" % auc(fpr, tpr))\n",
    "\n",
    "plt.legend(loc=\"lower right\")\n",
    "plt.show()"
   ]
  },
  {
   "cell_type": "markdown",
   "id": "0e0ca9a9",
   "metadata": {},
   "source": [
    "Les performances semblent identiques, mais la version pénalisée utilise beaucoup moins de variables. "
   ]
  },
  {
   "cell_type": "code",
   "execution_count": 58,
   "id": "64f12a8c",
   "metadata": {},
   "outputs": [
    {
     "data": {
      "image/png": "[encoded data removed]",
      "text/plain": [
       "<Figure size 432x288 with 1 Axes>"
      ]
     },
     "metadata": {
      "needs_background": "light"
     },
     "output_type": "display_data"
    }
   ],
   "source": [
    "# On compare maintenant les deux classifieurs via leurs courbes PR et les valeurs AUC-PR\n",
    "\n",
    "fig, ax = plt.subplots()\n",
    "ax.plot([0, 1], [1,0], 'k--')\n",
    "plt.xlabel('Recall')\n",
    "plt.ylabel('Precision')\n",
    "plt.title('Precision-Recall curve')\n",
    "\n",
    "# Sur le jeu de TEST \n",
    "# pour la prediction pénalisée en norme 1\n",
    "precision, recall, _ = precision_recall_curve(Y_test, scores_test_l1Coptim)\n",
    "ax.plot(recall, precision, color='r',label=f\"LogReg-L1-penalty-Coptim - AUC = %0.2f\" % metrics.auc(recall,precision)) \n",
    "\n",
    "#  pour la prédiction sans pénalité \n",
    "precision, recall, _ = precision_recall_curve(Y_test, scores_test) \n",
    "ax.plot(recall, precision, color='b',label=f\"LogReg (no penalty) - AUC = %0.2f\" % metrics.auc(recall,precision))\n",
    "\n",
    "plt.legend(loc=\"upper right\")\n",
    "plt.show()"
   ]
  },
  {
   "cell_type": "markdown",
   "id": "8207431a",
   "metadata": {},
   "source": [
    "## Aller plus loin\n",
    "\n",
    "On peut passer un temps infini à trouver le meilleur modèle. Globalement, on peut travailler sur deux parties : \n",
    "1. les variables en entrée : garder tous les features ? aussi ceux qui sont très corrélés ? et pour les variables qualitatives, garder tous les dummies ? ou regrouper des catégories de faible taille ?\n",
    "2. trouver les meilleurs hyperparamètres des modèles, en particulier par validation croisée excessive.\n",
    "\n",
    "A vous de jouer, si vous avez encore un peu d'énergie :-)"
   ]
  },
  {
   "cell_type": "code",
   "execution_count": null,
   "id": "010e0d90",
   "metadata": {},
   "outputs": [],
   "source": []
  }
 ],
 "metadata": {
  "kernelspec": {
   "display_name": "Python 3 (ipykernel)",
   "language": "python",
   "name": "python3"
  },
  "language_info": {
   "codemirror_mode": {
    "name": "ipython",
    "version": 3
   },
   "file_extension": ".py",
   "mimetype": "text/x-python",
   "name": "python",
   "nbconvert_exporter": "python",
   "pygments_lexer": "ipython3",
   "version": "3.9.7"
  },
  "toc-autonumbering": true,
  "toc-showmarkdowntxt": false,
  "toc-showtags": false
 },
 "nbformat": 4,
 "nbformat_minor": 5
}
